{
  "nbformat": 4,
  "nbformat_minor": 0,
  "metadata": {
    "colab": {
      "name": "00 Урок: Основы python.ipynb",
      "provenance": [],
      "collapsed_sections": [
        "xq5kwdSxKnJI",
        "mfOBRHXFKtK0",
        "jQx3L3OvSVbV",
        "XDGjSXeQQn6Z"
      ]
    },
    "kernelspec": {
      "name": "python3",
      "display_name": "Python 3"
    },
    "language_info": {
      "name": "python"
    }
  },
  "cells": [
    {
      "cell_type": "markdown",
      "metadata": {
        "id": "crIGAqxBGKGT"
      },
      "source": [
        "# Основы языка Python\n"
      ]
    },
    {
      "cell_type": "markdown",
      "metadata": {
        "id": "cFKFBKVxGQYx"
      },
      "source": [
        "## Описание языка и основные аспекты"
      ]
    },
    {
      "cell_type": "markdown",
      "metadata": {
        "id": "xq5kwdSxKnJI"
      },
      "source": [
        "### Знакомство с Python"
      ]
    },
    {
      "cell_type": "markdown",
      "metadata": {
        "id": "1xN5UcZdHBJA"
      },
      "source": [
        "[Python](https://www.python.org/) — высокоуровневый язык программирования, являющийся свободным программным продуктом. Повился в 1991 году. Он поддерживает несколько парадигм программирования, включая объектно-ориентированное и функциональное программирование.  \n",
        "\n",
        "---\n",
        "\n",
        "Некоторое время назад Python «раздвоился» — «старый» Python 2 и «новый» Python 3 оказались в значительной мере разными языками. В течение нескольких лет существовало оба языка исползовались одновременно и только совсем недавно большинство использующих Python людей перешло на исполььзование третьей версии.\n",
        "\n",
        "Для работы с технологиями искусственного интеллекта используется Python 3."
      ]
    },
    {
      "cell_type": "markdown",
      "metadata": {
        "id": "sQXVWesfHwEj"
      },
      "source": [
        "Рассмотрим как выглядит текст традиционной программы - знакомства с миром - на языке Python."
      ]
    },
    {
      "cell_type": "code",
      "metadata": {
        "colab": {
          "base_uri": "https://localhost:8080/"
        },
        "id": "xzsTT1ClH3eS",
        "outputId": "9893a2b8-f70b-4b0f-b3f4-b908484dfb1b"
      },
      "source": [
        "print(\"Hello World\")"
      ],
      "execution_count": null,
      "outputs": [
        {
          "output_type": "stream",
          "name": "stdout",
          "text": [
            "Hello World\n"
          ]
        }
      ]
    },
    {
      "cell_type": "markdown",
      "metadata": {
        "id": "3wdIbpJ9KAOS"
      },
      "source": [
        "Язык Python стал столь популярным в области научных исследований благодаря наличию многочисленных библиотек (модулей — modules).  \n",
        "Вот некоторые из набиолее известных модулей языка Python в области работы с машинным обучением и искусственным интеллектом:\n",
        "\n",
        "*   [Numpy](https://numpy.org/)\n",
        "*   [Pandas](https://pandas.pydata.org/)\n",
        "*   [Scikit-learn](https://scikit-learn.org/stable/)\n",
        "*   [Keras](https://keras.io/)\n",
        "\n",
        "Все модули являются свободным программы обеспечением, как и сам язык Python. "
      ]
    },
    {
      "cell_type": "markdown",
      "metadata": {
        "id": "mfOBRHXFKtK0"
      },
      "source": [
        "### Основные средства разработки"
      ]
    },
    {
      "cell_type": "markdown",
      "metadata": {
        "id": "R746mQTUKzJ3"
      },
      "source": [
        "Разработка на языке python ведётся с использованием двух основных форматов исполняемых файлов: \n",
        "\n",
        "\n",
        "*   .py\n",
        "*   .ipynb\n",
        "\n",
        "Файлы с расширением .py содержат исключительно исполняймый код языка Python (с возможными комментариями), тогда как файлы .ipynb являются сценарными оболчками для языка и визуализируются в виде \"тетрадок\" (*inetractive python notebook*). \n",
        "\n",
        "Вот пример стандартного кода из файла .py в среде Pycharm:\n",
        "![Пример стандартного кода из файла .py](https://drive.google.com/uc?id=1PNu5dcZ93j_e2wAobBVLMfiueRum0B4v) \n",
        "\n",
        "А вот так выглядит код файла .ipynb если открыть его в блокноте:\n",
        "![Вот пример стандартного кода из файла .py в среде Pycharm](https://drive.google.com/uc?id=1L7vdR1pt97rkQztMXz4AGao9twrqjZvK)\n",
        "\n",
        "В зависимости от того, нужно ли нам просто выполнить какой-либо анализ или написать код для использования в реальном приложении, целесообразно использовать и тот и тот формат написания python кода.\n",
        "\n"
      ]
    },
    {
      "cell_type": "markdown",
      "metadata": {
        "id": "FD7yH7N8Ol0m"
      },
      "source": [
        "Для разработки в представленных форматах мы рекомендуем следующее программное обеспечение:\n",
        "\n",
        "\n",
        "*   Для разработки с использованием файлов .py: [PyCharm](https://www.jetbrains.com/pycharm/) от JetBrains.\n",
        "*   Для разрабоки с использование файлов .ipynb: [Jupyter Notebook](https://jupyter.org/install)\n",
        "*   Для сетевой разработки с использованием барузера в формате .ipynb: [Google Colaboratory](https://colab.research.google.com/)\n",
        "\n"
      ]
    },
    {
      "cell_type": "markdown",
      "metadata": {
        "id": "Zmt9eSqlGZDd"
      },
      "source": [
        "## Простые команды в языке на примере работы с базовыми типами данных\n"
      ]
    },
    {
      "cell_type": "markdown",
      "metadata": {
        "id": "jQx3L3OvSVbV"
      },
      "source": [
        "### Однострочные и многострочные комментарии\n"
      ]
    },
    {
      "cell_type": "code",
      "metadata": {
        "colab": {
          "base_uri": "https://localhost:8080/"
        },
        "id": "_vWW53TsS1Km",
        "outputId": "ce68b4bb-732d-4c9d-b154-941154e79a5d"
      },
      "source": [
        "#Комментарии - основа для последющей работы с кодом. \n",
        "#В Питоне для записи комментариев используется символ # для однострочных комментариев и \n",
        "\n",
        "'''Это\n",
        "многострочный\n",
        "комментарий'''\n",
        "\n",
        "# этот print нужен для демонстрации многострочного комментария выше только при работе с .ipynb \n",
        "# мы позже поясним почему\n",
        "# print('')"
      ],
      "execution_count": null,
      "outputs": [
        {
          "output_type": "execute_result",
          "data": {
            "text/plain": [
              "'Это\\nмногострочный\\nкомментарий'"
            ],
            "application/vnd.google.colaboratory.intrinsic+json": {
              "type": "string"
            }
          },
          "metadata": {},
          "execution_count": 2
        }
      ]
    },
    {
      "cell_type": "markdown",
      "metadata": {
        "id": "XDGjSXeQQn6Z"
      },
      "source": [
        "### print()  \n",
        "\n",
        "Python позволяет достаточно удобно выводить на экран сложные комбинации слов и значений переменных, в том числе проводя дополнительные вычисления в процессе.  \n",
        "Прежде, чем разбираться с типами данных стоит на примерах посмотреть как работает команда `print`"
      ]
    },
    {
      "cell_type": "code",
      "metadata": {
        "colab": {
          "base_uri": "https://localhost:8080/"
        },
        "id": "d2bX85_AQioi",
        "outputId": "c70e5014-315c-470c-a78a-eb4a9c16c923"
      },
      "source": [
        "print('Мы вывели простую строку текста, которую сами написали: ')\n",
        "print('*****Впишите свою строку и она выведтся ниже')"
      ],
      "execution_count": null,
      "outputs": [
        {
          "output_type": "stream",
          "name": "stdout",
          "text": [
            "Мы вывели простую строку текста, которую сами написали: \n",
            "*****Впишите свою строку и она выведтся ниже\n"
          ]
        }
      ]
    },
    {
      "cell_type": "code",
      "metadata": {
        "colab": {
          "base_uri": "https://localhost:8080/"
        },
        "id": "SzrhaOFaRXbg",
        "outputId": "120719c1-6925-421b-c169-25649fbb29d7"
      },
      "source": [
        "print('Мы вывели две строки подрядк, которые сами написали: ')\n",
        "print('*****Это моя первая строка', '*****Это моя вторая строка через пробел после первой')"
      ],
      "execution_count": null,
      "outputs": [
        {
          "output_type": "stream",
          "name": "stdout",
          "text": [
            "Мы вывели две строки подрядк, которые сами написали: \n",
            "*****Это моя первая строка *****Это моя вторая строка через пробел после первой\n"
          ]
        }
      ]
    },
    {
      "cell_type": "code",
      "metadata": {
        "colab": {
          "base_uri": "https://localhost:8080/"
        },
        "id": "UxLk27CZRnFl",
        "outputId": "18d5426e-0e16-49fe-b2ba-e23bdbf41381"
      },
      "source": [
        "print('Мы вывели число, которое сами написали: ')\n",
        "print(5)"
      ],
      "execution_count": null,
      "outputs": [
        {
          "output_type": "stream",
          "name": "stdout",
          "text": [
            "Мы вывели число, которое сами написали: \n",
            "5\n"
          ]
        }
      ]
    },
    {
      "cell_type": "code",
      "metadata": {
        "colab": {
          "base_uri": "https://localhost:8080/"
        },
        "id": "HUzGPzA1Rt1_",
        "outputId": "f110100d-1c10-422d-9946-b625d5e83f47"
      },
      "source": [
        "print('Мы вывели число и строку одной командой: ')\n",
        "print('****Тут наша строка, затем пробел и число, верно?', 5)"
      ],
      "execution_count": null,
      "outputs": [
        {
          "output_type": "stream",
          "name": "stdout",
          "text": [
            "Мы вывели число и строку одной командой: \n",
            "****Тут наша строка, затем пробел и число, верно? 5\n"
          ]
        }
      ]
    },
    {
      "cell_type": "code",
      "metadata": {
        "colab": {
          "base_uri": "https://localhost:8080/"
        },
        "id": "XWeGgOxxR3J1",
        "outputId": "e67d4ce3-3cb3-4112-8d90-396a4d61ea93"
      },
      "source": [
        "print('А вот так мы комбинируем строки и числа в выоде: ')\n",
        "print(f'Это комбинация введённого числа {5} и строки, котору мы сами придумали.')"
      ],
      "execution_count": null,
      "outputs": [
        {
          "output_type": "stream",
          "name": "stdout",
          "text": [
            "А вот так мы комбинируем строки и числа в выоде: \n",
            "Это комбинация введённого числа 5 и строки, котору мы сами придумали.\n"
          ]
        }
      ]
    },
    {
      "cell_type": "code",
      "metadata": {
        "colab": {
          "base_uri": "https://localhost:8080/"
        },
        "id": "WlJOVyMCSBm3",
        "outputId": "901c2485-de04-44fb-cb1b-5188027bacba"
      },
      "source": [
        "a = 5\n",
        "print('Так же можно делать и с переменной')\n",
        "print(f'Это комбинация строки, котору мы пишем сами и значения переменной a, которое равно {a}')"
      ],
      "execution_count": null,
      "outputs": [
        {
          "output_type": "stream",
          "name": "stdout",
          "text": [
            "Так же можно делать и с переменной\n",
            "Это комбинация строки, котору мы пишем сами и значения переменной a, которое равно 5\n"
          ]
        }
      ]
    },
    {
      "cell_type": "markdown",
      "metadata": {
        "id": "i1yXOKMsToDF"
      },
      "source": [
        "Если у вас есть переменная, то её значение можно \"Распечатать\" при работе с форматом .ipynb просто написав её название или значение"
      ]
    },
    {
      "cell_type": "code",
      "metadata": {
        "colab": {
          "base_uri": "https://localhost:8080/"
        },
        "id": "bFKE9jT1Tm-c",
        "outputId": "d0b3142c-29f6-4dc8-973e-bf7a2b8f2071"
      },
      "source": [
        "a = 5\n",
        "a"
      ],
      "execution_count": null,
      "outputs": [
        {
          "output_type": "execute_result",
          "data": {
            "text/plain": [
              "5"
            ]
          },
          "metadata": {},
          "execution_count": 10
        }
      ]
    },
    {
      "cell_type": "code",
      "metadata": {
        "colab": {
          "base_uri": "https://localhost:8080/"
        },
        "id": "ssJPFiX_TysQ",
        "outputId": "7eb46cd6-1569-4c78-a15f-c3aff587de77"
      },
      "source": [
        "5"
      ],
      "execution_count": null,
      "outputs": [
        {
          "output_type": "execute_result",
          "data": {
            "text/plain": [
              "5"
            ]
          },
          "metadata": {},
          "execution_count": 11
        }
      ]
    },
    {
      "cell_type": "code",
      "source": [
        "#Ya: будет выведено только последне значение\n",
        "a = 6\n",
        "b = 7\n",
        "c = 8\n",
        "a\n",
        "b\n",
        "c"
      ],
      "metadata": {
        "colab": {
          "base_uri": "https://localhost:8080/"
        },
        "id": "nkWURqWHVCNS",
        "outputId": "245428bf-199d-4f32-f150-b431a7492c23"
      },
      "execution_count": null,
      "outputs": [
        {
          "output_type": "execute_result",
          "data": {
            "text/plain": [
              "8"
            ]
          },
          "metadata": {},
          "execution_count": 14
        }
      ]
    },
    {
      "cell_type": "markdown",
      "metadata": {
        "id": "VM3b9K1fTzmL"
      },
      "source": [
        "Имменно по-этому там, где мы демонстрировали комментарии, мы использовали дополниетльный `print()`. Иначе наш комментарий воспринимался сценарием как строка."
      ]
    },
    {
      "cell_type": "markdown",
      "metadata": {
        "id": "FVbm2N66UDV7"
      },
      "source": [
        "### Типы данных"
      ]
    },
    {
      "cell_type": "markdown",
      "metadata": {
        "id": "KKjp4jJfIVEj"
      },
      "source": [
        "Все типы данных в Python относятся к одной из 2-х категорий: изменяемые (mutable) и неизменяемые (immutable).\n",
        "\n",
        "**Неизменяемые объекты:**\n",
        "- числовые данные (int, float),\n",
        "- bool,\n",
        "- None,\n",
        "- символьные строки (class 'str'),\n",
        "- кортежи (tuple).\n",
        "\n",
        "**Изменяемые объекты:**\n",
        "- списки (list),\n",
        "- множества (set),\n",
        "- словари (dict)."
      ]
    },
    {
      "cell_type": "markdown",
      "metadata": {
        "id": "geYLUDf3UkUP"
      },
      "source": [
        "В Python используется утиная типизация. Для работы с переменными не нужно объявлять их тип, а достаточно просто присвоить значение. \n",
        "\n",
        "Принцип утиной типизации звучит следующим образом: \n",
        "\n",
        "```\n",
        "Если это выглядит как утка, плавает как утка и крякает как утка, то это, вероятно, и есть утка.\n",
        "```\n",
        "\n"
      ]
    },
    {
      "cell_type": "markdown",
      "metadata": {
        "id": "4Uqqb735IlyE"
      },
      "source": [
        "#### Int\n",
        "\n",
        "Целочисленный тип переменной.\n",
        "\n",
        "Чтобы задать переменную, не нужно указывать ее тип - достаточно присвоить ей значение. При этом тип определится автоматически."
      ]
    },
    {
      "cell_type": "code",
      "metadata": {
        "id": "Zl8okj4kIvbs",
        "colab": {
          "base_uri": "https://localhost:8080/"
        },
        "outputId": "212869ed-de08-4622-d009-7a045b3bc262"
      },
      "source": [
        "x = 5 # переменная типа int\n",
        "\n",
        "# Команда type выводит на экран тип переменной.\n",
        "\n",
        "print(f'У переменной x со значение {x} тип {type(x)}')"
      ],
      "execution_count": null,
      "outputs": [
        {
          "output_type": "stream",
          "name": "stdout",
          "text": [
            "У переменной x со значение 5 тип <class 'int'>\n"
          ]
        }
      ]
    },
    {
      "cell_type": "markdown",
      "metadata": {
        "id": "iQ2UbwqzJBwt"
      },
      "source": [
        "#### float\n",
        "\n",
        "Тип переменной для хранения дробных чисел."
      ]
    },
    {
      "cell_type": "code",
      "metadata": {
        "id": "KyjpLOg2JA1M",
        "colab": {
          "base_uri": "https://localhost:8080/"
        },
        "outputId": "a91ba33f-430f-41d0-c409-31c76caff05d"
      },
      "source": [
        "x = 5.5 # переменная типа float\n",
        "\n",
        "print(f'У переменной x со значение {x} тип {type(x)}')"
      ],
      "execution_count": null,
      "outputs": [
        {
          "output_type": "stream",
          "name": "stdout",
          "text": [
            "У переменной x со значение 5.5 тип <class 'float'>\n"
          ]
        }
      ]
    },
    {
      "cell_type": "markdown",
      "metadata": {
        "id": "orTGmhgaVWlx"
      },
      "source": [
        "#### str\n",
        "\n",
        "Тип переменной для хранения строк. Обратите внимание, что строки можно задавать и одинарыми и двойными кавычками. Это важно, когда внутри строки вы хотите вывести часть в кавычках."
      ]
    },
    {
      "cell_type": "code",
      "metadata": {
        "colab": {
          "base_uri": "https://localhost:8080/"
        },
        "id": "Bdbcq6vYVmDO",
        "outputId": "e6c46959-479e-4f5b-875b-20ef40294e65"
      },
      "source": [
        "str1 = 'b'\n",
        "str2 = \"aaa\"\n",
        "\n",
        "print(f'str1 это {type(str1)} cо значением {str1}. А str2 это {type(str2)} со значением {str2}')"
      ],
      "execution_count": null,
      "outputs": [
        {
          "output_type": "stream",
          "text": [
            "str1 это <class 'str'> cо значением b. А str2 это <class 'str'> со значением aaa\n"
          ],
          "name": "stdout"
        }
      ]
    },
    {
      "cell_type": "code",
      "metadata": {
        "colab": {
          "base_uri": "https://localhost:8080/"
        },
        "id": "BrJM81arWAVO",
        "outputId": "2536fbbc-e0b7-4eec-89f1-42ad8d05f931"
      },
      "source": [
        "print(f'Это строка, но внутри \"текст в кавычках\"')"
      ],
      "execution_count": null,
      "outputs": [
        {
          "output_type": "stream",
          "text": [
            "Это строка, но внутри \"текст в кавычках\"\n"
          ],
          "name": "stdout"
        }
      ]
    },
    {
      "cell_type": "code",
      "metadata": {
        "colab": {
          "base_uri": "https://localhost:8080/",
          "height": 129
        },
        "id": "NY8wfYA9WTY4",
        "outputId": "c6f171bd-6d29-4d4f-980d-335fa0dab28c"
      },
      "source": [
        "print(f\"А так не работает, хотя текст \"тоже в кавычках\"\")"
      ],
      "execution_count": null,
      "outputs": [
        {
          "output_type": "error",
          "ename": "SyntaxError",
          "evalue": "ignored",
          "traceback": [
            "\u001b[0;36m  File \u001b[0;32m\"<ipython-input-27-afbf787acbbd>\"\u001b[0;36m, line \u001b[0;32m1\u001b[0m\n\u001b[0;31m    print(f\"А так не работает, хотя текст \"тоже в кавычках\"\")\u001b[0m\n\u001b[0m                                              ^\u001b[0m\n\u001b[0;31mSyntaxError\u001b[0m\u001b[0;31m:\u001b[0m invalid syntax\n"
          ]
        }
      ]
    },
    {
      "cell_type": "code",
      "metadata": {
        "colab": {
          "base_uri": "https://localhost:8080/"
        },
        "id": "G7IlHG1qWcL4",
        "outputId": "1ebc2357-2110-4f82-feb8-bdc10400e88b"
      },
      "source": [
        "s = '''А ещё вы можете создавать многострочные переменные\n",
        "используя тройные кавычки'''\n",
        "print(s, '\\n')"
      ],
      "execution_count": null,
      "outputs": [
        {
          "output_type": "stream",
          "text": [
            "А ещё вы можете создавать многострочные переменные\n",
            "используя тройные кавычки \n",
            "\n"
          ],
          "name": "stdout"
        }
      ]
    },
    {
      "cell_type": "code",
      "metadata": {
        "colab": {
          "base_uri": "https://localhost:8080/"
        },
        "id": "YdB2hddpWfdF",
        "outputId": "3db06604-323b-4802-af83-1ca41c42f73b"
      },
      "source": [
        "s = 'Но также если вы великий писатель и ваши мысли не способна вместить видимая \\\n",
        "строка, вы можете поставить правый слеш и спокойно пиcать на следующей строке, \\\n",
        "то же самое относится и к написанию кода'\n",
        "print(s)"
      ],
      "execution_count": null,
      "outputs": [
        {
          "output_type": "stream",
          "text": [
            "Но также если вы великий писатель и ваши мысли не способна вместить видимая строка, вы можете поставить правый слеш и спокойно пиcать на следующей строке, то же самое относится и к написанию кода\n"
          ],
          "name": "stdout"
        }
      ]
    },
    {
      "cell_type": "markdown",
      "metadata": {
        "id": "eMjY98z6WxAO"
      },
      "source": [
        "#### bool\n",
        "Логическая переменная. Тут всё просто: истинно или ложно. 0 - ложно. Всё остальное - истинно. "
      ]
    },
    {
      "cell_type": "code",
      "metadata": {
        "colab": {
          "base_uri": "https://localhost:8080/"
        },
        "id": "kmgxqr-NWwLr",
        "outputId": "b9294df3-28ca-4d1a-dcec-1a3754f97609"
      },
      "source": [
        "a = True\n",
        "b = False\n",
        "\n",
        "print(f'Это простые логические переменные: a со значением {a} и b со значением {b}')"
      ],
      "execution_count": null,
      "outputs": [
        {
          "output_type": "stream",
          "text": [
            "Это простые логические переменные: a со значением True и b со значением False\n"
          ],
          "name": "stdout"
        }
      ]
    },
    {
      "cell_type": "markdown",
      "metadata": {
        "id": "MHNEKkPpXNJv"
      },
      "source": [
        "`isintance(<var>, <type>)` позволяет проверить, относится ли объект (а в Python всё является объектами) к заданному типу."
      ]
    },
    {
      "cell_type": "code",
      "metadata": {
        "colab": {
          "base_uri": "https://localhost:8080/"
        },
        "id": "ZOz8wEV6XaUJ",
        "outputId": "eb3d2a11-e821-4496-ab95-bacc6848f804"
      },
      "source": [
        "isinstance(a, bool)"
      ],
      "execution_count": null,
      "outputs": [
        {
          "output_type": "execute_result",
          "data": {
            "text/plain": [
              "True"
            ]
          },
          "metadata": {
            "tags": []
          },
          "execution_count": 35
        }
      ]
    },
    {
      "cell_type": "code",
      "metadata": {
        "colab": {
          "base_uri": "https://localhost:8080/"
        },
        "id": "EmIIX7syXdsq",
        "outputId": "aa808b49-9f72-4635-dc79-ed5d9ff38c36"
      },
      "source": [
        "isinstance(a, int)"
      ],
      "execution_count": null,
      "outputs": [
        {
          "output_type": "execute_result",
          "data": {
            "text/plain": [
              "True"
            ]
          },
          "metadata": {
            "tags": []
          },
          "execution_count": 37
        }
      ]
    },
    {
      "cell_type": "markdown",
      "metadata": {
        "id": "imvsfkLbXiYp"
      },
      "source": [
        "Обратите внимание, результат выводится на экран сразу же в случае, если после вызова метода/функции. \n",
        "Ну и bool является наследником int. Нам это не важно в рамках курса, но факт забавный."
      ]
    },
    {
      "cell_type": "markdown",
      "metadata": {
        "id": "jIvdBr-fX8eq"
      },
      "source": [
        "#### None\n",
        "\n",
        "Этот тип данных служит для отборажения пустоты. Он присваивается если у переменной нет значения."
      ]
    },
    {
      "cell_type": "code",
      "metadata": {
        "colab": {
          "base_uri": "https://localhost:8080/"
        },
        "id": "rstTk4VPYNKt",
        "outputId": "226f2c4e-79ad-4a5c-94d4-8637fbfaea45"
      },
      "source": [
        "a = None\n",
        "print(a, type(a))"
      ],
      "execution_count": null,
      "outputs": [
        {
          "output_type": "stream",
          "text": [
            "None <class 'NoneType'>\n"
          ],
          "name": "stdout"
        }
      ]
    },
    {
      "cell_type": "markdown",
      "metadata": {
        "id": "3gDpFrdLYh51"
      },
      "source": [
        "#### tuple (кортеж)\n",
        "\n",
        "Кортежи служат для хранения поледовательности неизменяемых значений и обозначаются круглыми скобками \n",
        "\n",
        "```\n",
        "()\n",
        "```\n",
        "Можжно обратиться к отдельным элементам кортежа через \n",
        "\n",
        "```\n",
        "var[Номер элемента]\n",
        "```\n",
        "\n",
        "\n",
        "\n"
      ]
    },
    {
      "cell_type": "code",
      "metadata": {
        "colab": {
          "base_uri": "https://localhost:8080/"
        },
        "id": "byeDuTkzYcny",
        "outputId": "73678acf-fb23-4a52-d067-fad4ab644413"
      },
      "source": [
        "tup = 1, 2, 3, 4, 5\n",
        "print(tup, type(tup))\n",
        "tup = (1, 2, 3, 4, 5)\n",
        "print(tup, type(tup))\n"
      ],
      "execution_count": null,
      "outputs": [
        {
          "output_type": "stream",
          "text": [
            "(1, 2, 3, 4, 5) <class 'tuple'>\n",
            "(1, 2, 3, 4, 5) <class 'tuple'>\n"
          ],
          "name": "stdout"
        }
      ]
    },
    {
      "cell_type": "code",
      "metadata": {
        "colab": {
          "base_uri": "https://localhost:8080/"
        },
        "id": "m09YZUvTY-00",
        "outputId": "78a2ac9d-673b-40da-e2c1-ab622718b336"
      },
      "source": [
        "# обратите внимание, переменная объявлена в предыдущей ячйке, но она есть и в текущей\n",
        "print(tup[0])"
      ],
      "execution_count": null,
      "outputs": [
        {
          "output_type": "stream",
          "text": [
            "1\n"
          ],
          "name": "stdout"
        }
      ]
    },
    {
      "cell_type": "code",
      "metadata": {
        "colab": {
          "base_uri": "https://localhost:8080/",
          "height": 180
        },
        "id": "7JOPfE-mZFdy",
        "outputId": "66cf50ed-d5a1-4444-c9b3-a179afe3b946"
      },
      "source": [
        "#объект неизменяемый, ничего не вышло\n",
        "tup[0] = 566"
      ],
      "execution_count": null,
      "outputs": [
        {
          "output_type": "error",
          "ename": "TypeError",
          "evalue": "ignored",
          "traceback": [
            "\u001b[0;31m---------------------------------------------------------------------------\u001b[0m",
            "\u001b[0;31mTypeError\u001b[0m                                 Traceback (most recent call last)",
            "\u001b[0;32m<ipython-input-46-a6d52e227948>\u001b[0m in \u001b[0;36m<module>\u001b[0;34m()\u001b[0m\n\u001b[1;32m      1\u001b[0m \u001b[0;31m#объект неизменяемый, ничего не вышло\u001b[0m\u001b[0;34m\u001b[0m\u001b[0;34m\u001b[0m\u001b[0;34m\u001b[0m\u001b[0m\n\u001b[0;32m----> 2\u001b[0;31m \u001b[0mtup\u001b[0m\u001b[0;34m[\u001b[0m\u001b[0;36m0\u001b[0m\u001b[0;34m]\u001b[0m \u001b[0;34m=\u001b[0m \u001b[0;36m566\u001b[0m\u001b[0;34m\u001b[0m\u001b[0;34m\u001b[0m\u001b[0m\n\u001b[0m",
            "\u001b[0;31mTypeError\u001b[0m: 'tuple' object does not support item assignment"
          ]
        }
      ]
    },
    {
      "cell_type": "markdown",
      "metadata": {
        "id": "_NCdXL-pZqrh"
      },
      "source": [
        "#### List\n",
        "\n",
        "Один из наиболее частоиспользуемых типов объектов - список или массив. Очень удобный инструмент для работы с данными. Может хранить объекты разных типов."
      ]
    },
    {
      "cell_type": "code",
      "metadata": {
        "colab": {
          "base_uri": "https://localhost:8080/"
        },
        "id": "gkOu_KyFZ3Sj",
        "outputId": "a075b5fc-60ef-4af4-eb79-f720171d634e"
      },
      "source": [
        "# создаём пустой список через []\n",
        "arr = []\n",
        "# добавляем число\n",
        "arr.append(1)\n",
        "# добавляем кортеж\n",
        "arr.append((1, 2))\n",
        "# добавляем строку \n",
        "arr.append('1 2 3')\n",
        "# смотрим что хранится \n",
        "print('1:', arr)"
      ],
      "execution_count": null,
      "outputs": [
        {
          "output_type": "stream",
          "text": [
            "1: [1, (1, 2), '1 2 3']\n"
          ],
          "name": "stdout"
        }
      ]
    },
    {
      "cell_type": "code",
      "metadata": {
        "colab": {
          "base_uri": "https://localhost:8080/"
        },
        "id": "zmcXK3qhZ6JK",
        "outputId": "e90f9fa4-59b1-4a19-ad22-2a26d1615ef1"
      },
      "source": [
        "#создаём список из строки через команду list(), он автоматически разделится на элементы списка\n",
        "arr = list('123467')\n",
        "print('2:', arr)\n",
        "\n",
        "#создаём список из строки поместив в него одну строку, она останется целиком в качестве элемента\n",
        "arr = ['1234567']\n",
        "print('3:', arr)\n",
        "\n",
        "#создаём список из нескольких элементов\n",
        "arr = ['5', 4]\n",
        "print('4: ', arr)\n"
      ],
      "execution_count": null,
      "outputs": [
        {
          "output_type": "stream",
          "text": [
            "2: ['1', '2', '3', '4', '6', '7']\n",
            "3: ['1234567']\n",
            "4:  ['5', 4]\n"
          ],
          "name": "stdout"
        }
      ]
    },
    {
      "cell_type": "markdown",
      "metadata": {
        "id": "9xc4phEqcwLq"
      },
      "source": [
        "##### Срезы для списков\n",
        "Срез - это способ работы с частью списка. Очень удобный механизм, который, однако, требует повышенного внимания, чтобы не ошибиться. \n",
        "\n",
        "Срезу для списка `A` берётся следующим образом:\n",
        "```\n",
        "A[начало:конец-1:шаг]\n",
        "```\n",
        "\n"
      ]
    },
    {
      "cell_type": "code",
      "metadata": {
        "colab": {
          "base_uri": "https://localhost:8080/"
        },
        "id": "SbKahuSFc6qW",
        "outputId": "38647c96-270e-4588-d7dc-74d5f7fe0806"
      },
      "source": [
        "#   -8 -7 -6 -5 -4 -3 -2 -1\n",
        "#    0  1  2  3  4  5  6  7\n",
        "A = [1, 2, 3, 4, 5, 6, 7, 8]\n",
        "\n",
        "\n",
        "print('От начала до (3-1=)2 элемента:', A[:3])\n",
        "print('От шестого элемента до конца:', A[6:])\n",
        "print('От 3-го элемента до 5-ого с шагом 1:', A[3:6:1])\n",
        "print('От первого элемента до 6-ого с шагом 1:', A[1:7:2])\n",
        "print('От конца до 4-го элемента с шагом 1:', A[-1:4]) #print(A[-1:4:1]) \n",
        "print('Ничего не вывелось, так как шаг положительный, а движение должно быть отрицательным')\n",
        "print('От конца до 4-го элемента с шагом -1:', A[-1:4:-1])\n",
        "print('От конца до -4 элемента с шагом -1:', A[-1:-4:1])\n",
        "print('Последний элемент в списке:', A[-1])\n",
        "print('От -7 элементам до конца:', A[-7:])"
      ],
      "execution_count": null,
      "outputs": [
        {
          "output_type": "stream",
          "text": [
            "От начала до (3-1=)2 элемента: [1, 2, 3]\n",
            "От шестого элемента до конца: [7, 8]\n",
            "От 3-го элемента до 5-ого с шагом 1: [4, 5, 6]\n",
            "От первого элемента до 6-ого с шагом 1: [2, 4, 6]\n",
            "От конца до 4-го элемента с шагом 1: []\n",
            "Ничего не вывелось, так как шаг положительный, а движение должно быть отрицательным\n",
            "От конца до 4-го элемента с шагом -1: [8, 7, 6]\n",
            "От конца до -4 элемента с шагом -1: []\n",
            "Последний элемент в списке: 8\n",
            "От -7 элементам до конца: [2, 3, 4, 5, 6, 7, 8]\n"
          ],
          "name": "stdout"
        }
      ]
    },
    {
      "cell_type": "markdown",
      "metadata": {
        "id": "pT_LUzxIfR2b"
      },
      "source": [
        "Обратите внимание, что срез из нескольких элементов имеет тип \"список\". Вы можете получить сам объект, хранейщся в списке (для единичного среза) через оператор \n",
        "\n",
        "```\n",
        "*\n",
        "```\n",
        "\n"
      ]
    },
    {
      "cell_type": "code",
      "metadata": {
        "colab": {
          "base_uri": "https://localhost:8080/"
        },
        "id": "HFhIeE0cf7ik",
        "outputId": "31b52341-d204-42ae-968e-72e3838e10af"
      },
      "source": [
        "print(A[-7:], 'имеет тип', type(A[-7:]))\n",
        "print(*A[-7:-6], 'имеет тип', type(*A[-7:-6]))"
      ],
      "execution_count": null,
      "outputs": [
        {
          "output_type": "stream",
          "text": [
            "[2, 3, 4, 5, 6, 7, 8] имеет тип <class 'list'>\n",
            "2 имеет тип <class 'int'>\n"
          ],
          "name": "stdout"
        }
      ]
    },
    {
      "cell_type": "markdown",
      "metadata": {
        "id": "1yzetndIgiVH"
      },
      "source": [
        "Срез в списке можно занмеять на другой список или элемент."
      ]
    },
    {
      "cell_type": "code",
      "metadata": {
        "colab": {
          "base_uri": "https://localhost:8080/"
        },
        "id": "ms8FPqVxgeYT",
        "outputId": "9668f52c-0dd9-47b1-b6ce-a04525bb4ea6"
      },
      "source": [
        "lst = [81, 64, 49, 36, 25, 16, 9, 4, 1, 0]\n",
        "lst[0:2] = [1, 2, 4, 8, 16, 32, 64, 128, 256]\n",
        "print(lst)"
      ],
      "execution_count": null,
      "outputs": [
        {
          "output_type": "stream",
          "text": [
            "[1, 2, 4, 8, 16, 32, 64, 128, 256, 49, 36, 25, 16, 9, 4, 1, 0]\n"
          ],
          "name": "stdout"
        }
      ]
    },
    {
      "cell_type": "code",
      "source": [
        "lst = [1, 2, 3, 4]\n",
        "lst[0:2] = [1, 2, 4, 8]\n",
        "print(lst)"
      ],
      "metadata": {
        "colab": {
          "base_uri": "https://localhost:8080/"
        },
        "id": "5GWNgDSY_oIj",
        "outputId": "0672d19a-7afa-4575-9692-c5b1189f8923"
      },
      "execution_count": null,
      "outputs": [
        {
          "output_type": "stream",
          "name": "stdout",
          "text": [
            "[1, 2, 4, 8, 3, 4]\n"
          ]
        }
      ]
    },
    {
      "cell_type": "markdown",
      "metadata": {
        "id": "vE8LdjhlgsNR"
      },
      "source": [
        "Со строками можно работать также, как со списками"
      ]
    },
    {
      "cell_type": "code",
      "metadata": {
        "colab": {
          "base_uri": "https://localhost:8080/"
        },
        "id": "Z1ocZr4TgyYE",
        "outputId": "a54623cc-4bc5-474c-bd98-4eb0f939d5fc"
      },
      "source": [
        "print(\"abcdefgh\"[1] + \"01234567\"[::2] + \"HGFEDCBA\"[1::2])"
      ],
      "execution_count": null,
      "outputs": [
        {
          "output_type": "stream",
          "text": [
            "b0246GECA\n"
          ],
          "name": "stdout"
        }
      ]
    },
    {
      "cell_type": "markdown",
      "metadata": {
        "id": "PSf2WG3Zg4Nr"
      },
      "source": [
        "#### Dict (ассоциативный массив)\n",
        "\n",
        "Словарь используется для хранение пары объектов вида: \n",
        "\n",
        "```\n",
        "<ключи>:<значение>\n",
        "```\n",
        "Это очень удобная форма хранения данных, называемая \"ассоцированный массив\".\n"
      ]
    },
    {
      "cell_type": "code",
      "metadata": {
        "colab": {
          "base_uri": "https://localhost:8080/"
        },
        "id": "0XWYCe5jhiVQ",
        "outputId": "90cc7162-c777-4e34-df8a-d0021d20d96f"
      },
      "source": [
        "# Создадим пустой словать Capitals\n",
        "Capitals = dict() #Capitals = {}\n",
        "\n",
        "# Заполним его несколькими значениями\n",
        "Capitals['Russia'] = 'Moscow'\n",
        "Capitals['Ukraine'] = 'Kiev'\n",
        "Capitals['USA'] = 'Washington'\n",
        "\n",
        "# Считаем название страны\n",
        "print('Введите текст, в какой стране вы живете?')\n",
        "country = input()\n",
        "\n",
        "# Проверим, есть ли такая страна в словаре Capitals\n",
        "if country in Capitals:\n",
        "    # Если есть - выведем ее столицу\n",
        "    print('Столица вашей страны', Capitals[country])\n",
        "else:\n",
        "    # Запросим название столицы и добавив его в словарь\n",
        "    print('Мы не нашли такую страну. Введите текст, как называется столица вашей страны?')\n",
        "    city = input()\n",
        "    Capitals[country] = city"
      ],
      "execution_count": null,
      "outputs": [
        {
          "output_type": "stream",
          "text": [
            "Введите текст, в какой стране вы живете?\n",
            "France\n",
            "Как называется столица вашей страны?\n",
            "Paris\n"
          ],
          "name": "stdout"
        }
      ]
    },
    {
      "cell_type": "code",
      "metadata": {
        "colab": {
          "base_uri": "https://localhost:8080/"
        },
        "id": "CszzAiojh5he",
        "outputId": "e9c8ab7e-313e-4310-a6f3-53a8be8263b1"
      },
      "source": [
        "print(Capitals)"
      ],
      "execution_count": null,
      "outputs": [
        {
          "output_type": "stream",
          "text": [
            "{'Russia': 'Moscow', 'Ukraine': 'Kiev', 'USA': 'Washington', 'France': 'Paris'}\n"
          ],
          "name": "stdout"
        }
      ]
    },
    {
      "cell_type": "markdown",
      "metadata": {
        "id": "WME8hCJfiTrE"
      },
      "source": [
        "Можно получать список ключей, значений и элементов (пар) словаря, используя специальный методы."
      ]
    },
    {
      "cell_type": "code",
      "metadata": {
        "colab": {
          "base_uri": "https://localhost:8080/"
        },
        "id": "9kiqR_1ciIHO",
        "outputId": "d6a9ae41-9af2-4d5f-9674-70ff6a22ca5a"
      },
      "source": [
        "print(Capitals.keys(), \"- Этот метод возвращает представление клюей в заданном словаре\", '\\n')\n",
        "\n",
        "print(Capitals.values(), \"- Этот метод возвращает представление значений в заданном словаре\", '\\n')\n",
        "\n",
        "print(Capitals.items(), \"- Этот метод возвращает представление пар (кортежей) ключ-значение в заданном словаре\", '\\n')"
      ],
      "execution_count": null,
      "outputs": [
        {
          "output_type": "stream",
          "text": [
            "dict_keys(['Russia', 'Ukraine', 'USA', 'France']) - Этот метод возвращает представление клюей в заданном словаре \n",
            "\n",
            "dict_values(['Moscow', 'Kiev', 'Washington', 'Paris']) - Этот метод возвращает представление значений в заданном словаре \n",
            "\n",
            "dict_items([('Russia', 'Moscow'), ('Ukraine', 'Kiev'), ('USA', 'Washington'), ('France', 'Paris')]) - Этот метод возвращает представление пар (кортежей) ключ-значение в заданном словаре \n",
            "\n"
          ],
          "name": "stdout"
        }
      ]
    },
    {
      "cell_type": "markdown",
      "metadata": {
        "id": "mkq1w30tia3o"
      },
      "source": [
        "Можно удалять элементы из словаря."
      ]
    },
    {
      "cell_type": "code",
      "metadata": {
        "colab": {
          "base_uri": "https://localhost:8080/"
        },
        "id": "arHhCUJuiSZK",
        "outputId": "dae9a479-69ed-4daf-d60d-26b721c4f421"
      },
      "source": [
        "if 'Russia' in Capitals:\n",
        "  del Capitals['Russia'] #работает не только для словаря, кстати!\n",
        "print(Capitals)"
      ],
      "execution_count": null,
      "outputs": [
        {
          "output_type": "stream",
          "text": [
            "{'Ukraine': 'Kiev', 'USA': 'Washington', 'France': 'Paris'}\n"
          ],
          "name": "stdout"
        }
      ]
    },
    {
      "cell_type": "code",
      "metadata": {
        "colab": {
          "base_uri": "https://localhost:8080/"
        },
        "id": "Qr3wbJ3DkA8m",
        "outputId": "dd8416ac-3c65-48ce-d767-861dd0bd7853"
      },
      "source": [
        "# можно также изменять значение по ключу.\n",
        "\n",
        "Capitals['Ukraine'] = 'London'\n",
        "Capitals"
      ],
      "execution_count": null,
      "outputs": [
        {
          "output_type": "execute_result",
          "data": {
            "text/plain": [
              "{'France': 'Paris', 'USA': 'Washington', 'Ukraine': 'London'}"
            ]
          },
          "metadata": {
            "tags": []
          },
          "execution_count": 71
        }
      ]
    },
    {
      "cell_type": "markdown",
      "metadata": {
        "id": "mMI-lQwLi78r"
      },
      "source": [
        "#### Set (множество)\n",
        "\n",
        "Множество служит для хранения уникальных элементов и только их."
      ]
    },
    {
      "cell_type": "code",
      "metadata": {
        "colab": {
          "base_uri": "https://localhost:8080/"
        },
        "id": "irUI7eJ0kKOM",
        "outputId": "e205f28f-6a99-4315-bd67-b9905481277b"
      },
      "source": [
        "A = {1, 2, 3}\n",
        "print(A)\n",
        "#ЗАПОМНИТЕ нельзя написать A = {} для создания множества, интерпритатор поймёт это как пустой словарь\n",
        "\n",
        "A = set('123')\n",
        "print(A)"
      ],
      "execution_count": null,
      "outputs": [
        {
          "output_type": "stream",
          "text": [
            "{1, 2, 3}\n",
            "{'2', '3', '1'}\n"
          ],
          "name": "stdout"
        }
      ]
    },
    {
      "cell_type": "code",
      "metadata": {
        "colab": {
          "base_uri": "https://localhost:8080/"
        },
        "id": "yCDh72JUkQ3V",
        "outputId": "1b85a023-ec64-41ce-e525-9d340e5aff1e"
      },
      "source": [
        "A = {1, 2, 3, 4}\n",
        "B = {1, 1, 2, 3, 4, 4}\n",
        "print(B)\n",
        "print(A)\n",
        "\n",
        "#как и вслучае со списоком, создавая множество через команду set() вы разбираете объекта на элементы\n",
        "print('1:', set('NRNU MEPhI'))\n",
        "print('2:', {'NRNU MEPhI'})"
      ],
      "execution_count": null,
      "outputs": [
        {
          "output_type": "stream",
          "text": [
            "{1, 2, 3, 4}\n",
            "{1, 2, 3, 4}\n",
            "1: {'U', 'P', 'E', 'M', 'R', 'h', ' ', 'I', 'N'}\n",
            "2: {'NRNU MEPhI'}\n"
          ],
          "name": "stdout"
        }
      ]
    },
    {
      "cell_type": "code",
      "metadata": {
        "colab": {
          "base_uri": "https://localhost:8080/"
        },
        "id": "TX5Am54OkZ-p",
        "outputId": "c8eb029d-4625-4c05-9dd1-934a5342f8ec"
      },
      "source": [
        "#Добавление и удаление элемента из множества\n",
        "A = {8, 2, 11, 4, 42, 6, 7}\n",
        "\n",
        "print(A, \"- вначале\", '\\n', '-'*32)\n",
        "A.add(80)\n",
        "print(A, '- add', '\\n', '-'*32)\n",
        "\n",
        "#метод .pop() \"доставёт\" первый элемент из множества\n",
        "print(A.pop(), end=' ')\n",
        "print(A, '- pop', '\\n')\n",
        "A.discard(11)\n",
        "print(A, '- discard', '\\n') #при отсутствии заданного элемента не делает ничего\n",
        "A.remove(6)\n",
        "print(A, '- remove', '\\n') #при отсутствии заданного элемента поднимаент исключение KeyError"
      ],
      "execution_count": null,
      "outputs": [
        {
          "output_type": "stream",
          "text": [
            "{2, 4, 6, 7, 8, 42, 11} - вначале \n",
            " --------------------------------\n",
            "{2, 4, 6, 7, 8, 42, 11, 80} - add \n",
            " --------------------------------\n",
            "2 {4, 6, 7, 8, 42, 11, 80} - pop \n",
            "\n",
            "{4, 6, 7, 8, 42, 80} - discard \n",
            "\n",
            "{4, 7, 8, 42, 80} - remove \n",
            "\n"
          ],
          "name": "stdout"
        }
      ]
    },
    {
      "cell_type": "markdown",
      "metadata": {
        "id": "Xt6AScy9l9yg"
      },
      "source": [
        "### Перевод из типа в тип\n",
        "\n",
        "Для перевода из типа в тип можно использовать специальные методы-конструкторы типа, которые можно вызвать по их названию.  \n",
        "\n",
        "Обратите внимание, что операция приведения типа не транзитивна.  \n",
        "\n",
        "Команды, `list()`, `set()`, которые мы использовали раннее по сути являются операциями приведения типов. Они создают новый объект заданного типа, используя конструктор того типа, который нам нужен. "
      ]
    },
    {
      "cell_type": "code",
      "metadata": {
        "colab": {
          "base_uri": "https://localhost:8080/",
          "height": 537
        },
        "id": "g7ZXIG6mmJIB",
        "outputId": "b97f5b9d-665b-4add-fbb1-351f13f52e14"
      },
      "source": [
        "a = '5'\n",
        "print(a)\n",
        "print(type(a))\n",
        "a = int(a)\n",
        "print(a)\n",
        "print(type(a))\n",
        "a = float(a)\n",
        "print(float(a))\n",
        "print(type(a))\n",
        "\n",
        "print('*'*32)\n",
        "c = 5.5\n",
        "print(c)\n",
        "print(type(c))\n",
        "c = int(c)\n",
        "print(c)\n",
        "print(type(c))\n",
        "c = str(c)\n",
        "print(c)\n",
        "print(type(c))\n",
        "\n",
        "\n",
        "print('*'*32)\n",
        "b = 5.5\n",
        "print(b)\n",
        "print(type(b))\n",
        "b = str(b)\n",
        "print(b)\n",
        "print(type(b))\n",
        "#здесь ошибка, из строки 5.5 нельзя сделать int\n",
        "b = int(b)\n",
        "print(b)\n",
        "print(type(b))"
      ],
      "execution_count": null,
      "outputs": [
        {
          "output_type": "stream",
          "text": [
            "5\n",
            "<class 'str'>\n",
            "5\n",
            "<class 'int'>\n",
            "5.0\n",
            "<class 'float'>\n",
            "********************************\n",
            "5.5\n",
            "<class 'float'>\n",
            "5\n",
            "<class 'int'>\n",
            "5\n",
            "<class 'str'>\n",
            "********************************\n",
            "5.5\n",
            "<class 'float'>\n",
            "5.5\n",
            "<class 'str'>\n"
          ],
          "name": "stdout"
        },
        {
          "output_type": "error",
          "ename": "ValueError",
          "evalue": "ignored",
          "traceback": [
            "\u001b[0;31m---------------------------------------------------------------------------\u001b[0m",
            "\u001b[0;31mValueError\u001b[0m                                Traceback (most recent call last)",
            "\u001b[0;32m<ipython-input-84-1675b86217e7>\u001b[0m in \u001b[0;36m<module>\u001b[0;34m()\u001b[0m\n\u001b[1;32m     28\u001b[0m \u001b[0mprint\u001b[0m\u001b[0;34m(\u001b[0m\u001b[0mb\u001b[0m\u001b[0;34m)\u001b[0m\u001b[0;34m\u001b[0m\u001b[0;34m\u001b[0m\u001b[0m\n\u001b[1;32m     29\u001b[0m \u001b[0mprint\u001b[0m\u001b[0;34m(\u001b[0m\u001b[0mtype\u001b[0m\u001b[0;34m(\u001b[0m\u001b[0mb\u001b[0m\u001b[0;34m)\u001b[0m\u001b[0;34m)\u001b[0m\u001b[0;34m\u001b[0m\u001b[0;34m\u001b[0m\u001b[0m\n\u001b[0;32m---> 30\u001b[0;31m \u001b[0mb\u001b[0m \u001b[0;34m=\u001b[0m \u001b[0mint\u001b[0m\u001b[0;34m(\u001b[0m\u001b[0mb\u001b[0m\u001b[0;34m)\u001b[0m\u001b[0;34m\u001b[0m\u001b[0;34m\u001b[0m\u001b[0m\n\u001b[0m\u001b[1;32m     31\u001b[0m \u001b[0mprint\u001b[0m\u001b[0;34m(\u001b[0m\u001b[0mb\u001b[0m\u001b[0;34m)\u001b[0m\u001b[0;34m\u001b[0m\u001b[0;34m\u001b[0m\u001b[0m\n\u001b[1;32m     32\u001b[0m \u001b[0mprint\u001b[0m\u001b[0;34m(\u001b[0m\u001b[0mtype\u001b[0m\u001b[0;34m(\u001b[0m\u001b[0mb\u001b[0m\u001b[0;34m)\u001b[0m\u001b[0;34m)\u001b[0m\u001b[0;34m\u001b[0m\u001b[0;34m\u001b[0m\u001b[0m\n",
            "\u001b[0;31mValueError\u001b[0m: invalid literal for int() with base 10: '5.5'"
          ]
        }
      ]
    },
    {
      "cell_type": "markdown",
      "metadata": {
        "id": "xAdWJ_r9GkCR"
      },
      "source": [
        "## Арифметические операции\n",
        "\n",
        "Арифистические операции, применяемые к стандартным типам данных выглядят стандартно. Однако, у языка Python большие сложности с работой с числами с плавающей запятой.\n",
        "\n",
        "При использовании стандартных библиотек необходимо строго стараться минимизировать колчичество вычислений с плавающей запятой. "
      ]
    },
    {
      "cell_type": "code",
      "metadata": {
        "colab": {
          "base_uri": "https://localhost:8080/"
        },
        "id": "4PjFVPjMl59D",
        "outputId": "52655c62-2394-450d-a278-4cdd1f06fa08"
      },
      "source": [
        "a = 5\n",
        "b = 4\n",
        "print('+', a+b)\n",
        "print('*', a*b)\n",
        "print('/', a/b)\n",
        "print('-', a-b)\n",
        "print('// - целочисленное деление:', (a*2)//b)\n",
        "print('% - остаток от деления:', a%b)"
      ],
      "execution_count": null,
      "outputs": [
        {
          "output_type": "stream",
          "text": [
            "+ 9\n",
            "* 20\n",
            "/ 1.25\n",
            "- 1\n",
            "// - целочисленное деление 2\n",
            "% - остаток от деления 1\n"
          ],
          "name": "stdout"
        }
      ]
    },
    {
      "cell_type": "code",
      "metadata": {
        "colab": {
          "base_uri": "https://localhost:8080/"
        },
        "id": "7CAvsi40n-cr",
        "outputId": "abe46356-5eed-46ba-8169-f4b56c54798d"
      },
      "source": [
        "print(f'0.1+0.1 = {0.1+0.1}')\n",
        "print(f'0.1+0.1+0.1 = {0.1+0.1+0.1}')\n",
        "print(f'0.1*3 = {0.1*3}')"
      ],
      "execution_count": null,
      "outputs": [
        {
          "output_type": "stream",
          "text": [
            "0.1+0.1 = 0.2\n",
            "0.1+0.1+0.1 = 0.30000000000000004\n",
            "0.1*3 = 0.30000000000000004\n"
          ],
          "name": "stdout"
        }
      ]
    },
    {
      "cell_type": "code",
      "source": [
        "0.1+0.1+0.1 == 0.3"
      ],
      "metadata": {
        "colab": {
          "base_uri": "https://localhost:8080/"
        },
        "id": "lqQuEKOI_Cne",
        "outputId": "95982cdc-2740-4207-c63f-bcc22d709c2c"
      },
      "execution_count": null,
      "outputs": [
        {
          "output_type": "execute_result",
          "data": {
            "text/plain": [
              "False"
            ]
          },
          "metadata": {},
          "execution_count": 2
        }
      ]
    },
    {
      "cell_type": "code",
      "metadata": {
        "colab": {
          "base_uri": "https://localhost:8080/"
        },
        "id": "qsdgdTZzoDi9",
        "outputId": "c2fa38c4-2a80-4020-ec57-d4ae2721bcc8"
      },
      "source": [
        "a = 5\n",
        "print(a)\n",
        "a = a**(1/2)\n",
        "print(a)\n",
        "a = a**2\n",
        "print(a)"
      ],
      "execution_count": null,
      "outputs": [
        {
          "output_type": "stream",
          "text": [
            "5\n",
            "2.23606797749979\n",
            "5.000000000000001\n"
          ],
          "name": "stdout"
        }
      ]
    },
    {
      "cell_type": "markdown",
      "metadata": {
        "id": "eoxR0KKTcgLv"
      },
      "source": [
        "#### Арифметика со списками\n",
        "\n",
        "Для списков тоже можно использовать арифметические операции, но они будут совершенно по иному работать. \n",
        "\n",
        "Аналогично и для строк."
      ]
    },
    {
      "cell_type": "code",
      "metadata": {
        "colab": {
          "base_uri": "https://localhost:8080/"
        },
        "id": "Idzyfaz5cmV2",
        "outputId": "7c5ff4e6-e406-47b0-bae9-1335ab4ce97d"
      },
      "source": [
        "arr = [1, 2, 3, 4] + [5, 6, 7, 8, 9]\n",
        "print('4:', arr)\n",
        "\n",
        "arr = [1, 2, 3, 4] * 4\n",
        "print('5:', arr)"
      ],
      "execution_count": null,
      "outputs": [
        {
          "output_type": "stream",
          "text": [
            "4: [1, 2, 3, 4, 5, 6, 7, 8, 9]\n",
            "5: [1, 2, 3, 4, 1, 2, 3, 4, 1, 2, 3, 4, 1, 2, 3, 4]\n"
          ],
          "name": "stdout"
        }
      ]
    },
    {
      "cell_type": "markdown",
      "metadata": {
        "id": "VXBlxULbGnJ7"
      },
      "source": [
        "## Условия\n",
        "\n",
        "Использование условий в языке python похоже на любой другой язык.\n",
        "\n",
        "```\n",
        "if (условие):\n",
        "____код\n",
        "elif (условие):\n",
        "____код\n",
        "else:\n",
        "____кода\n",
        "```\n",
        "Или \n",
        "```\n",
        "if (условие):\n",
        "____код\n",
        "else:\n",
        "____кода\n",
        "```\n",
        "Или\n",
        "```\n",
        "if (условие):\n",
        "____код\n",
        "```\n",
        "\n",
        "Обратите внимание, на необходимость использования отступов для корректной интерпретации кода. \n",
        "\n",
        "**В отличии от других языков, отступы в Python необходимы для корректного исполнения кода.**"
      ]
    },
    {
      "cell_type": "code",
      "metadata": {
        "colab": {
          "base_uri": "https://localhost:8080/"
        },
        "id": "G820fefTp-Ms",
        "outputId": "d436a550-70dc-459c-8546-0c54c9e663a7"
      },
      "source": [
        "x = int(input())\n",
        "if x > 0:\n",
        "    print('Положительная зона')\n",
        "    print(x)\n",
        "else:\n",
        "    print('Неположительная зона')\n",
        "    print(-x)"
      ],
      "execution_count": null,
      "outputs": [
        {
          "output_type": "stream",
          "text": [
            "-50\n",
            "Неположительная зона\n",
            "50\n"
          ],
          "name": "stdout"
        }
      ]
    },
    {
      "cell_type": "markdown",
      "metadata": {
        "id": "BINf31KgqMri"
      },
      "source": [
        "Для формирования сложных условий можно использовать логические операции и различные операторы сравнения. \n",
        "\n",
        "Операторы сравнения:  \n",
        "`<` Меньше — условие верно, если первый операнд меньше второго.  \n",
        "`>` Больше — условие верно, если первый операнд больше второго.  \n",
        "`<=` Меньше или равно.  \n",
        "`>=` Больше или равно.\n",
        "`==` Равенство. Условие верно, если два операнда равны.  \n",
        "`!=` Неравенство. Условие верно, если два операнда неравны.  \n",
        "`a <= x <= b` - x находится в интервале от a до b.\n",
        "\n",
        "Логические операции:  \n",
        "`and` - логическое \"И\"  \n",
        "`or` - логическое \"Или\"  \n",
        "`not` - логическое \"Отрицание\""
      ]
    },
    {
      "cell_type": "code",
      "metadata": {
        "colab": {
          "base_uri": "https://localhost:8080/"
        },
        "id": "MbT_EbTHq5Wh",
        "outputId": "b147024b-5e89-4355-9784-25140f8881c5"
      },
      "source": [
        "a = int(input())\n",
        "b = int(input())\n",
        "x = int(input())\n",
        "if a <= x <= b and x > 0:\n",
        "    print('YES')\n",
        "else:\n",
        "    print('NO')"
      ],
      "execution_count": null,
      "outputs": [
        {
          "output_type": "stream",
          "text": [
            "-50\n",
            "50\n",
            "-2\n",
            "NO\n"
          ],
          "name": "stdout"
        }
      ]
    },
    {
      "cell_type": "markdown",
      "metadata": {
        "id": "Y-j_TekWrjLc"
      },
      "source": [
        "Для проверки наличия элементов в спиcке используется операция\n",
        "\n",
        "```\n",
        "in\n",
        "```\n",
        "\n"
      ]
    },
    {
      "cell_type": "code",
      "metadata": {
        "colab": {
          "base_uri": "https://localhost:8080/"
        },
        "id": "es2KBqlbsBBy",
        "outputId": "d9d9965d-1226-4f26-e0e5-dd9d161071f1"
      },
      "source": [
        "A = [1, 2, 3, 4, 5, 6, 7, 8]\n",
        "b = int(input())\n",
        "\n",
        "if b in A:\n",
        "  print('yes')\n",
        "else:\n",
        "  print('no')"
      ],
      "execution_count": null,
      "outputs": [
        {
          "output_type": "stream",
          "text": [
            "200\n",
            "no\n"
          ],
          "name": "stdout"
        }
      ]
    },
    {
      "cell_type": "markdown",
      "metadata": {
        "id": "yFtJGInbsMNU"
      },
      "source": [
        "## Генераторы списокв\n",
        "\n",
        "Генераторы список - удобный способ создания списоков в Python. В его основе хоть и лежат циклы, но для использовани генераторов глубокого понимания циклов не нужно. \n"
      ]
    },
    {
      "cell_type": "markdown",
      "metadata": {
        "id": "gCd1lah_s5yg"
      },
      "source": [
        "Вывести список всех кубов ряда от 0 до 6.\n",
        "\n"
      ]
    },
    {
      "cell_type": "code",
      "metadata": {
        "colab": {
          "base_uri": "https://localhost:8080/"
        },
        "id": "dH6sT0y3sivQ",
        "outputId": "cd159b6a-e939-4b26-a924-26aa6226bcda"
      },
      "source": [
        "example = [0, 1, 2, 3, 4, 5, 6]\n",
        "qubes = [i ** 3 for i in example]\n",
        "print(*qubes, '- кубы')"
      ],
      "execution_count": null,
      "outputs": [
        {
          "output_type": "stream",
          "text": [
            "0 1 8 27 64 125 216 - кубы\n"
          ],
          "name": "stdout"
        }
      ]
    },
    {
      "cell_type": "markdown",
      "metadata": {
        "id": "d1QsS5ZBs2H1"
      },
      "source": [
        "Вывести список из i элементов равных i в ряду четных цифр от 1 до 7"
      ]
    },
    {
      "cell_type": "code",
      "metadata": {
        "colab": {
          "base_uri": "https://localhost:8080/"
        },
        "id": "Krz1MMrrst8G",
        "outputId": "3e164180-59e6-4861-fb49-e4db30ec1629"
      },
      "source": [
        "ex = [1, 2, 3, 4, 5, 6, 7]\n",
        "arr = [[i]*i for i in ex if i % 2 == 0]\n",
        "print(arr)\n",
        "print(len(arr))"
      ],
      "execution_count": null,
      "outputs": [
        {
          "output_type": "stream",
          "name": "stdout",
          "text": [
            "[[2, 2], [4, 4, 4, 4], [6, 6, 6, 6, 6, 6]]\n",
            "3\n"
          ]
        }
      ]
    },
    {
      "cell_type": "code",
      "source": [
        "ex = [2, 3, 4, 5, 6, 5, 4, 3, 2, 3, 4, 5, 6]\n",
        "arr = [[i]*i for i in ex if i % 2 == 0]\n",
        "arr"
      ],
      "metadata": {
        "colab": {
          "base_uri": "https://localhost:8080/"
        },
        "id": "p7_sMqYzWNhp",
        "outputId": "3958d23c-7780-46e0-d3de-0013c7f39c9c"
      },
      "execution_count": null,
      "outputs": [
        {
          "output_type": "execute_result",
          "data": {
            "text/plain": [
              "[[2, 2],\n",
              " [4, 4, 4, 4],\n",
              " [6, 6, 6, 6, 6, 6],\n",
              " [4, 4, 4, 4],\n",
              " [2, 2],\n",
              " [4, 4, 4, 4],\n",
              " [6, 6, 6, 6, 6, 6]]"
            ]
          },
          "metadata": {},
          "execution_count": 10
        }
      ]
    },
    {
      "cell_type": "code",
      "metadata": {
        "colab": {
          "base_uri": "https://localhost:8080/"
        },
        "id": "UHOLGHLQtlP3",
        "outputId": "ec90ef90-62a2-45ab-8999-1aa2fdfa9aa0"
      },
      "source": [
        "arr = [i ** 2 if i % 2 == 0 else i ** 3 for i in ex]\n",
        "print(*arr)"
      ],
      "execution_count": null,
      "outputs": [
        {
          "output_type": "stream",
          "text": [
            "1 4 27 16 125 36 343\n"
          ],
          "name": "stdout"
        }
      ]
    },
    {
      "cell_type": "markdown",
      "metadata": {
        "id": "eitrToX2tO8n"
      },
      "source": [
        "# Небольшое домашнее задание"
      ]
    },
    {
      "cell_type": "markdown",
      "metadata": {
        "id": "KqLfgMMbtT8K"
      },
      "source": [
        "Используя генераторы список вывести i-й элемент ряда и список из i элементов равных i в ряду четных цифр от 1 до 7"
      ]
    },
    {
      "cell_type": "code",
      "metadata": {
        "id": "bg7Z8KsYtRl8"
      },
      "source": [
        "# код решения"
      ],
      "execution_count": null,
      "outputs": []
    },
    {
      "cell_type": "markdown",
      "metadata": {
        "id": "ki0ZABvTt852"
      },
      "source": [
        "Введите два числа с клавиатуры. Это координаты точки.\n",
        "\n",
        "Определите, принадлежат ли они квадрату с центром в точке (0,0) и размером стороны 2."
      ]
    },
    {
      "cell_type": "code",
      "metadata": {
        "id": "2kC4-WHluM6D"
      },
      "source": [
        "x = int(input())\n",
        "y = int(input())\n",
        "\n",
        "# ваш код далее"
      ],
      "execution_count": null,
      "outputs": []
    },
    {
      "cell_type": "code",
      "source": [
        "print(set(\"012030123456\"))"
      ],
      "metadata": {
        "colab": {
          "base_uri": "https://localhost:8080/"
        },
        "id": "CIyqgVe_VJvr",
        "outputId": "b02db5fe-068e-421c-8948-582c1b01014c"
      },
      "execution_count": null,
      "outputs": [
        {
          "output_type": "stream",
          "name": "stdout",
          "text": [
            "{'1', '4', '3', '6', '2', '0', '5'}\n"
          ]
        }
      ]
    }
  ]
}