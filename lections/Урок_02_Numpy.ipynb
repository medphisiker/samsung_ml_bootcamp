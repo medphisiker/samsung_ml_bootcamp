{
  "cells": [
    {
      "cell_type": "markdown",
      "metadata": {
        "id": "SWaltpGQSn92"
      },
      "source": [
        "# Numpy\n",
        "\n",
        "[NumPy](https://numpy.org/) это open-source модуль для python, который предоставляет общие математические и числовые операции.\n",
        "\n",
        "NumPy - один из ключевых модулей в экосистеме Python, в том числе при решении задач машинного обучения и искусственного интеллекта.\n",
        "\n",
        "NumPy является наследником Numeric и NumArray. Основан NumPy на библиотеке LAPAC, которая написана на Fortran. Когда-то numpy была частью SciPy. Да, это напоминает мыльную оперу. \n",
        "\n",
        "Мы подробно разбираем особенности библиотеки, так как на работе с ней основаны все остальные библиотеки, работающие с искусственным интеллектом.\n",
        "\n",
        "Текст урока опирается на небольшой, но полезный [мануал](https://sites.engineering.ucsb.edu/~shell/che210d/numpy.pdf)."
      ]
    },
    {
      "cell_type": "markdown",
      "metadata": {
        "id": "j42zD3zQUB29"
      },
      "source": [
        "## Установка\n",
        "\n",
        "Если вы используете Google Colab, то numpy уже установлен на виртуальном сервере и вы можете им пользоваться.\n",
        "\n",
        "Если вы открыли собственный ноутбук, то можете воспользоваться командой установки, записанной через восклицательный знак\n",
        "\n",
        "\n",
        "```\n",
        "!comand\n",
        "```\n",
        "Так запущенная команда в среде ipy вызывает системную команду pip, которая сама установит данный модуль в вашу виртуальную среду. \n",
        "\n",
        "Обратите внимание, что каждый ноутбк имеет свой набор используемых библиотек и системных установок. \n"
      ]
    },
    {
      "cell_type": "code",
      "execution_count": null,
      "metadata": {
        "colab": {
          "base_uri": "https://localhost:8080/"
        },
        "id": "-u28cDMWUASF",
        "outputId": "9e7b939c-c12d-4f02-e971-f0d6043ff73a"
      },
      "outputs": [
        {
          "name": "stdout",
          "output_type": "stream",
          "text": [
            "Requirement already satisfied: numpy in /usr/local/lib/python3.7/dist-packages (1.19.5)\n"
          ]
        }
      ],
      "source": [
        "!pip install numpy"
      ]
    },
    {
      "cell_type": "markdown",
      "metadata": {
        "id": "eiCKlC1MVTxD"
      },
      "source": [
        "## Подключение\n",
        "\n",
        "Для подключения модулей в Python используется команда `import` или её вариации. В случае с numpy есть традиционная и привычная всем команда импорта с использованием алиаса (as) np\n",
        "\n",
        "Алиас - это встроенная команда интерпретатора для сокращения команд и их последовательностей."
      ]
    },
    {
      "cell_type": "code",
      "execution_count": 1,
      "metadata": {
        "id": "2VnPtDPcSQvi"
      },
      "outputs": [],
      "source": [
        "# классический вариант\n",
        "import numpy"
      ]
    },
    {
      "cell_type": "code",
      "execution_count": 2,
      "metadata": {
        "id": "7Yqz0e4cSnj5"
      },
      "outputs": [],
      "source": [
        "# традиционный вариант \n",
        "import numpy as np"
      ]
    },
    {
      "cell_type": "markdown",
      "metadata": {
        "id": "XkFuEgPVV0at"
      },
      "source": [
        "При таком импорте к любым командам из модуля numpy придётся дописывать название модуля\n",
        "\n",
        "```\n",
        "numpy.comand\n",
        "np.comand\n",
        "```\n",
        "Есть другой вариант, в котором можно использовать только команду без указания модуля. Но так как в разных модулях могут быть одинаковые функции, использовать такой вариант не рекомендуется.\n"
      ]
    },
    {
      "cell_type": "code",
      "execution_count": null,
      "metadata": {
        "id": "CSSdlFA6WfCg"
      },
      "outputs": [],
      "source": [
        "# from numpy import *"
      ]
    },
    {
      "cell_type": "markdown",
      "metadata": {
        "id": "KROHUh0xi1nD"
      },
      "source": [
        "## Особые константы\n",
        "\n",
        "Numpy реализует несколько особых значнений через контстанты. Например:"
      ]
    },
    {
      "cell_type": "code",
      "execution_count": 3,
      "metadata": {
        "colab": {
          "base_uri": "https://localhost:8080/"
        },
        "id": "407sxkUFjCZn",
        "outputId": "75b4bf62-d83b-474d-eaf4-2f5443c40b25"
      },
      "outputs": [
        {
          "data": {
            "text/plain": [
              "nan"
            ]
          },
          "execution_count": 3,
          "metadata": {},
          "output_type": "execute_result"
        }
      ],
      "source": [
        "np.NaN\n",
        "# not a number - Не число"
      ]
    },
    {
      "cell_type": "code",
      "execution_count": 4,
      "metadata": {
        "colab": {
          "base_uri": "https://localhost:8080/"
        },
        "id": "j_XDMb9-jJh1",
        "outputId": "334b17da-e5e7-4236-fb7b-69b21b5c5d9f"
      },
      "outputs": [
        {
          "data": {
            "text/plain": [
              "inf"
            ]
          },
          "execution_count": 4,
          "metadata": {},
          "output_type": "execute_result"
        }
      ],
      "source": [
        "np.Inf\n",
        "# infinity - бесконечно "
      ]
    },
    {
      "cell_type": "markdown",
      "metadata": {
        "id": "nKw_yo1lXWXM"
      },
      "source": [
        "## Массивы\n",
        "\n",
        "Главная особенность и элемент, с которым необходимо работать, в numpy - это массивы. Создаются массивы разными способами, которые мы сейчас разберём. \n",
        "\n",
        "При этом все элементы в array должны быть одного типа, что отличает его от классического списка (list) Python. "
      ]
    },
    {
      "cell_type": "code",
      "execution_count": 5,
      "metadata": {
        "colab": {
          "base_uri": "https://localhost:8080/"
        },
        "id": "FKmqlaxTYZ2M",
        "outputId": "17d64243-4112-4758-fa01-ecf171be7f9d"
      },
      "outputs": [
        {
          "name": "stdout",
          "output_type": "stream",
          "text": [
            "Array: [1. 2. 3. 4.]\n",
            "Тип:  <class 'numpy.ndarray'>\n",
            "[1.0, 2.0, 3.0, 4.0]\n"
          ]
        }
      ],
      "source": [
        "a = np.array([1, 2, 3, 4], float)\n",
        "print('Array:', a)\n",
        "print('Тип: ',type(a))\n",
        "# обратное преобразование\n",
        "print(a.tolist())"
      ]
    },
    {
      "cell_type": "code",
      "execution_count": 6,
      "metadata": {
        "colab": {
          "base_uri": "https://localhost:8080/"
        },
        "id": "RKkm4CVBZAJ0",
        "outputId": "c1a049bb-7ce6-4c37-bc2a-6cedb90b788e"
      },
      "outputs": [
        {
          "name": "stdout",
          "output_type": "stream",
          "text": [
            "1:  1.0\n",
            "2:  [2. 3.]\n",
            "3:  4.0\n",
            "4:  5.0\n"
          ]
        }
      ],
      "source": [
        "# показываем, что можно также работать с np.array, как и с обычным list\n",
        "\n",
        "print('1: ', a[0])\n",
        "print('2: ', a[1:3])\n",
        "print('3: ', a[-1])\n",
        "a[0] = 5\n",
        "print('4: ', a[0])"
      ]
    },
    {
      "cell_type": "markdown",
      "metadata": {
        "id": "uzW3ZG1tZbBf"
      },
      "source": [
        "### Многомерные массивы \n",
        "\n",
        "Большая ценность numpy в том, что можно работать и многомерными массивами. Например, любое изображение - как минимум двумерный массив. А при обучении нейронных сетей для работы с компьютерным зрением используются по сути четырёхмерные массивы."
      ]
    },
    {
      "cell_type": "code",
      "execution_count": 8,
      "metadata": {
        "colab": {
          "base_uri": "https://localhost:8080/"
        },
        "id": "0cIM9tWyZaUJ",
        "outputId": "dc06a819-5a1f-4b79-f65f-34799edd9452"
      },
      "outputs": [
        {
          "name": "stdout",
          "output_type": "stream",
          "text": [
            "0: \n",
            " [[1 2 3]\n",
            " [4 5 6]]\n",
            "1:  1\n",
            "2:  4\n",
            "3:  2\n"
          ]
        }
      ],
      "source": [
        "a = np.array([[1, 2, 3], [4, 5, 6]], int)\n",
        "print('0: \\n', a)\n",
        "print('1: ', a[0,0])\n",
        "print('2: ', a[1,0])\n",
        "print('3: ', a[0,1])"
      ]
    },
    {
      "cell_type": "code",
      "execution_count": 9,
      "metadata": {
        "colab": {
          "base_uri": "https://localhost:8080/"
        },
        "id": "X-7XOsgia1Yt",
        "outputId": "22f38676-f23a-4b9c-aac4-d9fdd5e848bd"
      },
      "outputs": [
        {
          "name": "stdout",
          "output_type": "stream",
          "text": [
            "4:  [4 5 6]\n",
            "5:  [3 6]\n",
            "6:  [[5 6]]\n"
          ]
        }
      ],
      "source": [
        "# срезы (сленг - слайсы) с двумерным массивом\n",
        "print('4: ', a[1,:])\n",
        "print('5: ', a[:,2])\n",
        "print('6: ', a[-1:, -2:])"
      ]
    },
    {
      "cell_type": "markdown",
      "metadata": {
        "id": "yw3iC4LnfUYL"
      },
      "source": [
        "### Характеристики объектов numpy"
      ]
    },
    {
      "cell_type": "code",
      "execution_count": 10,
      "metadata": {
        "colab": {
          "base_uri": "https://localhost:8080/"
        },
        "id": "59Z6URzWfWys",
        "outputId": "4011532f-f06e-4695-8885-fb872c4bee8b"
      },
      "outputs": [
        {
          "data": {
            "text/plain": [
              "(2, 3)"
            ]
          },
          "execution_count": 10,
          "metadata": {},
          "output_type": "execute_result"
        }
      ],
      "source": [
        "# размеры\n",
        "a.shape"
      ]
    },
    {
      "cell_type": "code",
      "execution_count": 11,
      "metadata": {
        "colab": {
          "base_uri": "https://localhost:8080/"
        },
        "id": "fyYdBYYcfbmR",
        "outputId": "12ec30e2-fdb2-4f3c-86c9-443b8c613b5c"
      },
      "outputs": [
        {
          "data": {
            "text/plain": [
              "dtype('int32')"
            ]
          },
          "execution_count": 11,
          "metadata": {},
          "output_type": "execute_result"
        }
      ],
      "source": [
        "# тип данных внутри\n",
        "# напоминаем, массив numpy может хранить только один тип данных\n",
        "a.dtype"
      ]
    },
    {
      "cell_type": "markdown",
      "metadata": {
        "id": "bzNwVUuOgAuH"
      },
      "source": [
        "### Изменение размеров массива"
      ]
    },
    {
      "cell_type": "code",
      "execution_count": 17,
      "metadata": {
        "colab": {
          "base_uri": "https://localhost:8080/"
        },
        "id": "8Qa8TyQOgDL8",
        "outputId": "935c4930-421c-48d5-d746-e55f5f05c810"
      },
      "outputs": [
        {
          "data": {
            "text/plain": [
              "array([[1, 2],\n",
              "       [3, 4],\n",
              "       [5, 6]])"
            ]
          },
          "execution_count": 17,
          "metadata": {},
          "output_type": "execute_result"
        }
      ],
      "source": [
        "a.reshape(3,2)"
      ]
    },
    {
      "cell_type": "code",
      "execution_count": 18,
      "metadata": {
        "colab": {
          "base_uri": "https://localhost:8080/"
        },
        "id": "N3ZuJCHxgNeR",
        "outputId": "c5f6351e-9e8f-4eb5-a4e8-26723fac568c"
      },
      "outputs": [
        {
          "data": {
            "text/plain": [
              "array([[1, 2, 3],\n",
              "       [4, 5, 6]])"
            ]
          },
          "execution_count": 18,
          "metadata": {},
          "output_type": "execute_result"
        }
      ],
      "source": [
        "# обратите внимание, что в процессе изменения размера создан новый массив, а не изменён старый\n",
        "a"
      ]
    },
    {
      "cell_type": "code",
      "execution_count": 19,
      "metadata": {
        "colab": {
          "base_uri": "https://localhost:8080/"
        },
        "id": "OJnHnxVHgqgG",
        "outputId": "de7f6c03-e758-4334-a561-3e9115683e6d"
      },
      "outputs": [
        {
          "data": {
            "text/plain": [
              "array([1, 2, 3, 4, 5, 6])"
            ]
          },
          "execution_count": 19,
          "metadata": {},
          "output_type": "execute_result"
        }
      ],
      "source": [
        "# с помощью этой команды можно вытянуть массив в одномерную \"строку\"\n",
        "a.flatten()"
      ]
    },
    {
      "cell_type": "code",
      "execution_count": 20,
      "metadata": {},
      "outputs": [
        {
          "data": {
            "text/plain": [
              "array([[1, 2, 3],\n",
              "       [4, 5, 6]])"
            ]
          },
          "execution_count": 20,
          "metadata": {},
          "output_type": "execute_result"
        }
      ],
      "source": [
        "# обратите внимание, что в процессе изменения размера создан новый массив, а не изменён старый\n",
        "a"
      ]
    },
    {
      "cell_type": "markdown",
      "metadata": {
        "id": "ViNPBTVggJjE"
      },
      "source": [
        "### Создание по-разному заполненных массивов"
      ]
    },
    {
      "cell_type": "code",
      "execution_count": 21,
      "metadata": {
        "colab": {
          "base_uri": "https://localhost:8080/"
        },
        "id": "Z6nU5WXbhIG-",
        "outputId": "1a499b04-22de-4a79-83df-67abd5388a25"
      },
      "outputs": [
        {
          "name": "stdout",
          "output_type": "stream",
          "text": [
            "[0 1 2 3 4]\n",
            "[1 3 5]\n"
          ]
        }
      ],
      "source": [
        "# аналог range для массивов\n",
        "print(np.arange(5))\n",
        "print(np.arange(1, 6, 2))"
      ]
    },
    {
      "cell_type": "code",
      "execution_count": 22,
      "metadata": {
        "colab": {
          "base_uri": "https://localhost:8080/"
        },
        "id": "vDVRyzaliROx",
        "outputId": "fab10b4c-d3df-4938-9c80-77f5320b7ebb"
      },
      "outputs": [
        {
          "data": {
            "text/plain": [
              "array([[1., 1., 1.],\n",
              "       [1., 1., 1.]])"
            ]
          },
          "execution_count": 22,
          "metadata": {},
          "output_type": "execute_result"
        }
      ],
      "source": [
        "np.ones((2,3))"
      ]
    },
    {
      "cell_type": "code",
      "execution_count": 23,
      "metadata": {
        "colab": {
          "base_uri": "https://localhost:8080/"
        },
        "id": "y33CRrfniVAE",
        "outputId": "5231a25a-c6a0-44a5-92a2-57d6985e861b"
      },
      "outputs": [
        {
          "data": {
            "text/plain": [
              "array([[0., 0., 0., 0.],\n",
              "       [0., 0., 0., 0.],\n",
              "       [0., 0., 0., 0.],\n",
              "       [0., 0., 0., 0.],\n",
              "       [0., 0., 0., 0.]])"
            ]
          },
          "execution_count": 23,
          "metadata": {},
          "output_type": "execute_result"
        }
      ],
      "source": [
        "np.zeros((5,4))"
      ]
    },
    {
      "cell_type": "code",
      "execution_count": 25,
      "metadata": {
        "colab": {
          "base_uri": "https://localhost:8080/"
        },
        "id": "D484-EYBidsq",
        "outputId": "e68bfadf-e302-4ee5-96f1-ed2663e917f4"
      },
      "outputs": [
        {
          "data": {
            "text/plain": [
              "array([[1., 0., 0., 0.],\n",
              "       [0., 1., 0., 0.],\n",
              "       [0., 0., 1., 0.],\n",
              "       [0., 0., 0., 1.]])"
            ]
          },
          "execution_count": 25,
          "metadata": {},
          "output_type": "execute_result"
        }
      ],
      "source": [
        "# диагональная единичная матрица E\n",
        "np.identity(4)"
      ]
    },
    {
      "cell_type": "code",
      "execution_count": 36,
      "metadata": {
        "colab": {
          "base_uri": "https://localhost:8080/"
        },
        "id": "me3MDosSigXa",
        "outputId": "4c2b62e9-135a-4a2b-cf3a-eccf7af68195"
      },
      "outputs": [
        {
          "data": {
            "text/plain": [
              "array([[0., 0., 0., 1., 0.],\n",
              "       [0., 0., 0., 0., 1.],\n",
              "       [0., 0., 0., 0., 0.],\n",
              "       [0., 0., 0., 0., 0.],\n",
              "       [0., 0., 0., 0., 0.]])"
            ]
          },
          "execution_count": 36,
          "metadata": {},
          "output_type": "execute_result"
        }
      ],
      "source": [
        "# k - номер диагонали, заполненный единицами\n",
        "# если k выйдет за матрицу получим матрицу из нулей\n",
        "np.eye(5, k=3)"
      ]
    },
    {
      "cell_type": "markdown",
      "metadata": {
        "id": "PFi4IJAPl7W3"
      },
      "source": [
        "### Перебор элементов массива"
      ]
    },
    {
      "cell_type": "code",
      "execution_count": 37,
      "metadata": {
        "id": "XbHUaIYjl6tM"
      },
      "outputs": [],
      "source": [
        "a = np.array([1, 4, 5], int)"
      ]
    },
    {
      "cell_type": "code",
      "execution_count": 38,
      "metadata": {
        "colab": {
          "base_uri": "https://localhost:8080/"
        },
        "id": "ZKmehRBNl_dx",
        "outputId": "1778cde5-2776-4862-a224-39814ce0c936"
      },
      "outputs": [
        {
          "name": "stdout",
          "output_type": "stream",
          "text": [
            "1\n",
            "4\n",
            "5\n"
          ]
        }
      ],
      "source": [
        "# простой перебор для одномерного случая\n",
        "for x in a:\n",
        "   print(x)"
      ]
    },
    {
      "cell_type": "code",
      "execution_count": 40,
      "metadata": {
        "colab": {
          "base_uri": "https://localhost:8080/"
        },
        "id": "mF7_afUImDye",
        "outputId": "8c88892d-b79e-403b-f32d-176321fce225"
      },
      "outputs": [
        {
          "name": "stdout",
          "output_type": "stream",
          "text": [
            "[[1. 2.]\n",
            " [3. 4.]\n",
            " [5. 6.]]\n",
            "********************************\n",
            "[1. 2.]\n",
            "[3. 4.]\n",
            "[5. 6.]\n"
          ]
        }
      ],
      "source": [
        "# простой перебор для многомерного случая сработает плохо,\n",
        "# он перебирает по первой размерности\n",
        "a = np.array([[1, 2], [3, 4], [5, 6]], float)\n",
        "\n",
        "print(a)\n",
        "print('*'*32)\n",
        "\n",
        "for x in a:\n",
        "    print(x)\n"
      ]
    },
    {
      "cell_type": "code",
      "execution_count": 42,
      "metadata": {
        "colab": {
          "base_uri": "https://localhost:8080/"
        },
        "id": "-V4y9g8AmO-7",
        "outputId": "d7c1cf5a-184b-420f-8872-9174260ab68d"
      },
      "outputs": [
        {
          "name": "stdout",
          "output_type": "stream",
          "text": [
            "[[1. 2.]\n",
            " [3. 4.]\n",
            " [5. 6.]]\n",
            "********************************\n",
            "1.0\n",
            "2.0\n",
            "3.0\n",
            "4.0\n",
            "5.0\n",
            "6.0\n"
          ]
        }
      ],
      "source": [
        "# перебор правильным способом\n",
        "print(a)\n",
        "print('*'*32)\n",
        "\n",
        "for x in range(a.shape[0]):\n",
        "  for y in range(a.shape[1]):\n",
        "    print(a[x, y])"
      ]
    },
    {
      "cell_type": "markdown",
      "metadata": {
        "id": "XOFzhZRTm0sJ"
      },
      "source": [
        "## Операции над массивами"
      ]
    },
    {
      "cell_type": "markdown",
      "metadata": {
        "id": "r2uNeGpuirH0"
      },
      "source": [
        "### Математические операции над массивами\n",
        "\n",
        "С массивами можно применять стандартные математические операции. Они будут работать так, как будето происходит поэлементая работа одной и той же операции. Для матричных операций есть специальные команды.\n",
        "\n",
        "**Стандартные математические операции применимы только к массивам одинаковых размеров.**"
      ]
    },
    {
      "cell_type": "code",
      "execution_count": 44,
      "metadata": {
        "colab": {
          "base_uri": "https://localhost:8080/"
        },
        "id": "K1hOsCfeiqJu",
        "outputId": "907f7285-80c3-4553-d75c-361b1ff16635"
      },
      "outputs": [
        {
          "name": "stdout",
          "output_type": "stream",
          "text": [
            "a:  [1 2 3]\n",
            "b:  [6 7 8]\n"
          ]
        }
      ],
      "source": [
        "a = np.arange(1, 4, 1, dtype=int)\n",
        "b = np.arange(6, 9, 1, dtype=int)\n",
        "print('a: ', a)\n",
        "print('b: ', b)"
      ]
    },
    {
      "cell_type": "code",
      "execution_count": 45,
      "metadata": {
        "colab": {
          "base_uri": "https://localhost:8080/"
        },
        "id": "TpowhPPXjRkK",
        "outputId": "73c2d0da-b76c-4cda-e9ed-adce23902563"
      },
      "outputs": [
        {
          "data": {
            "text/plain": [
              "array([ 7,  9, 11])"
            ]
          },
          "execution_count": 45,
          "metadata": {},
          "output_type": "execute_result"
        }
      ],
      "source": [
        "a + b"
      ]
    },
    {
      "cell_type": "code",
      "execution_count": 46,
      "metadata": {
        "colab": {
          "base_uri": "https://localhost:8080/"
        },
        "id": "vyVouUUsjS66",
        "outputId": "269e6019-03f0-4030-97ec-a6fca69158c4"
      },
      "outputs": [
        {
          "data": {
            "text/plain": [
              "array([-5, -5, -5])"
            ]
          },
          "execution_count": 46,
          "metadata": {},
          "output_type": "execute_result"
        }
      ],
      "source": [
        "a - b"
      ]
    },
    {
      "cell_type": "code",
      "execution_count": 47,
      "metadata": {
        "colab": {
          "base_uri": "https://localhost:8080/"
        },
        "id": "zB1ctuxdjWY6",
        "outputId": "cd80a1ec-ad0e-466b-b4eb-9db1f1d0de67"
      },
      "outputs": [
        {
          "data": {
            "text/plain": [
              "array([ 6, 14, 24])"
            ]
          },
          "execution_count": 47,
          "metadata": {},
          "output_type": "execute_result"
        }
      ],
      "source": [
        "a * b"
      ]
    },
    {
      "cell_type": "code",
      "execution_count": 51,
      "metadata": {
        "colab": {
          "base_uri": "https://localhost:8080/"
        },
        "id": "VfvB9qhPjXvr",
        "outputId": "bc70345c-afd1-4137-d12e-690a19f9237b"
      },
      "outputs": [
        {
          "data": {
            "text/plain": [
              "array([6.        , 3.5       , 2.66666667])"
            ]
          },
          "execution_count": 51,
          "metadata": {},
          "output_type": "execute_result"
        }
      ],
      "source": [
        "b / a"
      ]
    },
    {
      "cell_type": "code",
      "execution_count": 49,
      "metadata": {
        "colab": {
          "base_uri": "https://localhost:8080/"
        },
        "id": "gyn1iRjojZG_",
        "outputId": "ef9a85da-e834-436b-8b04-8de135ccb288"
      },
      "outputs": [
        {
          "data": {
            "text/plain": [
              "array([1, 2, 3], dtype=int32)"
            ]
          },
          "execution_count": 49,
          "metadata": {},
          "output_type": "execute_result"
        }
      ],
      "source": [
        "a % b"
      ]
    },
    {
      "cell_type": "code",
      "execution_count": 52,
      "metadata": {
        "colab": {
          "base_uri": "https://localhost:8080/"
        },
        "id": "1sROVXt_jasJ",
        "outputId": "0d072e80-d9e2-4c09-fae4-1804aac97142"
      },
      "outputs": [
        {
          "data": {
            "text/plain": [
              "array([  6,  49, 512], dtype=int32)"
            ]
          },
          "execution_count": 52,
          "metadata": {},
          "output_type": "execute_result"
        }
      ],
      "source": [
        "b**a"
      ]
    },
    {
      "cell_type": "code",
      "execution_count": 53,
      "metadata": {
        "colab": {
          "base_uri": "https://localhost:8080/"
        },
        "id": "N3wNkmy1jcX_",
        "outputId": "24f50852-c7d2-4a84-fb4f-68c320183ac3"
      },
      "outputs": [
        {
          "data": {
            "text/plain": [
              "array([0, 0, 0], dtype=int32)"
            ]
          },
          "execution_count": 53,
          "metadata": {},
          "output_type": "execute_result"
        }
      ],
      "source": [
        "a // b"
      ]
    },
    {
      "cell_type": "markdown",
      "metadata": {
        "id": "5C02Z_nOj7Vv"
      },
      "source": [
        "Кроме того, поэлементно могут быть применены другие математические операции"
      ]
    },
    {
      "cell_type": "code",
      "execution_count": 54,
      "metadata": {
        "colab": {
          "base_uri": "https://localhost:8080/"
        },
        "id": "qD8eOzmpj6pi",
        "outputId": "e2a4ed22-8ee2-434f-d15e-530e780cf325"
      },
      "outputs": [
        {
          "data": {
            "text/plain": [
              "array([1.        , 1.41421356, 1.73205081])"
            ]
          },
          "execution_count": 54,
          "metadata": {},
          "output_type": "execute_result"
        }
      ],
      "source": [
        "# корень\n",
        "np.sqrt(a)"
      ]
    },
    {
      "cell_type": "code",
      "execution_count": 59,
      "metadata": {
        "id": "mcX6QHJpkE5J"
      },
      "outputs": [],
      "source": [
        "a = np.array([1.1, 1.4, 1.5, 1.9], float)"
      ]
    },
    {
      "cell_type": "code",
      "execution_count": 60,
      "metadata": {
        "colab": {
          "base_uri": "https://localhost:8080/"
        },
        "id": "AxZwfU8XkGLv",
        "outputId": "54516a65-eb0c-491f-91ec-a5bc701eb8ad"
      },
      "outputs": [
        {
          "data": {
            "text/plain": [
              "array([1., 1., 1., 1.])"
            ]
          },
          "execution_count": 60,
          "metadata": {},
          "output_type": "execute_result"
        }
      ],
      "source": [
        "# округление вниз\n",
        "np.floor(a)"
      ]
    },
    {
      "cell_type": "code",
      "execution_count": 61,
      "metadata": {
        "colab": {
          "base_uri": "https://localhost:8080/"
        },
        "id": "0Jqw5BxKkHcS",
        "outputId": "e34b042a-a04d-4811-ba28-9863d8f0faa0"
      },
      "outputs": [
        {
          "data": {
            "text/plain": [
              "array([2., 2., 2., 2.])"
            ]
          },
          "execution_count": 61,
          "metadata": {},
          "output_type": "execute_result"
        }
      ],
      "source": [
        "# округление вверх\n",
        "np.ceil(a)"
      ]
    },
    {
      "cell_type": "code",
      "execution_count": 62,
      "metadata": {
        "colab": {
          "base_uri": "https://localhost:8080/"
        },
        "id": "Hmf_VZnKkIxm",
        "outputId": "1ffd1a16-c0c1-4525-dc24-b524766cc2d2"
      },
      "outputs": [
        {
          "data": {
            "text/plain": [
              "array([1., 1., 2., 2.])"
            ]
          },
          "execution_count": 62,
          "metadata": {},
          "output_type": "execute_result"
        }
      ],
      "source": [
        "# округление по правилам математики\n",
        "np.rint(a)"
      ]
    },
    {
      "cell_type": "markdown",
      "metadata": {
        "id": "9RVxKPPzm48-"
      },
      "source": [
        "### Простые операции над массивами"
      ]
    },
    {
      "cell_type": "markdown",
      "metadata": {
        "id": "4kul0PInoCR9"
      },
      "source": [
        "#### Одномерные массивы"
      ]
    },
    {
      "cell_type": "code",
      "execution_count": 63,
      "metadata": {
        "colab": {
          "base_uri": "https://localhost:8080/"
        },
        "id": "mq19j01pnN8G",
        "outputId": "3ec6509e-5bd8-4334-c622-e17aaf3eb1bc"
      },
      "outputs": [
        {
          "name": "stdout",
          "output_type": "stream",
          "text": [
            "[1 2 3 4 5]\n",
            "Сумма:  15\n",
            "Перемножение:  120\n"
          ]
        }
      ],
      "source": [
        "a = np.arange(1, 6, 1)\n",
        "print(a)\n",
        "print('Сумма: ', a.sum())\n",
        "print('Перемножение: ', a.prod())"
      ]
    },
    {
      "cell_type": "code",
      "execution_count": 64,
      "metadata": {
        "colab": {
          "base_uri": "https://localhost:8080/"
        },
        "id": "6Mr3ICs2nlLF",
        "outputId": "993b04ed-83f4-46d3-d46f-a65270255706"
      },
      "outputs": [
        {
          "data": {
            "text/plain": [
              "3.0"
            ]
          },
          "execution_count": 64,
          "metadata": {},
          "output_type": "execute_result"
        }
      ],
      "source": [
        "# среднее (математическое ожидание)\n",
        "a.mean()"
      ]
    },
    {
      "cell_type": "code",
      "execution_count": 65,
      "metadata": {
        "colab": {
          "base_uri": "https://localhost:8080/"
        },
        "id": "2YYUh5JdnmaL",
        "outputId": "60fa0629-803e-41ef-dfd3-a50dad4cd68f"
      },
      "outputs": [
        {
          "data": {
            "text/plain": [
              "2.0"
            ]
          },
          "execution_count": 65,
          "metadata": {},
          "output_type": "execute_result"
        }
      ],
      "source": [
        "# дисперсия (смещенная - это будет важно в дальнейшем)\n",
        "a.var()"
      ]
    },
    {
      "cell_type": "code",
      "execution_count": 66,
      "metadata": {
        "colab": {
          "base_uri": "https://localhost:8080/"
        },
        "id": "ahaWzOm0nnia",
        "outputId": "5ef0b26c-16d8-4e34-8452-40f8d0031652"
      },
      "outputs": [
        {
          "data": {
            "text/plain": [
              "1.4142135623730951"
            ]
          },
          "execution_count": 66,
          "metadata": {},
          "output_type": "execute_result"
        }
      ],
      "source": [
        "# стандартное отклонение (несмещенное - это тоже будет важно в дальнейшем)\n",
        "a.std()"
      ]
    },
    {
      "cell_type": "code",
      "execution_count": 67,
      "metadata": {
        "colab": {
          "base_uri": "https://localhost:8080/"
        },
        "id": "b-bIkJ2Wn2x5",
        "outputId": "d780c94c-f801-4aed-c897-541417b8602f"
      },
      "outputs": [
        {
          "data": {
            "text/plain": [
              "1"
            ]
          },
          "execution_count": 67,
          "metadata": {},
          "output_type": "execute_result"
        }
      ],
      "source": [
        "a.min()"
      ]
    },
    {
      "cell_type": "code",
      "execution_count": 68,
      "metadata": {
        "colab": {
          "base_uri": "https://localhost:8080/"
        },
        "id": "0AxTdqczn4jx",
        "outputId": "c102568e-1bab-429f-ce67-4ff09341dbef"
      },
      "outputs": [
        {
          "data": {
            "text/plain": [
              "0"
            ]
          },
          "execution_count": 68,
          "metadata": {},
          "output_type": "execute_result"
        }
      ],
      "source": [
        "a.argmin()"
      ]
    },
    {
      "cell_type": "code",
      "execution_count": 69,
      "metadata": {
        "colab": {
          "base_uri": "https://localhost:8080/"
        },
        "id": "QIYU068WodfS",
        "outputId": "ac0e8f08-8130-480c-fa53-e304eb8e76ab"
      },
      "outputs": [
        {
          "data": {
            "text/plain": [
              "array([5., 2., 5., 0., 0., 5., 2., 5., 4.])"
            ]
          },
          "execution_count": 69,
          "metadata": {},
          "output_type": "execute_result"
        }
      ],
      "source": [
        "# clip позволяет \"отрезать\" значения сверху и снизу\n",
        "a = np.array([6, 2, 5, -1, 0, 6, 2, 5, 4], float)\n",
        "a.clip(0, 5)"
      ]
    },
    {
      "cell_type": "code",
      "execution_count": 70,
      "metadata": {
        "colab": {
          "base_uri": "https://localhost:8080/"
        },
        "id": "U2LfpmtFoswk",
        "outputId": "f74b8b54-a7df-43ec-8c56-2dd831c0db4a"
      },
      "outputs": [
        {
          "data": {
            "text/plain": [
              "array([-1.,  0.,  2.,  4.,  5.,  6.])"
            ]
          },
          "execution_count": 70,
          "metadata": {},
          "output_type": "execute_result"
        }
      ],
      "source": [
        "np.unique(a)"
      ]
    },
    {
      "cell_type": "markdown",
      "metadata": {
        "id": "44hny-booF_m"
      },
      "source": [
        "#### Многомерные массивы\n",
        "Для работы с многомерными массивами можно использовать параметр `axis`."
      ]
    },
    {
      "cell_type": "code",
      "execution_count": 71,
      "metadata": {
        "colab": {
          "base_uri": "https://localhost:8080/"
        },
        "id": "JP1uT4h1oBCW",
        "outputId": "355979a2-0fa0-44c0-c7ed-0b48e80d6992"
      },
      "outputs": [
        {
          "name": "stdout",
          "output_type": "stream",
          "text": [
            "[[ 5  2]\n",
            " [ 4  1]\n",
            " [ 3 -1]]\n",
            "[4.         0.66666667]\n",
            "[3.5 2.5 1. ]\n"
          ]
        }
      ],
      "source": [
        "a = np.array([[5, 2], [4, 1], [3, -1]])\n",
        "print(a)\n",
        "print(a.mean(axis=0))\n",
        "print(a.mean(axis=1))"
      ]
    },
    {
      "cell_type": "markdown",
      "metadata": {
        "id": "I-CcWYy6gZmu"
      },
      "source": [
        "### Логические операции над массивами"
      ]
    },
    {
      "cell_type": "code",
      "execution_count": 73,
      "metadata": {
        "colab": {
          "base_uri": "https://localhost:8080/"
        },
        "id": "z3bn4sbfg29f",
        "outputId": "6359f80f-a534-4d65-cc89-5f3ad6c57813"
      },
      "outputs": [
        {
          "name": "stdout",
          "output_type": "stream",
          "text": [
            "[ True False False] <class 'numpy.ndarray'>\n"
          ]
        }
      ],
      "source": [
        "a = np.array([1, 3, 0])\n",
        "b = np.array([0, 3, 2])\n",
        "\n",
        "print(a > b, type(a>b))"
      ]
    },
    {
      "cell_type": "code",
      "execution_count": 74,
      "metadata": {
        "colab": {
          "base_uri": "https://localhost:8080/"
        },
        "id": "XzxjJtORhJu4",
        "outputId": "44d6f003-e96b-4250-e65b-2f5b9db809f0"
      },
      "outputs": [
        {
          "data": {
            "text/plain": [
              "array([False,  True, False])"
            ]
          },
          "execution_count": 74,
          "metadata": {},
          "output_type": "execute_result"
        }
      ],
      "source": [
        "c = a > 2\n",
        "c"
      ]
    },
    {
      "cell_type": "code",
      "execution_count": 76,
      "metadata": {
        "colab": {
          "base_uri": "https://localhost:8080/"
        },
        "id": "Lsugeay6hR4P",
        "outputId": "56e158f3-70fe-43f8-eb09-4963caef4e56"
      },
      "outputs": [
        {
          "name": "stdout",
          "output_type": "stream",
          "text": [
            "True\n",
            "False\n"
          ]
        }
      ],
      "source": [
        "# проверяем, что хотя бы один элемент истинен\n",
        "print(any(c))\n",
        "# проверяем, что все элементы истинны\n",
        "print(all(c))"
      ]
    },
    {
      "cell_type": "markdown",
      "metadata": {
        "id": "sMnWDf0ehlKw"
      },
      "source": [
        "Если вы хотите провести сравнение логическим И или лолгическим ИЛИ, то необходимо воспользоваться специальнымыми методами:\n",
        "\n",
        "\n",
        "```\n",
        "np.logical_and(_, _)\n",
        "np.logical_or(_, _)\n",
        "np.logical_not(_)\n",
        "```\n",
        "\n"
      ]
    },
    {
      "cell_type": "code",
      "execution_count": 79,
      "metadata": {
        "colab": {
          "base_uri": "https://localhost:8080/",
          "height": 163
        },
        "id": "waHiE2F5huzL",
        "outputId": "6cc6d1be-bf21-4b5f-ec54-c81ee3f0af9a"
      },
      "outputs": [
        {
          "name": "stdout",
          "output_type": "stream",
          "text": [
            "[1 3 0]\n"
          ]
        },
        {
          "ename": "ValueError",
          "evalue": "The truth value of an array with more than one element is ambiguous. Use a.any() or a.all()",
          "output_type": "error",
          "traceback": [
            "\u001b[1;31m---------------------------------------------------------------------------\u001b[0m",
            "\u001b[1;31mValueError\u001b[0m                                Traceback (most recent call last)",
            "\u001b[1;32mc:\\Users\\Anton\\Downloads\\my_dev_proj\\code_repos\\samsung_ml_bootcamp\\lections\\Урок_02_Numpy.ipynb Ячейка 70\u001b[0m in \u001b[0;36m<cell line: 2>\u001b[1;34m()\u001b[0m\n\u001b[0;32m      <a href='vscode-notebook-cell:/c%3A/Users/Anton/Downloads/my_dev_proj/code_repos/samsung_ml_bootcamp/lections/%D0%A3%D1%80%D0%BE%D0%BA_02_Numpy.ipynb#ch0000070?line=0'>1</a>\u001b[0m \u001b[39mprint\u001b[39m(a)\n\u001b[1;32m----> <a href='vscode-notebook-cell:/c%3A/Users/Anton/Downloads/my_dev_proj/code_repos/samsung_ml_bootcamp/lections/%D0%A3%D1%80%D0%BE%D0%BA_02_Numpy.ipynb#ch0000070?line=1'>2</a>\u001b[0m a \u001b[39m<\u001b[39m \u001b[39m3\u001b[39m \u001b[39mand\u001b[39;00m a \u001b[39m>\u001b[39m \u001b[39m0\u001b[39m\n",
            "\u001b[1;31mValueError\u001b[0m: The truth value of an array with more than one element is ambiguous. Use a.any() or a.all()"
          ]
        }
      ],
      "source": [
        "print(a)\n",
        "a < 3 and a > 0"
      ]
    },
    {
      "cell_type": "code",
      "execution_count": 80,
      "metadata": {
        "colab": {
          "base_uri": "https://localhost:8080/"
        },
        "id": "osCxOg27hzeH",
        "outputId": "190cc1d9-164f-4d58-e921-4b33cd6e93ee"
      },
      "outputs": [
        {
          "name": "stdout",
          "output_type": "stream",
          "text": [
            "[1 3 0]\n"
          ]
        },
        {
          "data": {
            "text/plain": [
              "array([ True, False, False])"
            ]
          },
          "execution_count": 80,
          "metadata": {},
          "output_type": "execute_result"
        }
      ],
      "source": [
        "print(a)\n",
        "np.logical_and(a > 0, a < 3)"
      ]
    },
    {
      "cell_type": "markdown",
      "metadata": {
        "id": "7cz4ZxqNiKwk"
      },
      "source": [
        "С помощью `np.where` можно создать массив на основании условий. \n",
        "Синтаксис:\n",
        "\n",
        "\n",
        "```\n",
        "where(boolarray, truearray, falsearray)\n",
        "```\n",
        "\n"
      ]
    },
    {
      "cell_type": "code",
      "execution_count": 82,
      "metadata": {
        "colab": {
          "base_uri": "https://localhost:8080/"
        },
        "id": "lNuVgYU_iTt2",
        "outputId": "89953f61-9691-459f-cd52-232f67226fd8"
      },
      "outputs": [
        {
          "name": "stdout",
          "output_type": "stream",
          "text": [
            "[1 3 0]\n"
          ]
        },
        {
          "name": "stderr",
          "output_type": "stream",
          "text": [
            "C:\\Users\\Anton\\AppData\\Local\\Temp\\ipykernel_12576\\4091822227.py:2: RuntimeWarning: divide by zero encountered in true_divide\n",
            "  np.where(a != 0, 1 / a, a)\n"
          ]
        },
        {
          "data": {
            "text/plain": [
              "array([1.        , 0.33333333, 0.        ])"
            ]
          },
          "execution_count": 82,
          "metadata": {},
          "output_type": "execute_result"
        }
      ],
      "source": [
        "print(a)\n",
        "np.where(a != 0, 1 / a, a)"
      ]
    },
    {
      "cell_type": "markdown",
      "metadata": {
        "id": "iFFWAZjqjtm3"
      },
      "source": [
        "Можно проверять элементы массива на наличие NaN и бесконечностей."
      ]
    },
    {
      "cell_type": "code",
      "execution_count": 88,
      "metadata": {
        "id": "1ue7ilLfixGs"
      },
      "outputs": [],
      "source": [
        "a = np.array([1, np.NaN, np.Inf], float)"
      ]
    },
    {
      "cell_type": "code",
      "execution_count": 89,
      "metadata": {
        "colab": {
          "base_uri": "https://localhost:8080/"
        },
        "id": "f4m9oOQijaAA",
        "outputId": "60367c24-d358-44c2-8cec-2c4bb230c91b"
      },
      "outputs": [
        {
          "data": {
            "text/plain": [
              "array([False,  True, False])"
            ]
          },
          "execution_count": 89,
          "metadata": {},
          "output_type": "execute_result"
        }
      ],
      "source": [
        "np.isnan(a)"
      ]
    },
    {
      "cell_type": "code",
      "execution_count": 91,
      "metadata": {
        "colab": {
          "base_uri": "https://localhost:8080/"
        },
        "id": "kzYOI003jdCT",
        "outputId": "4df7f668-26d8-4cb8-ac4e-1bd4ba45b1a4"
      },
      "outputs": [
        {
          "data": {
            "text/plain": [
              "array([ True, False, False])"
            ]
          },
          "execution_count": 91,
          "metadata": {},
          "output_type": "execute_result"
        }
      ],
      "source": [
        "# конечны ли значения?\n",
        "np.isfinite(a)"
      ]
    },
    {
      "cell_type": "markdown",
      "metadata": {
        "id": "8t6HiD0ckFk1"
      },
      "source": [
        "### Выбор элементов массива по условию\n",
        "\n",
        "Очень важной особенностью массивов является то, что элементы в них можно брать на основании других массивов. Это особенно полезно при реализации свёрточных нейронных сетей."
      ]
    },
    {
      "cell_type": "code",
      "execution_count": 93,
      "metadata": {
        "colab": {
          "base_uri": "https://localhost:8080/"
        },
        "id": "ydOgfU9Oj4Cx",
        "outputId": "bcf0ee39-c607-4449-f966-7045c07df024"
      },
      "outputs": [
        {
          "data": {
            "text/plain": [
              "array([[ True, False],\n",
              "       [False,  True]])"
            ]
          },
          "execution_count": 93,
          "metadata": {},
          "output_type": "execute_result"
        }
      ],
      "source": [
        "# это результат применения логической операции к многомерному массиву\n",
        "a = np.array([[6, 4], [5, 9]], float)\n",
        "a >= 6"
      ]
    },
    {
      "cell_type": "code",
      "execution_count": 94,
      "metadata": {
        "colab": {
          "base_uri": "https://localhost:8080/"
        },
        "id": "CP9XFc23ksri",
        "outputId": "2cdbba25-064a-468b-b631-150741f59f11"
      },
      "outputs": [
        {
          "data": {
            "text/plain": [
              "array([6., 9.])"
            ]
          },
          "execution_count": 94,
          "metadata": {},
          "output_type": "execute_result"
        }
      ],
      "source": [
        "# а это результат фильтрации элементов\n",
        "# обратите внимание, получился одномерный массив, содержащий только элементы, удовлетворяющие условию \n",
        "a[a >= 6]"
      ]
    },
    {
      "cell_type": "code",
      "execution_count": 96,
      "metadata": {
        "colab": {
          "base_uri": "https://localhost:8080/"
        },
        "id": "SYnoVd85lNOi",
        "outputId": "3690be39-5e37-42e9-d528-d651fab80482"
      },
      "outputs": [
        {
          "data": {
            "text/plain": [
              "array([6.])"
            ]
          },
          "execution_count": 96,
          "metadata": {},
          "output_type": "execute_result"
        }
      ],
      "source": [
        "a[np.logical_and(a > 5, a < 9)]"
      ]
    },
    {
      "cell_type": "markdown",
      "metadata": {
        "id": "RE6p2vyRlPnn"
      },
      "source": [
        "Обратите внимание, что если передать целочисленные значения, в качестве условий, то результат будет другой. Будут выбраны соответствующие элементы. "
      ]
    },
    {
      "cell_type": "code",
      "execution_count": 98,
      "metadata": {
        "colab": {
          "base_uri": "https://localhost:8080/"
        },
        "id": "EiQhJ-OmlaW7",
        "outputId": "81c29762-227c-4e26-9b1a-01580b8a08f5"
      },
      "outputs": [
        {
          "data": {
            "text/plain": [
              "array([2., 2., 4., 8., 6., 4.])"
            ]
          },
          "execution_count": 98,
          "metadata": {},
          "output_type": "execute_result"
        }
      ],
      "source": [
        "a = np.array([2, 4, 6, 8], float)\n",
        "b = np.array([0, 0, 1, 3, 2, 1], int)\n",
        "a[b]"
      ]
    },
    {
      "cell_type": "code",
      "execution_count": 99,
      "metadata": {
        "colab": {
          "base_uri": "https://localhost:8080/"
        },
        "id": "9VzF3Achpgsw",
        "outputId": "f4c8f557-7846-4034-90fa-309f04eba92e"
      },
      "outputs": [
        {
          "data": {
            "text/plain": [
              "array([ 1.,  4., 16., 16.,  4.])"
            ]
          },
          "execution_count": 99,
          "metadata": {},
          "output_type": "execute_result"
        }
      ],
      "source": [
        "# Для выбора значений из многомерных массивов необходимо передать массивы,\n",
        "# которые определяют индексы по каждому из направлений.\n",
        "# Они должны быть, естественно, целочисленными.\n",
        "a = np.array([[1, 4], [9, 16]], float)\n",
        "b = np.array([0, 0, 1, 1, 0], int)\n",
        "c = np.array([0, 1, 1, 1, 1], int)\n",
        "a[b, c]\n"
      ]
    },
    {
      "cell_type": "markdown",
      "metadata": {
        "id": "tcAPABuYp8s0"
      },
      "source": [
        "## Векторная и матричная математика с использованием numpy\n",
        "\n",
        "Векторная математика в numpy - это главная причина того, что numpy стал ключевым модулем Python среди всех представленных модулей. Векторные вычисления позволяют значительно ускорить обработку численной информации. \n",
        "\n",
        "Часто сравнивая Python c С++/C говорят том, что первый гораздо менее производителен. Но с учётом современных модулей верно следующее утверждение: хорошо написанная программа на Python будет производительнее, чем средняя программа на C/C++, хорошую программу на C/C++ написать крайне сложно. \n",
        "\n",
        "В дополнении к арифметическим операциям мы рассмотрим некоторые векторные операции. Глубокое погружение в их суть требует значительных знаний математики, которые мы будем получать по мере необходимости. "
      ]
    },
    {
      "cell_type": "markdown",
      "metadata": {
        "id": "CmYD6oX1sU0Y"
      },
      "source": [
        "### Скалярное произведение\n",
        "\n",
        "Для двух векторов a и b одинаковой длины скалярное произведение считается по следующей формуле:\n",
        "\n",
        "$ a*b = \\sum_{i=0}^{len(a)}  a_i*b_i $"
      ]
    },
    {
      "cell_type": "code",
      "execution_count": 101,
      "metadata": {
        "colab": {
          "base_uri": "https://localhost:8080/"
        },
        "id": "DxYXBsMdrEih",
        "outputId": "fa894550-7745-450b-edbc-67a50b82fc14"
      },
      "outputs": [
        {
          "data": {
            "text/plain": [
              "5.0"
            ]
          },
          "execution_count": 101,
          "metadata": {},
          "output_type": "execute_result"
        }
      ],
      "source": [
        "# скалярное произведение векторов, также операция свёртки в свёрточных нейронных сетях \n",
        "\n",
        "a = np.array([1, 2, 3], float)\n",
        "b = np.array([0, 1, 1], float)\n",
        "np.dot(a, b)"
      ]
    },
    {
      "cell_type": "markdown",
      "metadata": {
        "id": "pTodEGiqrogd"
      },
      "source": [
        "### Произведение матриц\n",
        "\n",
        "Произведение матриц - это особая математическая операция, которая не эквивалентна произведени соответствующих элементов матриц. О матричном произведении целесообразно говорить в рамках соответствующих разделов математики. Тем не менее, используя numpy легко получить матричное произведение."
      ]
    },
    {
      "cell_type": "code",
      "execution_count": 102,
      "metadata": {
        "id": "U7Dk0saXse_3"
      },
      "outputs": [],
      "source": [
        "a = np.array([[0, 1], [2, 3]], float)\n",
        "b = np.array([2, 3], float)\n",
        "d = np.array([[1, 1, 1], [1, 1, 1], [1, 1, 1]], float)"
      ]
    },
    {
      "cell_type": "code",
      "execution_count": 103,
      "metadata": {
        "colab": {
          "base_uri": "https://localhost:8080/"
        },
        "id": "2bfSYAVWs_-7",
        "outputId": "aa0afd03-7cd8-4a47-fc81-77e8307e7822"
      },
      "outputs": [
        {
          "name": "stdout",
          "output_type": "stream",
          "text": [
            "(2,) (2, 2)\n"
          ]
        },
        {
          "data": {
            "text/plain": [
              "array([ 6., 11.])"
            ]
          },
          "execution_count": 103,
          "metadata": {},
          "output_type": "execute_result"
        }
      ],
      "source": [
        "print(b.shape, a.shape)\n",
        "np.dot(b, a)"
      ]
    },
    {
      "cell_type": "code",
      "execution_count": 104,
      "metadata": {
        "colab": {
          "base_uri": "https://localhost:8080/"
        },
        "id": "yOxVqmgqtAjj",
        "outputId": "c97225f2-5415-4eef-be34-5b0c008109b0"
      },
      "outputs": [
        {
          "name": "stdout",
          "output_type": "stream",
          "text": [
            "(2, 2) (2,)\n"
          ]
        },
        {
          "data": {
            "text/plain": [
              "array([ 3., 13.])"
            ]
          },
          "execution_count": 104,
          "metadata": {},
          "output_type": "execute_result"
        }
      ],
      "source": [
        "print(a.shape, b.shape)\n",
        "np.dot(a, b)"
      ]
    },
    {
      "cell_type": "code",
      "execution_count": 105,
      "metadata": {
        "colab": {
          "base_uri": "https://localhost:8080/",
          "height": 197
        },
        "id": "KdF8ZTYdtM6N",
        "outputId": "be469ce4-0dfd-457d-ad9f-0df8020e7420"
      },
      "outputs": [
        {
          "name": "stdout",
          "output_type": "stream",
          "text": [
            "(2,) (3, 3)\n"
          ]
        },
        {
          "ename": "ValueError",
          "evalue": "shapes (2,) and (3,3) not aligned: 2 (dim 0) != 3 (dim 0)",
          "output_type": "error",
          "traceback": [
            "\u001b[1;31m---------------------------------------------------------------------------\u001b[0m",
            "\u001b[1;31mValueError\u001b[0m                                Traceback (most recent call last)",
            "\u001b[1;32mc:\\Users\\Anton\\Downloads\\my_dev_proj\\code_repos\\samsung_ml_bootcamp\\lections\\Урок_02_Numpy.ipynb Ячейка 92\u001b[0m in \u001b[0;36m<cell line: 3>\u001b[1;34m()\u001b[0m\n\u001b[0;32m      <a href='vscode-notebook-cell:/c%3A/Users/Anton/Downloads/my_dev_proj/code_repos/samsung_ml_bootcamp/lections/%D0%A3%D1%80%D0%BE%D0%BA_02_Numpy.ipynb#ch0000092?line=0'>1</a>\u001b[0m \u001b[39mprint\u001b[39m(b\u001b[39m.\u001b[39mshape, d\u001b[39m.\u001b[39mshape)\n\u001b[0;32m      <a href='vscode-notebook-cell:/c%3A/Users/Anton/Downloads/my_dev_proj/code_repos/samsung_ml_bootcamp/lections/%D0%A3%D1%80%D0%BE%D0%BA_02_Numpy.ipynb#ch0000092?line=1'>2</a>\u001b[0m \u001b[39m# следите за размерностью, иначе ничего не получится\u001b[39;00m\n\u001b[1;32m----> <a href='vscode-notebook-cell:/c%3A/Users/Anton/Downloads/my_dev_proj/code_repos/samsung_ml_bootcamp/lections/%D0%A3%D1%80%D0%BE%D0%BA_02_Numpy.ipynb#ch0000092?line=2'>3</a>\u001b[0m np\u001b[39m.\u001b[39;49mdot(b, d)\n",
            "File \u001b[1;32m<__array_function__ internals>:5\u001b[0m, in \u001b[0;36mdot\u001b[1;34m(*args, **kwargs)\u001b[0m\n",
            "\u001b[1;31mValueError\u001b[0m: shapes (2,) and (3,3) not aligned: 2 (dim 0) != 3 (dim 0)"
          ]
        }
      ],
      "source": [
        "print(b.shape, d.shape)\n",
        "# следите за размерностью, иначе ничего не получится\n",
        "np.dot(b, d)"
      ]
    },
    {
      "cell_type": "markdown",
      "metadata": {
        "id": "HE0b3-mVtj5L"
      },
      "source": [
        "### Определитель матриц\n",
        "\n",
        "Многие математические операции, связанные с линейной алгеброй реализованы в модуле linalg внутри numpy. Мы не будем углулбляться в различные функциия модуля, рассмотрим для примера определитель. "
      ]
    },
    {
      "cell_type": "code",
      "execution_count": 106,
      "metadata": {
        "colab": {
          "base_uri": "https://localhost:8080/"
        },
        "id": "_SeZ2fV6vaVV",
        "outputId": "d03958a9-5532-427c-8690-78af22f92fa9"
      },
      "outputs": [
        {
          "data": {
            "text/plain": [
              "-2.0"
            ]
          },
          "execution_count": 106,
          "metadata": {},
          "output_type": "execute_result"
        }
      ],
      "source": [
        "np.linalg.det(a)"
      ]
    },
    {
      "cell_type": "markdown",
      "metadata": {
        "id": "Wexheqa8vyh7"
      },
      "source": [
        "# Дополнительный материал для желающих\n",
        "\n",
        "[Несучный туториал по numpy](https://habr.com/ru/post/469355/)"
      ]
    },
    {
      "cell_type": "markdown",
      "metadata": {
        "id": "vTu7Ibz2CesK"
      },
      "source": [
        "# Задания"
      ]
    },
    {
      "cell_type": "markdown",
      "metadata": {
        "id": "EobX-nHRDeT5"
      },
      "source": [
        "Создать матрицу размером `10х10` с 0 внутри, и 1 на границах. Например для `3х3`.\n",
        "\n",
        "```\n",
        "1 1 1\n",
        "1 0 1\n",
        "1 1 1\n",
        "```\n",
        "Количество строк кода идеального решения: 2  \n",
        "Кроме print()"
      ]
    },
    {
      "cell_type": "code",
      "execution_count": 110,
      "metadata": {
        "id": "MGvbhlGHCiJR"
      },
      "outputs": [
        {
          "name": "stdout",
          "output_type": "stream",
          "text": [
            "[[1. 1. 1.]\n",
            " [1. 0. 1.]\n",
            " [1. 1. 1.]]\n"
          ]
        }
      ],
      "source": [
        "mtx = np.ones((3,3))\n",
        "mtx[1,1] = 0\n",
        "print(mtx)"
      ]
    },
    {
      "cell_type": "markdown",
      "metadata": {
        "id": "vnY0gsMOD45W"
      },
      "source": [
        "Создать 5x5 матрицу с 1, 2, 3, 4 над диагональю. Все остальные элементы - 0.\n",
        "\n",
        "Количество строк кода идеального решения: 1   \n",
        "Кроме print()"
      ]
    },
    {
      "cell_type": "code",
      "execution_count": 130,
      "metadata": {
        "id": "tnKHSJApEY4w"
      },
      "outputs": [
        {
          "ename": "ValueError",
          "evalue": "operands could not be broadcast together with shapes (5,5) (4,) ",
          "output_type": "error",
          "traceback": [
            "\u001b[1;31m---------------------------------------------------------------------------\u001b[0m",
            "\u001b[1;31mValueError\u001b[0m                                Traceback (most recent call last)",
            "\u001b[1;32mc:\\Users\\Anton\\Downloads\\my_dev_proj\\code_repos\\samsung_ml_bootcamp\\lections\\Урок_02_Numpy.ipynb Ячейка 100\u001b[0m in \u001b[0;36m<cell line: 1>\u001b[1;34m()\u001b[0m\n\u001b[1;32m----> <a href='vscode-notebook-cell:/c%3A/Users/Anton/Downloads/my_dev_proj/code_repos/samsung_ml_bootcamp/lections/%D0%A3%D1%80%D0%BE%D0%BA_02_Numpy.ipynb#ch0000100?line=0'>1</a>\u001b[0m mtx \u001b[39m=\u001b[39m np\u001b[39m.\u001b[39;49msubtract(np\u001b[39m.\u001b[39;49meye(\u001b[39m5\u001b[39;49m, k\u001b[39m=\u001b[39;49m\u001b[39m1\u001b[39;49m), np\u001b[39m.\u001b[39;49marange(\u001b[39m1\u001b[39;49m,\u001b[39m5\u001b[39;49m))\n\u001b[0;32m      <a href='vscode-notebook-cell:/c%3A/Users/Anton/Downloads/my_dev_proj/code_repos/samsung_ml_bootcamp/lections/%D0%A3%D1%80%D0%BE%D0%BA_02_Numpy.ipynb#ch0000100?line=1'>2</a>\u001b[0m \u001b[39mprint\u001b[39m(mtx)\n",
            "\u001b[1;31mValueError\u001b[0m: operands could not be broadcast together with shapes (5,5) (4,) "
          ]
        }
      ],
      "source": [
        "mtx = np.subtract(np.eye(5, k=1), np.arange(1,5))\n",
        "print(mtx)"
      ]
    },
    {
      "cell_type": "code",
      "execution_count": 132,
      "metadata": {},
      "outputs": [
        {
          "data": {
            "text/plain": [
              "array([1, 2, 3, 4])"
            ]
          },
          "execution_count": 132,
          "metadata": {},
          "output_type": "execute_result"
        }
      ],
      "source": [
        "np.arange(1,5)"
      ]
    },
    {
      "cell_type": "code",
      "execution_count": 131,
      "metadata": {},
      "outputs": [
        {
          "data": {
            "text/plain": [
              "array([[0., 1., 0., 0., 0.],\n",
              "       [0., 0., 1., 0., 0.],\n",
              "       [0., 0., 0., 1., 0.],\n",
              "       [0., 0., 0., 0., 1.],\n",
              "       [0., 0., 0., 0., 0.]])"
            ]
          },
          "execution_count": 131,
          "metadata": {},
          "output_type": "execute_result"
        }
      ],
      "source": [
        "np.eye(5, k=1)"
      ]
    },
    {
      "cell_type": "code",
      "execution_count": 126,
      "metadata": {},
      "outputs": [
        {
          "data": {
            "text/plain": [
              "array([1, 2, 3, 4])"
            ]
          },
          "execution_count": 126,
          "metadata": {},
          "output_type": "execute_result"
        }
      ],
      "source": [
        "np.arange(1,5)"
      ]
    },
    {
      "cell_type": "markdown",
      "metadata": {
        "id": "7R26cYEXEsWb"
      },
      "source": [
        "Создайте случайную матрицу и вычтите из каждой строки среднее.\n",
        "Количество строк кода идеального решения (кроме создания исходной матрицы): 1   \n",
        "Кроме print()"
      ]
    },
    {
      "cell_type": "code",
      "execution_count": 116,
      "metadata": {
        "id": "vD0W-3azE2Rw"
      },
      "outputs": [
        {
          "ename": "ValueError",
          "evalue": "operands could not be broadcast together with shapes (5,10) (5,) ",
          "output_type": "error",
          "traceback": [
            "\u001b[1;31m---------------------------------------------------------------------------\u001b[0m",
            "\u001b[1;31mValueError\u001b[0m                                Traceback (most recent call last)",
            "\u001b[1;32mc:\\Users\\Anton\\Downloads\\my_dev_proj\\code_repos\\samsung_ml_bootcamp\\lections\\Урок_02_Numpy.ipynb Ячейка 102\u001b[0m in \u001b[0;36m<cell line: 2>\u001b[1;34m()\u001b[0m\n\u001b[0;32m      <a href='vscode-notebook-cell:/c%3A/Users/Anton/Downloads/my_dev_proj/code_repos/samsung_ml_bootcamp/lections/%D0%A3%D1%80%D0%BE%D0%BA_02_Numpy.ipynb#ch0000102?line=0'>1</a>\u001b[0m X \u001b[39m=\u001b[39m np\u001b[39m.\u001b[39mrandom\u001b[39m.\u001b[39mrand(\u001b[39m5\u001b[39m, \u001b[39m10\u001b[39m)\n\u001b[1;32m----> <a href='vscode-notebook-cell:/c%3A/Users/Anton/Downloads/my_dev_proj/code_repos/samsung_ml_bootcamp/lections/%D0%A3%D1%80%D0%BE%D0%BA_02_Numpy.ipynb#ch0000102?line=1'>2</a>\u001b[0m Y \u001b[39m=\u001b[39m X \u001b[39m-\u001b[39;49m X\u001b[39m.\u001b[39;49mmean(axis\u001b[39m=\u001b[39;49m\u001b[39m1\u001b[39;49m)\n",
            "\u001b[1;31mValueError\u001b[0m: operands could not be broadcast together with shapes (5,10) (5,) "
          ]
        }
      ],
      "source": [
        "X = np.random.rand(5, 10)\n",
        "Y = X[] - X.mean(axis=1)"
      ]
    },
    {
      "cell_type": "code",
      "execution_count": 121,
      "metadata": {},
      "outputs": [
        {
          "data": {
            "text/plain": [
              "array([[0.55864973, 0.59269216, 0.64278403, 0.23651587, 0.41717343,\n",
              "        0.57678522, 0.12840002, 0.99529339, 0.57405605, 0.77764274],\n",
              "       [0.23723217, 0.31578632, 0.46425253, 0.90935849, 0.4106012 ,\n",
              "        0.85675288, 0.69176275, 0.44741165, 0.55110909, 0.14067356],\n",
              "       [0.86784296, 0.55501095, 0.75699851, 0.24094409, 0.49510774,\n",
              "        0.65391932, 0.4801429 , 0.35935184, 0.13872237, 0.54867946],\n",
              "       [0.16742635, 0.79596664, 0.41083584, 0.25654372, 0.50822125,\n",
              "        0.12873175, 0.91556417, 0.51951444, 0.32506831, 0.72278184],\n",
              "       [0.88196775, 0.3105944 , 0.63453944, 0.7396521 , 0.57757634,\n",
              "        0.99948643, 0.13294528, 0.38586924, 0.91340023, 0.76259783]])"
            ]
          },
          "execution_count": 121,
          "metadata": {},
          "output_type": "execute_result"
        }
      ],
      "source": [
        "X"
      ]
    },
    {
      "cell_type": "code",
      "execution_count": 122,
      "metadata": {},
      "outputs": [
        {
          "data": {
            "text/plain": [
              "array([[0., 0., 0., 0., 0.]])"
            ]
          },
          "execution_count": 122,
          "metadata": {},
          "output_type": "execute_result"
        }
      ],
      "source": [
        "np.outer(0, X.mean(axis=1))"
      ]
    }
  ],
  "metadata": {
    "colab": {
      "collapsed_sections": [],
      "name": "Урок 02 Numpy.ipynb",
      "provenance": [],
      "toc_visible": true
    },
    "kernelspec": {
      "display_name": "Python 3.9.12 ('base')",
      "language": "python",
      "name": "python3"
    },
    "language_info": {
      "codemirror_mode": {
        "name": "ipython",
        "version": 3
      },
      "file_extension": ".py",
      "mimetype": "text/x-python",
      "name": "python",
      "nbconvert_exporter": "python",
      "pygments_lexer": "ipython3",
      "version": "3.9.12"
    },
    "vscode": {
      "interpreter": {
        "hash": "ad2bdc8ecc057115af97d19610ffacc2b4e99fae6737bb82f5d7fb13d2f2c186"
      }
    }
  },
  "nbformat": 4,
  "nbformat_minor": 0
}
