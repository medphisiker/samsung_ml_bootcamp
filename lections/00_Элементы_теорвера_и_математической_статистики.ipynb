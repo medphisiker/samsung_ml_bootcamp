{
  "cells": [
    {
      "cell_type": "code",
      "execution_count": null,
      "metadata": {
        "colab": {
          "base_uri": "https://localhost:8080/",
          "height": 252
        },
        "id": "UCRTKFXaN7Lz",
        "outputId": "07546d5c-77bc-4421-fb5a-cfa4bdd0e6be"
      },
      "outputs": [
        {
          "name": "stdout",
          "output_type": "stream",
          "text": [
            "5\n"
          ]
        },
        {
          "ename": "IndexError",
          "evalue": "ignored",
          "output_type": "error",
          "traceback": [
            "\u001b[0;31m---------------------------------------------------------------------------\u001b[0m",
            "\u001b[0;31mIndexError\u001b[0m                                Traceback (most recent call last)",
            "\u001b[0;32m<ipython-input-2-1db58491331a>\u001b[0m in \u001b[0;36m<module>\u001b[0;34m()\u001b[0m\n\u001b[1;32m      7\u001b[0m     \u001b[0ma\u001b[0m\u001b[0;34m.\u001b[0m\u001b[0mappend\u001b[0m\u001b[0;34m(\u001b[0m\u001b[0;34m[\u001b[0m\u001b[0mfloat\u001b[0m\u001b[0;34m(\u001b[0m\u001b[0mi\u001b[0m\u001b[0;34m)\u001b[0m \u001b[0;32mfor\u001b[0m \u001b[0mi\u001b[0m \u001b[0;32min\u001b[0m \u001b[0mline\u001b[0m\u001b[0;34m.\u001b[0m\u001b[0msplit\u001b[0m\u001b[0;34m(\u001b[0m\u001b[0;34m)\u001b[0m\u001b[0;34m]\u001b[0m\u001b[0;34m)\u001b[0m\u001b[0;34m\u001b[0m\u001b[0;34m\u001b[0m\u001b[0m\n\u001b[1;32m      8\u001b[0m \u001b[0mans\u001b[0m\u001b[0;34m=\u001b[0m\u001b[0;34m[\u001b[0m\u001b[0;34m]\u001b[0m\u001b[0;34m\u001b[0m\u001b[0;34m\u001b[0m\u001b[0m\n\u001b[0;32m----> 9\u001b[0;31m \u001b[0mw\u001b[0m\u001b[0;34m=\u001b[0m\u001b[0mlen\u001b[0m\u001b[0;34m(\u001b[0m\u001b[0ma\u001b[0m\u001b[0;34m[\u001b[0m\u001b[0;36m0\u001b[0m\u001b[0;34m]\u001b[0m\u001b[0;34m)\u001b[0m\u001b[0;34m\u001b[0m\u001b[0;34m\u001b[0m\u001b[0m\n\u001b[0m\u001b[1;32m     10\u001b[0m \u001b[0;32mfor\u001b[0m \u001b[0mi\u001b[0m \u001b[0;32min\u001b[0m \u001b[0mrange\u001b[0m\u001b[0;34m(\u001b[0m\u001b[0mmax\u001b[0m\u001b[0;34m(\u001b[0m\u001b[0mlen\u001b[0m\u001b[0;34m(\u001b[0m\u001b[0ma\u001b[0m\u001b[0;34m)\u001b[0m\u001b[0;34m//\u001b[0m\u001b[0mk\u001b[0m\u001b[0;34m,\u001b[0m\u001b[0mlen\u001b[0m\u001b[0;34m(\u001b[0m\u001b[0ma\u001b[0m\u001b[0;34m[\u001b[0m\u001b[0;36m0\u001b[0m\u001b[0;34m]\u001b[0m\u001b[0;34m)\u001b[0m\u001b[0;34m//\u001b[0m\u001b[0mk\u001b[0m\u001b[0;34m)\u001b[0m\u001b[0;34m)\u001b[0m\u001b[0;34m:\u001b[0m\u001b[0;34m\u001b[0m\u001b[0;34m\u001b[0m\u001b[0m\n\u001b[1;32m     11\u001b[0m     \u001b[0mq\u001b[0m\u001b[0;34m=\u001b[0m\u001b[0;36m0\u001b[0m\u001b[0;34m\u001b[0m\u001b[0;34m\u001b[0m\u001b[0m\n",
            "\u001b[0;31mIndexError\u001b[0m: list index out of range"
          ]
        }
      ],
      "source": [
        "import numpy as np\n",
        "import sys\n",
        "\n",
        "k=int(input())\n",
        "a = [] \n",
        "for line in sys.stdin: \n",
        "    a.append([float(i) for i in line.split()])\n",
        "ans=[]\n",
        "w=len(a[0])\n",
        "for i in range(max(len(a)//k,len(a[0])//k)):\n",
        "    q=0\n",
        "    c=0\n",
        "    for i in range(k):\n",
        "        for j in range(k):\n",
        "            q+=a[0][0]\n",
        "            del a[0][0]\n",
        "        del a[0]\n",
        "    c+=1\n",
        "    print(q)\n",
        "    if w%c==0:\n",
        "        print()\n",
        "    \n",
        "    \n",
        "    "
      ]
    },
    {
      "cell_type": "code",
      "execution_count": null,
      "metadata": {
        "colab": {
          "base_uri": "https://localhost:8080/"
        },
        "id": "BCWmCgcXzaoD",
        "outputId": "3b9be69f-7eda-4ee5-f7a2-6ce6c7e4cb62"
      },
      "outputs": [
        {
          "data": {
            "text/plain": [
              "4"
            ]
          },
          "execution_count": 5,
          "metadata": {},
          "output_type": "execute_result"
        }
      ],
      "source": [
        "[1,    2,    3,   4,   5,   6,  7]\n",
        "[0.2, 0.1, 0.1, 0.1, 0.2, 0.2, 0.1]\n",
        "\n",
        "[0.2, 0.2, 0.3, 0.4, 1, 1.2, 0.7]\n",
        "\n",
        "4"
      ]
    },
    {
      "cell_type": "code",
      "execution_count": null,
      "metadata": {
        "colab": {
          "base_uri": "https://localhost:8080/"
        },
        "id": "H7nA4vJO7xbd",
        "outputId": "99e3f3d8-8963-4aa5-ee22-a1d51c931aa8"
      },
      "outputs": [
        {
          "name": "stdout",
          "output_type": "stream",
          "text": [
            "4.979591836734694\n",
            "4.979591836734694\n",
            "0.0\n"
          ]
        },
        {
          "data": {
            "text/plain": [
              "array([[1.        , 0.74180328],\n",
              "       [0.74180328, 1.        ]])"
            ]
          },
          "execution_count": 6,
          "metadata": {},
          "output_type": "execute_result"
        }
      ],
      "source": [
        "a = np.array([1, 5, 6, 2, 8, 4, 3])\n",
        "b = np.array([545, 546, 550, 544, 548, 547, 543])\n",
        "ex1 = sum(a)/len(a)\n",
        "ex2 = sum(b)/len(b)\n",
        "D1 = sum((a - ex1)**2)/len(a)\n",
        "D2 = sum((b - ex2)**2)/len(b)\n",
        "print(D1)\n",
        "print(D2)\n",
        "print(D1-D2)\n",
        "np.corrcoef(a, b)"
      ]
    },
    {
      "cell_type": "code",
      "execution_count": null,
      "metadata": {
        "colab": {
          "base_uri": "https://localhost:8080/"
        },
        "id": "IRQHJ_O58tfw",
        "outputId": "3d4ff0a2-cfac-4cb6-9846-dd93083d305e"
      },
      "outputs": [
        {
          "data": {
            "text/plain": [
              "array([[ 1.       , -0.0509336],\n",
              "       [-0.0509336,  1.       ]])"
            ]
          },
          "execution_count": 7,
          "metadata": {},
          "output_type": "execute_result"
        }
      ],
      "source": [
        "a = np.array([3, 5, 3, 6, 7, 2, 1, 0, 15, 4])\n",
        "b = np.array([-3, -2, 6, 8, 4, 1, 0, 8, 2, 8])\n",
        "np.corrcoef(a, b)"
      ]
    },
    {
      "cell_type": "markdown",
      "metadata": {
        "id": "s9VCwFKEXU5l"
      },
      "source": [
        "# Элементы теории вероятности и математической статистики\n",
        "\n",
        "В рамках этой короткой лекции не рассматриваются глубокие математические основы курса теорвера и матстата. Однако, приводится ряд примеров и определений, необходимых для возможности вести в дальнейшем диалог о машинном обучении.\n"
      ]
    },
    {
      "cell_type": "markdown",
      "metadata": {
        "id": "cm5NtJ9kPzeP"
      },
      "source": [
        "## О чём вообще речь?\n",
        "\n",
        "**Случайное событие** — то, которое при определенных условиях может произойти или нет.\n",
        "\n",
        "Примеры случайного события:\n",
        "1. При броске двух игральных костей на одной выпало число 1, а на другой — 2.\n",
        "2. Клиент банка не вернул кредит.\n",
        "3. Вы сдали ЕГЭ на 100 баллов.\n",
        "4. Монету подбросили сто раз, орел выпал в 55 случаях. \n",
        "\n",
        "Событие можно называть **достоверным**, если в результате испытания оно обязательно произойдет.\n",
        "\n",
        "**Невозможное** событие не произойдет никогда.\n",
        "\n",
        "Примеры достоверного события:\n",
        "1. На игральной кости выпало число, не превышающее 6.\n",
        "2. Подбросили монету, и выпал либо орел, либо решка.\n",
        "3. Вы сдали ЕГЭ не меньше, чем на 0 баллов (надеюсь так и будет).\n",
        "\n",
        "Примеры невозможного события:\n",
        "1. Две игральные кости бросили один раз, и сумма выпавших чисел составила 15.\n",
        "2. Монету подбросили стократно, и решка выпала 55 раз, а орел — 56.\n",
        "3. Вы сдали ЕГЭ по математике на 101 балл."
      ]
    },
    {
      "cell_type": "markdown",
      "metadata": {
        "id": "6Ejk9nsyQoJm"
      },
      "source": [
        "Очень простой пример\n",
        "\n",
        "$b$ - случайная величина сдача ЕГЭ."
      ]
    },
    {
      "cell_type": "code",
      "execution_count": 1,
      "metadata": {
        "colab": {
          "base_uri": "https://localhost:8080/"
        },
        "id": "7fwdGdUsQnYt",
        "outputId": "1505d300-3aec-468f-b264-ede48b496987"
      },
      "outputs": [
        {
          "data": {
            "text/plain": [
              "100"
            ]
          },
          "execution_count": 1,
          "metadata": {},
          "output_type": "execute_result"
        }
      ],
      "source": [
        "import numpy as np\n",
        "\n",
        "n = 6000\n",
        "\n",
        "b = np.random.randint(1, 101, size=n)\n",
        "b.max()"
      ]
    },
    {
      "cell_type": "markdown",
      "metadata": {
        "id": "VkZVC7pkTaEF"
      },
      "source": [
        "## Ключевые параметры\n",
        "\n"
      ]
    },
    {
      "cell_type": "markdown",
      "metadata": {
        "id": "jnEcgxLSX-fj"
      },
      "source": [
        "### Математическое ожидание \n",
        "\n",
        "Взвешенное по вероятности появления значение случайной величины. \n",
        "\n",
        "$E[X] = Σ_i{p_i*x_i}$, где\n",
        "\n",
        "$p_i$ - вероятность появления i-ого события \\\\\n",
        "$x_i$ - значение случайной величины на i-ом эксперименте"
      ]
    },
    {
      "cell_type": "code",
      "execution_count": 6,
      "metadata": {
        "colab": {
          "base_uri": "https://localhost:8080/"
        },
        "id": "JLEwY1cwUzel",
        "outputId": "73286051-acd2-40d3-8583-f1b540c20d6e"
      },
      "outputs": [
        {
          "data": {
            "text/plain": [
              "[1, 1, 2, 5, 6, 7, 3, 4, 5, 6]"
            ]
          },
          "execution_count": 6,
          "metadata": {},
          "output_type": "execute_result"
        }
      ],
      "source": [
        "import numpy as np\n",
        "n = 10\n",
        "\n",
        "\n",
        "b = ([1, 1, 2, 5, 6, 7, 3, 4, 5, 6])\n",
        "b"
      ]
    },
    {
      "cell_type": "code",
      "execution_count": 10,
      "metadata": {
        "colab": {
          "base_uri": "https://localhost:8080/"
        },
        "id": "rNciYLYyVMSJ",
        "outputId": "555dbb0d-4efe-4b51-e171-86e7dbd69d09"
      },
      "outputs": [
        {
          "name": "stdout",
          "output_type": "stream",
          "text": [
            "\n",
            "\n",
            "\n",
            " ***** ***** ***** \n",
            " S = 2. N = 40\n",
            " [0.425, 0.575]\n"
          ]
        }
      ],
      "source": [
        "import numpy as np\n",
        "n = 40\n",
        "s = 2\n",
        "b = np.random.randint(1, s + 1, size=n)\n",
        "\n",
        "prob = [0 for i in range(s)]\n",
        "\n",
        "for i in range(s):\n",
        "\n",
        "  prob[i] = len(b[b == (i + 1)])/ n\n",
        "  # print(i, '\\n', prob, '\\n','\\n')\n",
        "if n <= 25:\n",
        "  print('\\n\\n\\n', f'S = {s}. N = {n}', np.sort(b), '\\n', prob)\n",
        "else:\n",
        "  print('\\n\\n\\n', '***** ***** *****', '\\n', f'S = {s}. N = {n}\\n', prob)"
      ]
    },
    {
      "cell_type": "code",
      "execution_count": null,
      "metadata": {
        "colab": {
          "base_uri": "https://localhost:8080/"
        },
        "id": "5Gfi12gi3Oj-",
        "outputId": "bc1ce1ae-b7d4-49b0-c7e8-64d0dfce9420"
      },
      "outputs": [
        {
          "name": "stdout",
          "output_type": "stream",
          "text": [
            "S = 6!\n",
            "\n",
            "\n",
            "S = 6. N = 10 [1 3 3 4 4 5 6 6 6 6] \n",
            " [0.1, 0.0, 0.2, 0.2, 0.1, 0.4]\n",
            "\n",
            "\n",
            "***** ***** *****\n",
            "S = 6. N = 135\n",
            " [0.22962962962962963, 0.14814814814814814, 0.13333333333333333, 0.14814814814814814, 0.16296296296296298, 0.17777777777777778]\n",
            "\n",
            "\n",
            "***** ***** *****\n",
            "S = 6. N = 260\n",
            " [0.22692307692307692, 0.18076923076923077, 0.16923076923076924, 0.1346153846153846, 0.1423076923076923, 0.14615384615384616]\n",
            "\n",
            "\n",
            "***** ***** *****\n",
            "S = 6. N = 385\n",
            " [0.2077922077922078, 0.15324675324675324, 0.15844155844155844, 0.15324675324675324, 0.19480519480519481, 0.13246753246753246]\n",
            "\n",
            "\n",
            "***** ***** *****\n",
            "S = 6. N = 510\n",
            " [0.1588235294117647, 0.19019607843137254, 0.20392156862745098, 0.1411764705882353, 0.1588235294117647, 0.14705882352941177]\n",
            "\n",
            "\n",
            "***** ***** *****\n",
            "S = 6. N = 635\n",
            " [0.17795275590551182, 0.1826771653543307, 0.17480314960629922, 0.14173228346456693, 0.13543307086614173, 0.18740157480314962]\n",
            "\n",
            "\n",
            "***** ***** *****\n",
            "S = 6. N = 760\n",
            " [0.16447368421052633, 0.19078947368421054, 0.18421052631578946, 0.1513157894736842, 0.15526315789473685, 0.15394736842105264]\n",
            "\n",
            "\n",
            "***** ***** *****\n",
            "S = 6. N = 885\n",
            " [0.15254237288135594, 0.17853107344632768, 0.16045197740112993, 0.16610169491525423, 0.18305084745762712, 0.15932203389830507]\n",
            "\n",
            "\n",
            "***** ***** *****\n",
            "S = 6. N = 1010\n",
            " [0.1801980198019802, 0.13960396039603962, 0.17227722772277226, 0.17326732673267325, 0.17425742574257425, 0.1603960396039604]\n",
            "\n",
            "\n",
            "***** ***** *****\n",
            "S = 6. N = 1135\n",
            " [0.1444933920704846, 0.18502202643171806, 0.14889867841409693, 0.16387665198237886, 0.16651982378854627, 0.19118942731277533]\n",
            "\n",
            "\n",
            "***** ***** *****\n",
            "S = 6. N = 1260\n",
            " [0.17063492063492064, 0.18174603174603174, 0.16746031746031745, 0.16111111111111112, 0.15396825396825398, 0.16507936507936508]\n",
            "\n",
            "\n",
            "***** ***** *****\n",
            "S = 6. N = 1385\n",
            " [0.17472924187725633, 0.16173285198555956, 0.1740072202166065, 0.16389891696750902, 0.16389891696750902, 0.16173285198555956]\n",
            "\n",
            "\n",
            "***** ***** *****\n",
            "S = 6. N = 1510\n",
            " [0.16158940397350993, 0.16622516556291392, 0.171523178807947, 0.171523178807947, 0.1728476821192053, 0.1562913907284768]\n",
            "\n",
            "\n",
            "***** ***** *****\n",
            "S = 6. N = 1635\n",
            " [0.1688073394495413, 0.15902140672782875, 0.1565749235474006, 0.17553516819571865, 0.1657492354740061, 0.1743119266055046]\n",
            "\n",
            "\n",
            "***** ***** *****\n",
            "S = 6. N = 1760\n",
            " [0.1653409090909091, 0.1534090909090909, 0.16022727272727272, 0.16704545454545455, 0.1784090909090909, 0.17556818181818182]\n",
            "\n",
            "\n",
            "***** ***** *****\n",
            "S = 6. N = 1885\n",
            " [0.153315649867374, 0.16286472148541115, 0.16180371352785147, 0.1702917771883289, 0.16551724137931034, 0.18620689655172415]\n",
            "\n",
            "\n",
            "***** ***** *****\n",
            "S = 6. N = 2010\n",
            " [0.1537313432835821, 0.17213930348258707, 0.16467661691542287, 0.1691542288557214, 0.17064676616915422, 0.16965174129353233]\n"
          ]
        }
      ],
      "source": [
        "import numpy as np\n",
        "def myRandProb (s, n1, n2, d):\n",
        "  if s < 2: s = 2\n",
        "  if s > 10: s = 10\n",
        "  if n1 > n2: n2 = n1\n",
        "  \n",
        "  print(f'S = {s}!')\n",
        "  \n",
        "  for j in range(n1, n2 + 1, d):\n",
        "    n = j\n",
        "    b = np.random.randint(1, s + 1, size=n)\n",
        "\n",
        "    prob = [0 for i in range(s)]\n",
        "\n",
        "    for i in range(s):\n",
        "      prob[i] = len(b[b == (i + 1)])/ j\n",
        "    \n",
        "    if n <= 25:\n",
        "      print(f'\\n\\nS = {s}. N = {j}', np.sort(b), '\\n', prob)\n",
        "    else:\n",
        "      print(f'\\n\\n***** ***** *****\\nS = {s}. N = {j}\\n', prob)\n",
        "  return\n",
        "\n",
        "myRandProb(6, 10, 2010, 125) "
      ]
    },
    {
      "cell_type": "code",
      "execution_count": null,
      "metadata": {
        "colab": {
          "base_uri": "https://localhost:8080/",
          "height": 235
        },
        "id": "NLcnsZpiWFV1",
        "outputId": "3bb7ad01-fa23-4d4f-ef1e-9d626bf861ea"
      },
      "outputs": [
        {
          "ename": "AttributeError",
          "evalue": "ignored",
          "output_type": "error",
          "traceback": [
            "\u001b[0;31m---------------------------------------------------------------------------\u001b[0m",
            "\u001b[0;31mAttributeError\u001b[0m                            Traceback (most recent call last)",
            "\u001b[0;32m<ipython-input-4-e0d560d6d320>\u001b[0m in \u001b[0;36m<module>\u001b[0;34m()\u001b[0m\n\u001b[0;32m----> 1\u001b[0;31m \u001b[0mp1\u001b[0m \u001b[0;34m=\u001b[0m \u001b[0mb\u001b[0m\u001b[0;34m.\u001b[0m\u001b[0mcount\u001b[0m\u001b[0;34m(\u001b[0m\u001b[0;36m1\u001b[0m\u001b[0;34m)\u001b[0m\u001b[0;34m\u001b[0m\u001b[0;34m\u001b[0m\u001b[0m\n\u001b[0m\u001b[1;32m      2\u001b[0m \u001b[0mp2\u001b[0m \u001b[0;34m=\u001b[0m \u001b[0mb\u001b[0m\u001b[0;34m.\u001b[0m\u001b[0mcount\u001b[0m\u001b[0;34m(\u001b[0m\u001b[0;36m2\u001b[0m\u001b[0;34m)\u001b[0m\u001b[0;34m\u001b[0m\u001b[0;34m\u001b[0m\u001b[0m\n\u001b[1;32m      3\u001b[0m \u001b[0mp3\u001b[0m \u001b[0;34m=\u001b[0m \u001b[0mb\u001b[0m\u001b[0;34m.\u001b[0m\u001b[0mcount\u001b[0m\u001b[0;34m(\u001b[0m\u001b[0;36m3\u001b[0m\u001b[0;34m)\u001b[0m\u001b[0;34m\u001b[0m\u001b[0;34m\u001b[0m\u001b[0m\n\u001b[1;32m      4\u001b[0m \u001b[0mp4\u001b[0m \u001b[0;34m=\u001b[0m \u001b[0mb\u001b[0m\u001b[0;34m.\u001b[0m\u001b[0mcount\u001b[0m\u001b[0;34m(\u001b[0m\u001b[0;36m4\u001b[0m\u001b[0;34m)\u001b[0m\u001b[0;34m\u001b[0m\u001b[0;34m\u001b[0m\u001b[0m\n\u001b[1;32m      5\u001b[0m \u001b[0mp5\u001b[0m \u001b[0;34m=\u001b[0m \u001b[0mb\u001b[0m\u001b[0;34m.\u001b[0m\u001b[0mcount\u001b[0m\u001b[0;34m(\u001b[0m\u001b[0;36m5\u001b[0m\u001b[0;34m)\u001b[0m\u001b[0;34m\u001b[0m\u001b[0;34m\u001b[0m\u001b[0m\n",
            "\u001b[0;31mAttributeError\u001b[0m: 'numpy.ndarray' object has no attribute 'count'"
          ]
        }
      ],
      "source": [
        "p1 = b.count(1)\n",
        "p2 = b.count(2)\n",
        "p3 = b.count(3)\n",
        "p4 = b.count(4)\n",
        "p5 = b.count(5)\n",
        "p6 = b.count(6)\n",
        "p7 = b.count(7)\n",
        "\n",
        "m = 1 * p1 + 2 * p2 + 3 * p3 + 4 * p4 + 5 * p5 + 6 * p6 + 7 * p7\n",
        "print(m / len(b))"
      ]
    },
    {
      "cell_type": "code",
      "execution_count": null,
      "metadata": {
        "id": "51wtz-gDWNYo"
      },
      "outputs": [],
      "source": [
        "m2 = sum(b)/len(b)\n",
        "m2\n",
        "# D = sum((m2)**2)/len(b)\n",
        "# D\n",
        "#sd = (D*len(b)/(len(b)-1))**(1/2)\n",
        "#sd"
      ]
    },
    {
      "cell_type": "markdown",
      "metadata": {
        "id": "2HfRDZdBWgSz"
      },
      "source": [
        "Однако, вы когда-нибудь видели кости, среднее значение выпашей грани для которых не равно 3.5?"
      ]
    },
    {
      "cell_type": "markdown",
      "metadata": {
        "id": "zAJc33hmXHNc"
      },
      "source": [
        "###Дисперсия\n",
        "\n",
        "Дисперсия случайной величины — мера разброса значений случайной величины относительно её математического ожидания.\n",
        "\n",
        "$ D[X] = E[(X-E[X])^2]$"
      ]
    },
    {
      "cell_type": "code",
      "execution_count": null,
      "metadata": {
        "id": "EExskYwzYGWf"
      },
      "outputs": [],
      "source": [
        "a = np.array(b) - int(m2)\n",
        "a"
      ]
    },
    {
      "cell_type": "code",
      "execution_count": null,
      "metadata": {
        "id": "pPcUT1zkX4YZ"
      },
      "outputs": [],
      "source": [
        "D = sum(a)/len(b)\n",
        "D"
      ]
    },
    {
      "cell_type": "code",
      "execution_count": null,
      "metadata": {
        "id": "UsQpB109Yqam"
      },
      "outputs": [],
      "source": [
        "(a)**2"
      ]
    },
    {
      "cell_type": "code",
      "execution_count": null,
      "metadata": {
        "id": "sZUcV0mLYdQv"
      },
      "outputs": [],
      "source": [
        "D = sum((a)**2)/len(b)\n",
        "D"
      ]
    },
    {
      "cell_type": "code",
      "execution_count": null,
      "metadata": {
        "colab": {
          "base_uri": "https://localhost:8080/"
        },
        "id": "Z1XKwNp84C36",
        "outputId": "a65bbd27-5912-4de2-f6c1-9d9edd3fd4ee"
      },
      "outputs": [
        {
          "name": "stdout",
          "output_type": "stream",
          "text": [
            "5.0\n",
            "5.0\n"
          ]
        }
      ],
      "source": [
        "k = [1, 5, 6, 2, 8, 4, 3]\n",
        "l = [545, 546, 550, 544, 548, 547, 543]\n",
        "\n",
        "m2 = sum(k)/len(k)\n",
        "m2\n",
        "\n",
        "k1 = np.array(k) - int(m2)\n",
        "k1\n",
        "\n",
        "m3 = sum(l)/len(l)\n",
        "m3\n",
        "\n",
        "k2 = np.array(l) - int(m3)\n",
        "k2\n",
        "\n",
        "D1 = sum((k1)**2)/len(k)\n",
        "print(D1)\n",
        "D2 = sum((k2)**2)/len(l)\n",
        "print(D2)"
      ]
    },
    {
      "cell_type": "markdown",
      "metadata": {
        "id": "7Hhfbpu0-IfQ"
      },
      "source": [
        "\n",
        "\n",
        "```\n",
        "# Выбран кодовый формат\n",
        "```\n",
        "\n",
        "Дисперсию невозможно приложить к величинам реального мира, потому для величин реального мира принята использовать стандартное отклонение, то есть корень из дисперсии, делённый на число измерений в выборке (если точнее, на число измерений в выборке -1)."
      ]
    },
    {
      "cell_type": "code",
      "execution_count": null,
      "metadata": {
        "id": "_r-BjuL5_n6T"
      },
      "outputs": [],
      "source": [
        "b = ([1, 1, 2, 5, 6, 7, 3, 4, 5, 6])\n",
        "D = 4.2\n",
        "sd = (D*len(b)/(len(b)-1))**(1/2)\n",
        "sd"
      ]
    },
    {
      "cell_type": "markdown",
      "metadata": {
        "id": "eYkJdL9qZA3S"
      },
      "source": [
        "### Мода и медиана\n",
        "\n",
        "Мода — значение во множестве наблюдений, которое встречается наиболее часто. \\\\\n",
        "Медиана - значение, которое в упорядоченной выборке находится ровно посредение. \\\\"
      ]
    },
    {
      "cell_type": "code",
      "execution_count": null,
      "metadata": {
        "id": "lHrS9r7tY0xw"
      },
      "outputs": [],
      "source": [
        "sorted(b)"
      ]
    },
    {
      "cell_type": "markdown",
      "metadata": {
        "id": "QSmB5VVvvb1B"
      },
      "source": [
        "### Медиана или математическое ожидание?\n",
        "\n",
        "Есть известная метафора \"средняя температура по больнице\". Она намекает на то, что считать среднее как минимум бесполезно, без опредеделения краевых значений функций. Наиболее часто проблема расчёта \"среднего\" встречается при расчёте заработной платы."
      ]
    },
    {
      "cell_type": "code",
      "execution_count": null,
      "metadata": {
        "id": "vsNPM3MPZAe1"
      },
      "outputs": [],
      "source": [
        "c = np.array([5, 5, 5, 5, 5, 5, 5, 1000])\n",
        "print(c)\n",
        "print(\"Средняя   заработная плата в этом случае тыс. р.:\", c.mean())\n",
        "print(\"Медианная заработная плата в этом случае тыс. р:\", np.median(c))"
      ]
    },
    {
      "cell_type": "markdown",
      "metadata": {
        "id": "_qAjSnTCzO_r"
      },
      "source": [
        "## Корелляция\n",
        "\n",
        "Довольно часто встаёт задачу оценить меру статистической связанности двух величин между собой. Для решения этой задачи существует большое число различных инструментов, однако наиболее частым из них выступает анализ \"корелляции\". Это настолько употребимое в обиходе слово, что принято считать, что корелляция способна математически оценить любую связь двух величин. Однако, это не так.\n",
        "\n",
        "Корелляция Пирсона считается следующим образом: $r_{xy} = \\frac{Σ(X-E[X])(Y-E[Y])}{\\sqrt{Σ(X-E[X])^2 Σ(Y-E[Y])^2}} $\n",
        "\n",
        "Выражение $Σ(X-E[X])(Y-E[Y])$ - называется ковариация. \n",
        "\n",
        "Корелляция - мера **линейной** связи между двумя случайными величинами. \n",
        "\n"
      ]
    },
    {
      "cell_type": "code",
      "execution_count": null,
      "metadata": {
        "colab": {
          "base_uri": "https://localhost:8080/",
          "height": 265
        },
        "id": "G9zXqtVQ5hXm",
        "outputId": "2b4a77c6-b70a-444d-b1c8-519f2b65754b"
      },
      "outputs": [
        {
          "data": {
            "image/png": "[encoded data removed]",
            "text/plain": [
              "<Figure size 432x288 with 1 Axes>"
            ]
          },
          "metadata": {
            "needs_background": "light"
          },
          "output_type": "display_data"
        }
      ],
      "source": [
        "import matplotlib.pyplot as plt\n",
        "\n",
        "d = np.array([9, 4, 1, 0, 1, 4, 9])\n",
        "e = np.array([-3, -2, -1, 0, 1, 2, 3])\n",
        "x = np.array([-3, -2, -1, 0, 1, 2, 3])\n",
        "\n",
        "plt.plot(x, d, x, e)\n",
        "plt.show()"
      ]
    },
    {
      "cell_type": "code",
      "execution_count": null,
      "metadata": {
        "id": "1TU3kKM6tTar"
      },
      "outputs": [],
      "source": [
        "d = np.array([3, 5, 3, 6, 7, 2, 1, 0, 15, 4])\n",
        "e = np.array([-3, -2, 6, 8, 4, 1, 0, 8, 2, 8])\n",
        "x = np.array([-3, -2, -1, 0, 1, 2, 3])"
      ]
    },
    {
      "cell_type": "code",
      "execution_count": null,
      "metadata": {
        "colab": {
          "base_uri": "https://localhost:8080/"
        },
        "id": "KmaTjMvx5nCD",
        "outputId": "42a40e2f-fee6-471e-fee5-39b02a89d0ee"
      },
      "outputs": [
        {
          "name": "stdout",
          "output_type": "stream",
          "text": [
            "[[ 1.        -0.0509336]\n",
            " [-0.0509336  1.       ]]\n"
          ]
        }
      ],
      "source": [
        "d = np.array([3, 5, 3, 6, 7, 2, 1, 0, 15, 4])\n",
        "e = np.array([-3, -2, 6, 8, 4, 1, 0, 8, 2, 8])\n",
        "print(np.corrcoef(d,e))"
      ]
    },
    {
      "cell_type": "code",
      "execution_count": null,
      "metadata": {
        "colab": {
          "base_uri": "https://localhost:8080/"
        },
        "id": "lIZEKJ2o6pcb",
        "outputId": "59614b24-6acb-4eb2-ddc7-a8986464717a"
      },
      "outputs": [
        {
          "name": "stdout",
          "output_type": "stream",
          "text": [
            "[[ 1.        -0.0509336]\n",
            " [-0.0509336  1.       ]]\n"
          ]
        }
      ],
      "source": [
        "print(np.corrcoef(d,e))"
      ]
    },
    {
      "cell_type": "markdown",
      "metadata": {
        "id": "Xm_Na1s06tFs"
      },
      "source": [
        "\n",
        "\n",
        "```\n",
        "# Выбран кодовый формат\n",
        "```\n",
        "\n",
        "Как интерпретировать полученный результат? \\\\\n",
        "[[1. 0.] \\\\\n",
        " [0. 1.]]\n",
        "\n",
        "Это значения все возможных вариантов расчёта корелляций. \\\\\n",
        "[[$r_{xx}$, $r_{xy}$ ] \\\\\n",
        "[$r_{yx}$, $r_{yy}$ ]]\n",
        "\n",
        "Мы видим, что корелляция между e и d отсутствуют, однако очевидно, что: \\\\\n",
        "$d = e^2$.\n",
        "\n",
        "То есть связь есть."
      ]
    },
    {
      "cell_type": "markdown",
      "metadata": {
        "id": "YxyeNADV4MC4"
      },
      "source": [
        "Но приведенный выше пример - это не самая большая беда при использовании корелляции. Гораздо хуже - нахождение ложных зависимостей, там где их нет. \n",
        "\n",
        "![Николас Кейдж и утопленники](https://drive.google.com/uc?id=1nesgjIhCc1r8PCuoH5wMcmsBULCiZLNv) \n",
        "\n",
        "![Крупный рогатый скот в Смоленски и торголовля в Перми](https://drive.google.com/uc?id=170ylluFiWMpm9VPxHMkJyDMi58Kv4f7f) \n"
      ]
    },
    {
      "cell_type": "markdown",
      "metadata": {
        "id": "c182azqlgLQO"
      },
      "source": [
        "## Нормальное распределение\n",
        "\n",
        "Мы не касаемся в данном материале детального разбора распределений вероятности. Однако покажем, что называется \"нормальным\" распределением вероятности.\n",
        "\n",
        "**Нормальное распределение**, также называемое распределением Гаусса — распределение вероятностей, которое в одномерном случае задаётся функцией плотности вероятности, совпадающей с функцией Гаусса.\n",
        "\n",
        "Формула, задающая нормальное распределение вероятности: \n",
        "$ f(x) = \\frac{1}{\\sigma\\sqrt{2\\pi}}e^\\left(-\\frac{(x-\\mu)^2}{2\\sigma^2}\\right)$\n",
        "\n",
        "Функция распределения вероятности при визуализации имеет известный вид \"купола\".\n",
        "\n",
        "![Николас Кейдж и утопленники](https://drive.google.com/uc?id=1KccjBHf5vSEJteYWxXd3Bs-PW3HRWc4B) \n",
        "\n",
        "Нормальное распределение имеет огромное значение в математической статистики потому, что показано, что сумма большого числа случайных слабозависящих друг от друга и имеющих одинаковый масштаб величин будет нормально распределена. \n",
        "\n",
        "Эта \"центральная предельная теорема\" обычно сводится в обиходе к тому, что всё в мире распределено нормально. **Это не так**. \n",
        "\n",
        "Однако, так как обычно в различных используемых технологиях машинного обучения, для работы с моделями применяется большое число данных, можно предполагать, что они распределены нормально. Более того, работа с моделями машинног обучения требует нормально распределённх данных. \n"
      ]
    },
    {
      "cell_type": "markdown",
      "metadata": {
        "id": "cTn_h1f5SPBM"
      },
      "source": [
        "# Практическая задача (для развлечения)\n",
        "\n",
        "По мотивам: https://habr.com/ru/company/otus/blog/665434/\n"
      ]
    },
    {
      "cell_type": "markdown",
      "metadata": {
        "id": "vev39QINmm76"
      },
      "source": [
        "## Постановка задачи\n",
        "\n",
        "Школьники  опаздывают на занятия. На сколько это критично? Каждое пропущенное занятие - потеря для образования конкретного человека. А статистически? \n",
        "\n",
        "Чтобы это понять мы должны взять и сравнить между собой двух школьников. Один школьник (Пафнутий) - посещает все занятия и ему хорошо. Другой школьник (Игнатий) посещает не все занятия из-за опозданий. Статистически наш вопрос будет звучать так: отличается ли школьник Игнатий от школьника Пафнутия чем-то с точки зрения явки? "
      ]
    },
    {
      "cell_type": "markdown",
      "metadata": {
        "id": "fAomuNPwyTpA"
      },
      "source": [
        "## Решение - ошибки первого рода\n",
        "\n",
        "Для этого достаточно взять и проверить соответствие двух значений по критерию хи-квардарт. Мы не будем вдаваться в нюансы того, что это за критерий, однако отметим, что значению pval - определяет то, есть ли у нас ошибка первого рода или нет. \n",
        "\n",
        "Чтобы результат был удовлетворительным, нам необходимо чтобы pvalue была, обычно, больше 0.05. Это означает, что с вероятность 95% разницы между Игнатием и Пафнутием нет. "
      ]
    },
    {
      "cell_type": "code",
      "execution_count": null,
      "metadata": {
        "colab": {
          "base_uri": "https://localhost:8080/"
        },
        "id": "XFwZyH_FSYsL",
        "outputId": "19c8eea6-b4fe-4d52-a981-14cff3d09051"
      },
      "outputs": [
        {
          "name": "stderr",
          "output_type": "stream",
          "text": [
            "/usr/local/lib/python3.7/dist-packages/statsmodels/tools/_testing.py:19: FutureWarning: pandas.util.testing is deprecated. Use the functions in the public API at pandas.testing instead.\n",
            "  import pandas.util.testing as tm\n"
          ]
        },
        {
          "data": {
            "text/plain": [
              "0.0819797030749689"
            ]
          },
          "execution_count": 33,
          "metadata": {},
          "output_type": "execute_result"
        }
      ],
      "source": [
        "import statsmodels.stats.proportion as proportion\n",
        "chi2stat, pval, table = proportion.proportions_chisquare([177,180],180)\n",
        "pval"
      ]
    },
    {
      "cell_type": "code",
      "execution_count": null,
      "metadata": {
        "colab": {
          "base_uri": "https://localhost:8080/"
        },
        "id": "F9bv03mWS1Jv",
        "outputId": "af99e468-9416-460b-f2b6-5cb6f772274d"
      },
      "outputs": [
        {
          "data": {
            "text/plain": [
              "0.04430385333196612"
            ]
          },
          "execution_count": 2,
          "metadata": {},
          "output_type": "execute_result"
        }
      ],
      "source": [
        "chi2stat, pval, table = proportion.proportions_chisquare([176,180],180)\n",
        "pval"
      ]
    },
    {
      "cell_type": "markdown",
      "metadata": {
        "id": "JV8YNawmzgKo"
      },
      "source": [
        "Таким образом мы видим, что Игнатий может непосетить три занятия из-за опозданий. Статистической разницы с Пафнутием при этом не будет. \n",
        "\n",
        "Pvalue показывает также вероятность ошибок первого рода - то есть вероятность того, что ложный объект (гипотезу) засчитают за истинный объект (гипотезу).\n",
        "\n",
        "Однако проблема также может крыться и в ошибках второго рода: то есть в ошибках, когда истинный объект считают ложным. Проблема ошибок второго рода кроется в числе экспериментов.\n",
        "\n",
        "То есть должно быть достаточно экспериментов, чтобы разница была заметна. Невдаваясь в математические подробности можно рассчитать эту разницу для Игнатия и Пафнутия."
      ]
    },
    {
      "cell_type": "markdown",
      "metadata": {
        "id": "T4DO4MF46Uoo"
      },
      "source": [
        "## Решение - ошибка второго рода\n",
        "\n",
        "Полученное значение показывает то, что на выборке в 180 дней вы лишь с 5% вероятность отличите Игнатия от Пафнутия. Нам же необходимо добиться минимум 80%, а то и больше. "
      ]
    },
    {
      "cell_type": "code",
      "execution_count": null,
      "metadata": {
        "id": "kQpN1ts_TFXZ"
      },
      "outputs": [],
      "source": [
        "import statsmodels.stats.power as smp\n",
        "\n",
        "chipo = smp.GofChisquarePower()"
      ]
    },
    {
      "cell_type": "code",
      "execution_count": null,
      "metadata": {
        "colab": {
          "base_uri": "https://localhost:8080/"
        },
        "id": "J9f-iWO2T5Mt",
        "outputId": "ae357e37-937c-4fc6-83e2-f86c41deb12b"
      },
      "outputs": [
        {
          "data": {
            "text/plain": [
              "0.8034196059311782"
            ]
          },
          "execution_count": 26,
          "metadata": {},
          "output_type": "execute_result"
        }
      ],
      "source": [
        "chipo.solve_power(effect_size=np.sqrt(((146/180 - 180/180)**2)/(146/180)), nobs = 180, alpha = 0.05, power = None)"
      ]
    },
    {
      "cell_type": "code",
      "execution_count": null,
      "metadata": {
        "colab": {
          "base_uri": "https://localhost:8080/"
        },
        "id": "a7FsROSz6fmm",
        "outputId": "37979863-ee2a-4bbc-d5eb-2d14873ad3db"
      },
      "outputs": [
        {
          "data": {
            "text/plain": [
              "0.9567148835295268"
            ]
          },
          "execution_count": 27,
          "metadata": {},
          "output_type": "execute_result"
        }
      ],
      "source": [
        "chipo.solve_power(effect_size=np.sqrt(((137/180 - 180/180)**2)/(137/180)), nobs = 180, alpha = 0.05, power = None)"
      ]
    },
    {
      "cell_type": "markdown",
      "metadata": {
        "id": "ayI3aMCe6kAI"
      },
      "source": [
        "То есть чтобы отличить с 95% вероятностью Игнатия от Пафнутия с вероятность ошибки первого рода 5% нужно, чтобы Игнатий опоздал в 43 случаях. С вероятность 80% - в 34 случаях.\n",
        "\n",
        "Такое применение математической статистики называется A/B тестированием. Им занимаются все аналитики данных. "
      ]
    },
    {
      "cell_type": "markdown",
      "metadata": {
        "id": "G50SL-HC7HlO"
      },
      "source": [
        "## Дисклеймер\n",
        "\n",
        "Примение данных выкладок на практике при пропуске занятий или опоздании - строго за счёт ученика!"
      ]
    },
    {
      "cell_type": "code",
      "execution_count": null,
      "metadata": {
        "colab": {
          "base_uri": "https://localhost:8080/"
        },
        "id": "ymukqbIddtJJ",
        "outputId": "ecb309f4-5688-487c-99e3-08978d675286"
      },
      "outputs": [
        {
          "data": {
            "text/plain": [
              "2.04939015319192"
            ]
          },
          "execution_count": 34,
          "metadata": {},
          "output_type": "execute_result"
        }
      ],
      "source": [
        "import numpy as np\n",
        "np.std([1, 1, 2, 5, 6, 7, 3, 4, 5, 6])"
      ]
    }
  ],
  "metadata": {
    "colab": {
      "collapsed_sections": [],
      "name": "00 Элементы теорвера и математической статистики.ipynb",
      "provenance": []
    },
    "kernelspec": {
      "display_name": "Python 3.9.12 ('base')",
      "language": "python",
      "name": "python3"
    },
    "language_info": {
      "codemirror_mode": {
        "name": "ipython",
        "version": 3
      },
      "file_extension": ".py",
      "mimetype": "text/x-python",
      "name": "python",
      "nbconvert_exporter": "python",
      "pygments_lexer": "ipython3",
      "version": "3.9.12"
    },
    "vscode": {
      "interpreter": {
        "hash": "ad2bdc8ecc057115af97d19610ffacc2b4e99fae6737bb82f5d7fb13d2f2c186"
      }
    }
  },
  "nbformat": 4,
  "nbformat_minor": 0
}
