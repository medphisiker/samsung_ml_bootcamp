{
  "cells": [
    {
      "cell_type": "markdown",
      "metadata": {
        "id": "weTl5RMQKjR2"
      },
      "source": [
        "# Основы языка Python"
      ]
    },
    {
      "cell_type": "markdown",
      "metadata": {
        "id": "FRSOipZYKpq2"
      },
      "source": [
        "## Функции"
      ]
    },
    {
      "cell_type": "markdown",
      "metadata": {
        "id": "2YhyY9PcrXUs"
      },
      "source": [
        "**Функция** - это блок организованного, многократно используемого кода, который используется для выполнения конкретного задания.  Функции в Python - объект, который принимает аргументы, производит обработку данных, возвращает значение. Функция может принимать произвольное количество аргументов.\n",
        "\n",
        "Они все обладают общим свойством: они могут принимать параметры (ноль, один или несколько), и они могут возвращать значение (хотя могут и не возвращать). "
      ]
    },
    {
      "cell_type": "markdown",
      "metadata": {
        "id": "ygv9bP7GY6lf"
      },
      "source": [
        "### Встроенные функции языка Python"
      ]
    },
    {
      "cell_type": "markdown",
      "metadata": {
        "id": "7Xj1UJbPZCbu"
      },
      "source": [
        "Язык Python включает много уже определенных, то есть встроенных в него, функций."
      ]
    },
    {
      "cell_type": "markdown",
      "metadata": {
        "id": "6qyxenx0aT1c"
      },
      "source": [
        "**int()** - преобразование к целому числу."
      ]
    },
    {
      "cell_type": "code",
      "execution_count": 1,
      "metadata": {
        "id": "9gfKv5TUabKH"
      },
      "outputs": [
        {
          "data": {
            "text/plain": [
              "3"
            ]
          },
          "execution_count": 1,
          "metadata": {},
          "output_type": "execute_result"
        }
      ],
      "source": [
        "int('3')  # преобразование из типа str в тип int\n"
      ]
    },
    {
      "cell_type": "code",
      "execution_count": 4,
      "metadata": {},
      "outputs": [
        {
          "data": {
            "text/plain": [
              "0"
            ]
          },
          "execution_count": 4,
          "metadata": {},
          "output_type": "execute_result"
        }
      ],
      "source": [
        "int()\n"
      ]
    },
    {
      "cell_type": "markdown",
      "metadata": {
        "id": "mioeQ8-KaFiD"
      },
      "source": [
        "**float()** - преобразование к числу с плавающей точкой. Если аргумент не указан, возвращается 0.0."
      ]
    },
    {
      "cell_type": "code",
      "execution_count": 3,
      "metadata": {
        "id": "xpUWGGwzZ_JA"
      },
      "outputs": [
        {
          "data": {
            "text/plain": [
              "3.5"
            ]
          },
          "execution_count": 3,
          "metadata": {},
          "output_type": "execute_result"
        }
      ],
      "source": [
        "float('3.5')  # преобразование из типа str в тип float\n"
      ]
    },
    {
      "cell_type": "code",
      "execution_count": 5,
      "metadata": {},
      "outputs": [
        {
          "data": {
            "text/plain": [
              "0.0"
            ]
          },
          "execution_count": 5,
          "metadata": {},
          "output_type": "execute_result"
        }
      ],
      "source": [
        "float()\n"
      ]
    },
    {
      "cell_type": "markdown",
      "metadata": {
        "id": "5nHPtDuBaJ8e"
      },
      "source": [
        "**str()** - строковое представление объекта."
      ]
    },
    {
      "cell_type": "code",
      "execution_count": 6,
      "metadata": {
        "id": "IAUAqn3van7y"
      },
      "outputs": [
        {
          "data": {
            "text/plain": [
              "'123'"
            ]
          },
          "execution_count": 6,
          "metadata": {},
          "output_type": "execute_result"
        }
      ],
      "source": [
        "str(123)  # преобразование из типа int в тип str\n"
      ]
    },
    {
      "cell_type": "code",
      "execution_count": 7,
      "metadata": {},
      "outputs": [
        {
          "data": {
            "text/plain": [
              "''"
            ]
          },
          "execution_count": 7,
          "metadata": {},
          "output_type": "execute_result"
        }
      ],
      "source": [
        "str()\n"
      ]
    },
    {
      "cell_type": "markdown",
      "metadata": {
        "id": "cE9HrxqMa9k8"
      },
      "source": [
        "**input()** - Возвращает введенную пользователем с консоли строку. "
      ]
    },
    {
      "cell_type": "code",
      "execution_count": 10,
      "metadata": {
        "id": "3pjUZmh1bGGt"
      },
      "outputs": [
        {
          "name": "stdout",
          "output_type": "stream",
          "text": [
            "11 <class 'str'>\n",
            "11 <class 'int'>\n"
          ]
        }
      ],
      "source": [
        "# функция попросит пользователя ввести с клавиатуры и\n",
        "# вернет это значение в x (тип возвращаемого значения str)\n",
        "# введем число 11\n",
        "x = input()\n",
        "print(x, type(x))\n",
        "\n",
        "# преобразование введенного с клавиатуры числа в тип str\n",
        "x = int(input())\n",
        "print(x, type(x))\n"
      ]
    },
    {
      "cell_type": "markdown",
      "metadata": {
        "id": "u4R6xo0KckJ_"
      },
      "source": [
        "**len()** - Возвращает число элементов в указанном объекте."
      ]
    },
    {
      "cell_type": "code",
      "execution_count": 13,
      "metadata": {
        "id": "WaNIbX8OcoRB"
      },
      "outputs": [
        {
          "name": "stdout",
          "output_type": "stream",
          "text": [
            "[5, 7, 8, 2, 5] 5\n",
            "Hello 5\n"
          ]
        }
      ],
      "source": [
        "x = [5, 7, 8, 2, 5]\n",
        "print(x, len(x))  # вернет значение 5 (5 элементов в списке)\n",
        "\n",
        "s = 'Hello'\n",
        "print(s, len(s))   # вернет значение 5 (5 букв в слове)\n"
      ]
    },
    {
      "cell_type": "markdown",
      "metadata": {
        "id": "Binaz_-wcJJ_"
      },
      "source": [
        "**max()** - функция используется для нахождения «максимального» значения в последовательности, итерируемом объекте и так далее. В параметрах можно менять способ вычисления максимального значения.\n",
        "\n",
        "**min()** - функция используется для нахождения «минимального» значения в последовательности, итерируемом объекте и так далее. В параметрах можно менять способ вычисления минимального значения."
      ]
    },
    {
      "cell_type": "code",
      "execution_count": 16,
      "metadata": {
        "colab": {
          "base_uri": "https://localhost:8080/",
          "height": 35
        },
        "id": "8Ex0jX-8cVjW",
        "outputId": "82a0ffc8-35b0-4110-fc03-4e67223afeaf"
      },
      "outputs": [
        {
          "name": "stdout",
          "output_type": "stream",
          "text": [
            "8\n",
            "2\n",
            "Автомобиль\n"
          ]
        }
      ],
      "source": [
        "x = [5, 7, 8, 2, 5]\n",
        "print(max(x))  # вернет значение 8\n",
        "print(min(x))  # вернет значение 2\n",
        "\n",
        "x = [\"Яблоко\", \"Апельсин\", \"Автомобиль\"]\n",
        "# считает самое длинное слово (по длине) - вернет \"Автомобиль\"\n",
        "print(max(x, key=len))\n",
        "# max(x) - вернет \"Яблоко\" (сравнение слов будет по\n",
        "# лексикографическому признаку)\n"
      ]
    },
    {
      "cell_type": "markdown",
      "metadata": {
        "id": "fileSDyZf4yX"
      },
      "source": [
        "**reversed()** - функция предоставляет простой и быстрый способ развернуть порядок элементов в последовательности. В качестве параметра она принимает валидную последовательность, например список, а возвращает итерируемый объект."
      ]
    },
    {
      "cell_type": "code",
      "execution_count": 17,
      "metadata": {
        "id": "Hy4SdQ57fxIS"
      },
      "outputs": [
        {
          "data": {
            "text/plain": [
              "[5, 4, 3]"
            ]
          },
          "execution_count": 17,
          "metadata": {},
          "output_type": "execute_result"
        }
      ],
      "source": [
        "x = [3, 4, 5]\n",
        "b = reversed(x)\n",
        "list(b)\n"
      ]
    },
    {
      "cell_type": "markdown",
      "metadata": {
        "id": "80_ucrkmgjUB"
      },
      "source": [
        "**set()** - создает множество. Обычно в качестве аргументов функция принимает последовательность, например строка или список, которая затем преобразуется в множество уникальных значений."
      ]
    },
    {
      "cell_type": "code",
      "execution_count": 19,
      "metadata": {
        "id": "PLQLkcJ6hJps"
      },
      "outputs": [
        {
          "name": "stdout",
          "output_type": "stream",
          "text": [
            "{'l', 'H', 'o', 'e'}\n",
            "{1, 2, 3, 4, 5}\n"
          ]
        }
      ],
      "source": [
        "print(set(\"Hello\"))\n",
        "\n",
        "print(set((1, 1, 1, 2, 2, 3, 4, 5)))\n"
      ]
    },
    {
      "cell_type": "markdown",
      "metadata": {
        "id": "H40Vw28ogQDB"
      },
      "source": [
        "**range()** - Используется для создания последовательности чисел с заданными значениями от и до, а также интервалом. Такая последовательность часто используется в циклах, особенно в цикле for."
      ]
    },
    {
      "cell_type": "code",
      "execution_count": 21,
      "metadata": {
        "colab": {
          "base_uri": "https://localhost:8080/"
        },
        "id": "yeSQteH3gayV",
        "outputId": "a4b16060-64cb-48e5-ce24-b0c9896ffc3a"
      },
      "outputs": [
        {
          "name": "stdout",
          "output_type": "stream",
          "text": [
            "[10, 12, 14, 16, 18]\n"
          ]
        }
      ],
      "source": [
        "# range(start, stop, step)\n",
        "print(list(range(10, 20, 2)))\n"
      ]
    },
    {
      "cell_type": "markdown",
      "metadata": {
        "id": "wsz8Tm4bhZeA"
      },
      "source": [
        "**enumerate()** - В качестве параметра эта функция принимает последовательность. После этого она перебирает каждый элемент и возвращает его вместе со счетчиком в виде перечисляемого объекта. Основная особенность таких объектов — возможность размещать их в цикле для перебора.\n",
        "\n",
        "Если range() позволяет получить только индексы элементов списка, то enumerate() – сразу индекс элемента и его значение.\n"
      ]
    },
    {
      "cell_type": "code",
      "execution_count": 22,
      "metadata": {
        "colab": {
          "base_uri": "https://localhost:8080/"
        },
        "id": "j8yNAwpIhkR4",
        "outputId": "cbac0d6c-1cbf-4b49-bf33-bdfdb07fbed2"
      },
      "outputs": [
        {
          "name": "stdout",
          "output_type": "stream",
          "text": [
            "[(0, 'С'), (1, 'т'), (2, 'р'), (3, 'о'), (4, 'к'), (5, 'а')]\n"
          ]
        }
      ],
      "source": [
        "x = \"Строка\"\n",
        "print(list(enumerate(x)))\n"
      ]
    },
    {
      "cell_type": "markdown",
      "metadata": {
        "id": "YUEn4J-GZDjK"
      },
      "source": [
        "### Определение собственных функций"
      ]
    },
    {
      "cell_type": "markdown",
      "metadata": {
        "id": "8C7LFa2hNCdx"
      },
      "source": [
        "Также в Python можно определить свою функцию.\n",
        "Функция определяется с помощью инструкции **def**.\n",
        "\n",
        "Существуют некоторые правила для создания функций в Python.\n",
        "\n",
        "- Блок функции начинается с ключевого слова def, после которого следуют название функции и круглые скобки ().\n",
        "- Любые аргументы, которые принимает функция должны находиться внутри этих скобок.\n",
        "- После скобок идет двоеточие ( : ) и с новой строки с отступом начинается тело функции.\n",
        "\n",
        "Выражение **return** прекращает выполнение функции и возвращает указанное после выражения значение. Выражение return без аргументов это то же самое, что и выражение return None. \n",
        "```\n",
        "def <Название функции>(параметр1, параметр2, ...):\n",
        "    --код--\n",
        "    return параметр1 + параметр2\n",
        "```\n",
        "\n",
        "Например, определим простейшую функцию, которая принимает в качестве аргументов два числа и возвращает их сумму."
      ]
    },
    {
      "cell_type": "markdown",
      "metadata": {
        "id": "hVw9OXgkV8RD"
      },
      "source": [
        "- аргумент (фактический параметр): фактическая переменная передается в функцию;\n",
        "- параметр (формальный параметр): принимающая переменная, которая используется в функции."
      ]
    },
    {
      "cell_type": "code",
      "execution_count": 27,
      "metadata": {
        "id": "Kts9fiLsNk1o"
      },
      "outputs": [],
      "source": [
        "# x, y - это параметры функции\n",
        "# функция возвращает значение переменной s\n",
        "def summa(x, y):\n",
        "    s = x + y\n",
        "    return s\n"
      ]
    },
    {
      "cell_type": "code",
      "execution_count": 26,
      "metadata": {
        "id": "lWHqFwbcOjCp"
      },
      "outputs": [],
      "source": [
        "# x, y - это параметры функции\n",
        "# данная функция ничего не возвращает, но выводит на экран сумму двух чисел\n",
        "def summa_pr(x, y):\n",
        "    s = x + y\n",
        "    print(s)\n"
      ]
    },
    {
      "cell_type": "markdown",
      "metadata": {
        "id": "59rbbtB_PsJk"
      },
      "source": [
        "После создания функции, ее можно исполнять вызывая из другой функции или напрямую из оболочки Python. Для вызова функции следует ввести ее имя и добавить скобки."
      ]
    },
    {
      "cell_type": "code",
      "execution_count": 31,
      "metadata": {
        "id": "JvgSUuSkNyAJ"
      },
      "outputs": [
        {
          "data": {
            "text/plain": [
              "4"
            ]
          },
          "execution_count": 31,
          "metadata": {},
          "output_type": "execute_result"
        }
      ],
      "source": [
        "# Для того, чтобы использовать функцию ее необходимо вызвать\n",
        "# и передать ей необходимые аргументы\n",
        "summa(4, 5)\n",
        "# функция вернет сумму двух чисел 4 и 5 (4, 5 - это аргументы функции)\n",
        "\n",
        "a = 1\n",
        "b = 3\n",
        "summa(x=a, y=b)\n",
        "# функция вернет сумму двух чисел\n",
        "# a и b - это аргументы функции\n",
        "# x и y - это параметры функции\n"
      ]
    },
    {
      "cell_type": "markdown",
      "metadata": {
        "id": "S79p5n4KXIpL"
      },
      "source": [
        "Также функции могут принимать любые типы аргументов как числовые, так и строковые, списки, словари и так далее."
      ]
    },
    {
      "cell_type": "code",
      "execution_count": 32,
      "metadata": {
        "id": "QKROqtfqXQCk"
      },
      "outputs": [
        {
          "name": "stdout",
          "output_type": "stream",
          "text": [
            "15\n",
            "20\n"
          ]
        }
      ],
      "source": [
        "# функция, которая в качестве параметра принимает список\n",
        "# и возвращает сумму его элементов\n",
        "def sum_of_list(lst):\n",
        "    s = 0\n",
        "    for i in lst:\n",
        "        s += i\n",
        "    return s\n",
        "\n",
        "\n",
        "lst = [1, 2, 3, 4, 5]\n",
        "print(sum_of_list(lst))\n",
        "\n",
        "print(sum_of_list([1, 9, 10]))\n"
      ]
    },
    {
      "cell_type": "markdown",
      "metadata": {
        "id": "qtexnqWjip0Q"
      },
      "source": [
        "## Циклы for и while"
      ]
    },
    {
      "cell_type": "markdown",
      "metadata": {
        "id": "wNjUMIYSiUfi"
      },
      "source": [
        "Циклы python — for и while представляют собой операторы языка программирования, то есть операторы итерации, которые позволяют повторять код определенное количество раз."
      ]
    },
    {
      "cell_type": "markdown",
      "metadata": {
        "id": "Cp8YA_JUk16a"
      },
      "source": [
        "### Синтаксис цикла `For`\n",
        "\n"
      ]
    },
    {
      "cell_type": "markdown",
      "metadata": {
        "id": "oB8P5lyIrPkh"
      },
      "source": [
        "Как уже упоминалось ранее, цикл for в Python является итератором, основанным на цикле. Он проходит по элементам list и tuple, строкам, ключам словаря и другим итерируемым объектам.\n",
        "\n",
        "В Python цикл начинается с ключевого слова for, за которым следует произвольное имя переменной, которое будет хранить значения следующего объекта последовательности. Общий синтаксис for...in в python выглядит следующим образом:\n",
        "\n",
        "```\n",
        "for <переменная> in <последовательность>:\n",
        "    <действие>\n",
        "else:\n",
        "    <действие>\n",
        "```\n",
        "\n",
        "Элементы «последовательности» перебираются один за другим «переменной» цикла; если быть точным, переменная указывает на элементы. Для каждого элемента выполняется «действие»."
      ]
    },
    {
      "cell_type": "code",
      "execution_count": 36,
      "metadata": {
        "id": "VDZGItKTlGJ7"
      },
      "outputs": [
        {
          "name": "stdout",
          "output_type": "stream",
          "text": [
            "[1, 3, 6, 1, 9]\n",
            "********************************\n",
            "[1, 3, 6, 1, 9]\n",
            "[2, 4, 7, 2, 10]\n",
            "[1, 3, 6, 1, 9]\n"
          ]
        }
      ],
      "source": [
        "lst = [1, 3, 6, 1, 9]\n",
        "print(lst)\n",
        "print('*'*32)\n",
        "\n",
        "# к каждому элементу списка необходимо добавить число 1\n",
        "for i in lst:\n",
        "    # в переменной i лежит значение элемента списка!\n",
        "    # мы меняем значение переменной i, а не значение в lst!\n",
        "    i += 1\n",
        "\n",
        "# После этого цикла значения в lst НЕ МЕНЯЕТСЯ!\n",
        "print(lst)\n",
        "\n",
        "lst = [1, 3, 6, 1, 9]\n",
        "for i in range(len(lst)):\n",
        "    # в данном случае в переменной i лежат индексы элементов списка\n",
        "    # мы увеличиваем на единицу именно значения внутри списка lst!\n",
        "    lst[i] += 1\n",
        "\n",
        "# После этого цикла значения в lst МЕНЯЕТСЯ!\n",
        "print(lst)\n",
        "\n",
        "lst = [1, 3, 6, 1, 9]\n",
        "for index, value in enumerate(lst):\n",
        "    # в данном случае в переменной index лежат индексы элементов списка\n",
        "    # в переменной value значение элемента списка\n",
        "    # мы меняем значение переменной value, а не значение в lst!\n",
        "    value += 1\n",
        "\n",
        "# После этого цикла значения в lst НЕ МЕНЯЕТСЯ!\n",
        "print(lst)\n"
      ]
    },
    {
      "cell_type": "markdown",
      "metadata": {
        "id": "M97HWrs8mcdQ"
      },
      "source": [
        "Блок else является особенным.\n",
        "\n",
        "Он будет выполнен только в том случае, если цикл не был «остановлен» оператором break. Таким образом, он будет выполнен только после того, как все элементы последовательности будут пройдены.\n",
        "\n",
        "Если в программе цикл for должен быть прерван оператором break, цикл будет завершен, и поток программы будет продолжен без выполнения действий из else.\n",
        "\n",
        "Обычно фразы **break** в Python связаны с условными операторами."
      ]
    },
    {
      "cell_type": "code",
      "execution_count": 40,
      "metadata": {
        "id": "EXXAhyPImj7U"
      },
      "outputs": [
        {
          "name": "stdout",
          "output_type": "stream",
          "text": [
            "Другие имена Петр\n",
            "Другие имена Иван\n",
            "Меня зовут Максим!\n"
          ]
        }
      ],
      "source": [
        "names = [\"Петр\", \"Иван\", \"Максим\", \"Мария\"]\n",
        "\n",
        "# Цикл поочередно перебирает имена в списке\n",
        "# Как только мы нашли имя Максим, цикл необходимо\n",
        "# прервать и не просматривать следующие элементы\n",
        "for name in names:\n",
        "    if name == \"Максим\":\n",
        "        print(\"Меня зовут Максим!\")\n",
        "        break\n",
        "\n",
        "    print(\"Другие имена\", name)\n",
        "else:\n",
        "    print(\"Спасибо, теперь я знаю все имена\")\n"
      ]
    },
    {
      "cell_type": "markdown",
      "metadata": {
        "id": "lJy-pFo5neUw"
      },
      "source": [
        "Оператор пропуска Python — **continue**\n",
        "\n",
        "Предположим, имя \"Максим\" нам нужно просто пропустить и продолжить дальше перебор имен. Тогда нужно использовать оператор continue, для перехода к следующему элементу.\n",
        "\n",
        "В следующем маленьком скрипте python мы используем continue, чтобы продолжить, итерацию по списку, когда мы сталкиваемся с нужным именем."
      ]
    },
    {
      "cell_type": "code",
      "execution_count": 41,
      "metadata": {
        "id": "fSAhBwRZns8V"
      },
      "outputs": [
        {
          "name": "stdout",
          "output_type": "stream",
          "text": [
            "Другие имена Петр\n",
            "Другие имена Иван\n",
            "Меня зовут Максим!\n",
            "Другие имена Мария\n",
            "Спасибо, теперь я знаю все имена\n"
          ]
        }
      ],
      "source": [
        "names = [\"Петр\", \"Иван\", \"Максим\", \"Мария\"]\n",
        "\n",
        "for name in names:\n",
        "    if name == \"Максим\":\n",
        "        print(\"Меня зовут Максим!\")\n",
        "        continue\n",
        "\n",
        "    print(\"Другие имена\", name)\n",
        "else:\n",
        "    print(\"Спасибо, теперь я знаю все имена\")\n"
      ]
    },
    {
      "cell_type": "code",
      "execution_count": 42,
      "metadata": {
        "colab": {
          "base_uri": "https://localhost:8080/"
        },
        "id": "8Et0Yut6-Hun",
        "outputId": "462f87c0-ea91-4ef6-eb67-ae24c1a8df38"
      },
      "outputs": [
        {
          "name": "stdout",
          "output_type": "stream",
          "text": [
            "10\n",
            "11\n",
            "12\n",
            "10\n",
            "11\n",
            "12\n"
          ]
        }
      ],
      "source": [
        "for i in range(1, 3):\n",
        "    i = 10\n",
        "    print(i)\n",
        "    i = 11\n",
        "    print(i)\n",
        "    i = 12\n",
        "    print(i)\n"
      ]
    },
    {
      "cell_type": "markdown",
      "metadata": {
        "id": "hYDlhcezoJS4"
      },
      "source": [
        "### Синтаксис `while`"
      ]
    },
    {
      "cell_type": "markdown",
      "metadata": {
        "id": "gqsgnbSgrJhw"
      },
      "source": [
        "\n",
        "```\n",
        "while <условие (булевское выражение)>:\n",
        "    <code>\n",
        "```\n",
        "\n",
        "Здесь код, написанный вместо `code` будет выполняться каждую итерацию цикла, пока условие после `while` будет выполняться.\n",
        "\n",
        "Посмотрим на примере: Напишем цикл, в котором будем выводить переменную x и увеличивать x на 1, пока x не станет больше 10:"
      ]
    },
    {
      "cell_type": "code",
      "execution_count": 43,
      "metadata": {
        "colab": {
          "base_uri": "https://localhost:8080/"
        },
        "id": "Hf-lL9zNoVkL",
        "outputId": "edeef185-3ac1-43d7-d22d-b9170977d731"
      },
      "outputs": [
        {
          "name": "stdout",
          "output_type": "stream",
          "text": [
            "1\n",
            "2\n",
            "3\n",
            "4\n",
            "5\n",
            "6\n",
            "7\n",
            "8\n",
            "9\n",
            "10\n"
          ]
        }
      ],
      "source": [
        "x = 1\n",
        "\n",
        "while x <= 10:\n",
        "    print(x)\n",
        "    # более удобный способ записи x = x + 1\n",
        "    x += 1\n"
      ]
    },
    {
      "cell_type": "markdown",
      "metadata": {
        "id": "-mYgpFLuqT2G"
      },
      "source": [
        "Цикл while является своего рода условным оператором. Вот что значит этот код: пока переменная i меньше 10, её нужно выводить на экран. Далее, в конце, мы увеличиваем её значение на единицу. Если вы запустите этот код, он выдаст от 1 до 10, каждая цифра будет в отдельной строке, после чего задача будет выполнена. Если вы удалите ту часть, в которой мы увеличиваем значение i, то мы получим бесконечный цикл. \n",
        "\n",
        "В циклах `while` также можно использовать оператор break и continue."
      ]
    },
    {
      "cell_type": "code",
      "execution_count": 44,
      "metadata": {
        "colab": {
          "base_uri": "https://localhost:8080/"
        },
        "id": "hMrwS9teqdxg",
        "outputId": "41db539b-b3f1-4703-95e0-3c40512d8e3e"
      },
      "outputs": [
        {
          "name": "stdout",
          "output_type": "stream",
          "text": [
            "1\n",
            "2\n",
            "3\n",
            "4\n",
            "5\n"
          ]
        }
      ],
      "source": [
        "x = 1\n",
        "\n",
        "while x < 10:\n",
        "    print(x)\n",
        "\n",
        "    if x == 5:\n",
        "        break\n",
        "\n",
        "    x += 1\n"
      ]
    },
    {
      "cell_type": "code",
      "execution_count": 45,
      "metadata": {
        "colab": {
          "base_uri": "https://localhost:8080/"
        },
        "id": "NUnhQoIRq47g",
        "outputId": "f3badfca-c2a6-4478-934b-61c945808162"
      },
      "outputs": [
        {
          "name": "stdout",
          "output_type": "stream",
          "text": [
            "1\n",
            "2\n",
            "4\n",
            "5\n"
          ]
        }
      ],
      "source": [
        "x = 1\n",
        "\n",
        "while x < 10:\n",
        "    if x == 3:\n",
        "        x += 1\n",
        "        continue\n",
        "\n",
        "    print(x)\n",
        "    if x == 5:\n",
        "        break\n",
        "\n",
        "    x += 1\n"
      ]
    },
    {
      "cell_type": "markdown",
      "metadata": {
        "id": "1iXQqU-UNQGG"
      },
      "source": [
        "## Область видимости"
      ]
    },
    {
      "cell_type": "markdown",
      "metadata": {
        "id": "2vgaxa2pQOJ0"
      },
      "source": [
        "Некоторые переменные программы могут быть недоступны некоторым областям данной программы. Все зависит от того, где вы объявили эти переменные.\n",
        "\n",
        "В Python две базовых области видимости переменных:\n",
        "- Глобальные переменные\n",
        "- Локальные переменные\n",
        "\n",
        "Переменные объявленные внутри тела функции имеют локальную область видимости, те что объявлены вне какой-либо функции имеют глобальную область видимости.\n",
        "\n",
        "Это означает, что доступ к локальным переменным имеют только те функции, в которых они были объявлены, в то время как доступ к глобальным переменным можно получить по всей программе в любой функции."
      ]
    },
    {
      "cell_type": "code",
      "execution_count": 51,
      "metadata": {
        "id": "qFUDLXIOQIPD"
      },
      "outputs": [
        {
          "name": "stdout",
          "output_type": "stream",
          "text": [
            "Hello\n"
          ]
        },
        {
          "data": {
            "text/plain": [
              "103"
            ]
          },
          "execution_count": 51,
          "metadata": {},
          "output_type": "execute_result"
        }
      ],
      "source": [
        "# Question: Области видимости очень хорошо показать в VS code\n",
        "# при отладке кода!\n",
        "\n",
        "# z - глобальная переменная и может быть использована\n",
        "# в любом месте программы (в том числе внутри функции)\n",
        "z = 100\n",
        "\n",
        "\n",
        "def summa(x, y):\n",
        "    s = x + y\n",
        "    return None\n",
        "\n",
        "\n",
        "def summa1(x, y):\n",
        "    s = x + y + z\n",
        "    return s\n",
        "\n",
        "\n",
        "# вызовем функцию и передадим ей два числа 1 и 2\n",
        "summa(1, 2)\n",
        "print(s)\n",
        "# тут возникнет ошибка (так как вне функции переменная s не доступна)\n",
        "\n",
        "summa1(1, 2)\n",
        "# в данной случае функция вернет сумму трех числе 1 + 2 + 100,\n",
        "# так как переменная z доступна в любой части программы\n",
        "# в том числе внутри функций\n"
      ]
    },
    {
      "cell_type": "markdown",
      "metadata": {
        "id": "PvEBQds_R2Em"
      },
      "source": [
        "Важно помнить, что для того чтобы получить доступ к глобальной переменной, достаточно лишь указать ее имя. Однако, если перед нами стоит задача изменить глобальную переменную внутри функции - необходимо использовать ключевое слово **global**."
      ]
    },
    {
      "cell_type": "code",
      "execution_count": 54,
      "metadata": {
        "id": "YHgY4TOGR367"
      },
      "outputs": [],
      "source": [
        "z = 0\n",
        "\n",
        "\n",
        "def summa(x, y):\n",
        "    # создается локальная переменная z\n",
        "    z = x + y\n",
        "    return None\n",
        "\n",
        "\n",
        "def summa1(x, y):\n",
        "    global z\n",
        "    # изменяется значение глобальной переменной\n",
        "    z = x + y\n",
        "    return None\n",
        "\n",
        "\n",
        "summa(1, 2)\n",
        "# при вызове данной функции значение глобальной переменной z не измениться\n",
        "summa1(1, 2)\n",
        "# при вызове данной функции значение глобальной переменной z  измениться\n"
      ]
    },
    {
      "cell_type": "markdown",
      "metadata": {
        "id": "jWUQZ7olS4Ts"
      },
      "source": [
        "## Задания"
      ]
    },
    {
      "cell_type": "markdown",
      "metadata": {
        "id": "d97xcXfZTIea"
      },
      "source": [
        "**Задача 1.**\n",
        "\n",
        "Даны четыре действительных числа: x1, y1, x2, y2. Напишите функцию distance(x1, y1, x2, y2), вычисляющая расстояние между точкой (x1,y1) и (x2,y2)."
      ]
    },
    {
      "cell_type": "code",
      "execution_count": 55,
      "metadata": {
        "id": "FwoN8YrfS8S9"
      },
      "outputs": [
        {
          "data": {
            "text/plain": [
              "4.242640687119285"
            ]
          },
          "execution_count": 55,
          "metadata": {},
          "output_type": "execute_result"
        }
      ],
      "source": [
        "def distance(x1, y1, x2, y2):\n",
        "    dist = ((x2 - x1)**2 + (y2 - y1)**2)**0.5\n",
        "    return dist\n",
        "\n",
        "\n",
        "distance(0, 0, 3, 3)\n"
      ]
    },
    {
      "cell_type": "markdown",
      "metadata": {
        "id": "04v60qczU_fi"
      },
      "source": [
        "**Задача 2.**\n",
        "\n",
        "Написать функцию season(month), принимающую 1 аргумент — номер месяца (от 1 до 12), которая присваивает глобальной переменной s время года, которому этот месяц принадлежит (зима, весна, лето или осень)."
      ]
    },
    {
      "cell_type": "code",
      "execution_count": 59,
      "metadata": {
        "id": "j56j5EvKWsy1"
      },
      "outputs": [
        {
          "name": "stdout",
          "output_type": "stream",
          "text": [
            "лето\n"
          ]
        }
      ],
      "source": [
        "s = ''\n",
        "\n",
        "\n",
        "def season(month):\n",
        "    global s\n",
        "\n",
        "    seasons = {(1, 2, 12): 'зима',\n",
        "               (3, 4, 5): 'весна',\n",
        "               (6, 7, 8): 'лето',\n",
        "               (9, 10, 11): 'осень'}\n",
        "\n",
        "    for month_i in seasons:\n",
        "        if month in month_i:\n",
        "            s = seasons[month_i]\n",
        "\n",
        "\n",
        "season(6)\n",
        "print(s)\n"
      ]
    },
    {
      "cell_type": "markdown",
      "metadata": {
        "id": "Xo4YtE9XWwJ-"
      },
      "source": [
        "**Задача 3.**\n",
        "\n",
        "Написать функцию is_prime, принимающую 1 аргумент — число от 0 до 1000, и возвращающую True, если оно простое, и False - иначе."
      ]
    },
    {
      "cell_type": "code",
      "execution_count": 66,
      "metadata": {
        "id": "JaI9rY6cW0YA"
      },
      "outputs": [
        {
          "data": {
            "text/plain": [
              "True"
            ]
          },
          "execution_count": 66,
          "metadata": {},
          "output_type": "execute_result"
        }
      ],
      "source": [
        "def is_prime(num):\n",
        "    if num in (2, 3):\n",
        "        return True\n",
        "\n",
        "    if num % 2 == 0 or num < 2:\n",
        "        return False\n",
        "\n",
        "    for n in range(3, int(num**0.5) + 1, 2):\n",
        "        if num % n == 0:\n",
        "            return False\n",
        "\n",
        "    return True\n",
        "\n",
        "\n",
        "is_prime(5)\n"
      ]
    },
    {
      "cell_type": "markdown",
      "metadata": {
        "id": "siBlTugkX5Il"
      },
      "source": [
        "**Задача 4.**\n",
        "\n",
        "Написать функцию reverse_list(lst), которая принимает в качестве аргумента список и возвращаем его в перевернутом виде.\n",
        "\n",
        "Например,\n",
        "- исходный список:  8, 1, 0, 4\n",
        "- полученный список: 4, 0, 1, 8\n",
        "\n",
        "Использовать встроенные функции Python нельзя. "
      ]
    },
    {
      "cell_type": "code",
      "execution_count": 67,
      "metadata": {
        "id": "6YqPaxokYT1_"
      },
      "outputs": [
        {
          "data": {
            "text/plain": [
              "[4, 0, 1, 8]"
            ]
          },
          "execution_count": 67,
          "metadata": {},
          "output_type": "execute_result"
        }
      ],
      "source": [
        "def reverse_list(lst):\n",
        "    return lst[::-1]\n",
        "\n",
        "\n",
        "lst = [8, 1, 0, 4]\n",
        "reverse_list(lst)\n"
      ]
    },
    {
      "cell_type": "markdown",
      "metadata": {
        "id": "4UUcGbHWr3wn"
      },
      "source": [
        "**Задача 5.**\n",
        "\n",
        "Распечатайте с 4 по 8 символ фразы \"Привет мир!\" приведенные к верхнему регистру."
      ]
    },
    {
      "cell_type": "code",
      "execution_count": 69,
      "metadata": {
        "id": "ICMD_GzvsETR"
      },
      "outputs": [
        {
          "name": "stdout",
          "output_type": "stream",
          "text": [
            "ЕТ МИ\n"
          ]
        }
      ],
      "source": [
        "phrase = \"Привет мир!\"\n",
        "print(phrase[4:9].upper())"
      ]
    },
    {
      "cell_type": "markdown",
      "metadata": {
        "id": "Ei25f1pVsQLt"
      },
      "source": [
        "**Задача 6.**\n",
        "\n",
        "Напишите код, который все элементы массива x с нечетными индексами переставит в обратном порядке.\n",
        "\n",
        "Т.е. если x = [0, 1, 2, 3, 4, 5, 6, 7, 8, 9], то код должен получать [0, 9, 2, 7, 4, 5, 6, 3, 8, 1]"
      ]
    },
    {
      "cell_type": "code",
      "execution_count": 70,
      "metadata": {
        "id": "o93nN1cJsXNy"
      },
      "outputs": [
        {
          "name": "stdout",
          "output_type": "stream",
          "text": [
            "[0, 9, 2, 7, 4, 5, 6, 3, 8, 1]\n"
          ]
        }
      ],
      "source": [
        "lst = [0, 1, 2, 3, 4, 5, 6, 7, 8, 9]\n",
        "\n",
        "lst[1::2] = reversed(lst[1::2])\n",
        "print(lst)\n"
      ]
    },
    {
      "cell_type": "markdown",
      "metadata": {
        "id": "-qcaQystsXYY"
      },
      "source": [
        "**Задача 7.**\n",
        "\n",
        "Напишите цикл, который выводит все числа от 0 до 500, делящиеся на 7, если в них есть цифра 8."
      ]
    },
    {
      "cell_type": "code",
      "execution_count": 76,
      "metadata": {
        "id": "5-d0zkldsuvr"
      },
      "outputs": [
        {
          "name": "stdout",
          "output_type": "stream",
          "text": [
            "28\n",
            "84\n",
            "98\n",
            "168\n",
            "182\n",
            "189\n",
            "238\n",
            "280\n",
            "287\n",
            "308\n",
            "378\n",
            "385\n",
            "448\n",
            "483\n"
          ]
        }
      ],
      "source": [
        "for i in range(500):\n",
        "    if (i % 7 == 0) and ('8' in str(i)):\n",
        "        print(i)\n"
      ]
    },
    {
      "cell_type": "markdown",
      "metadata": {
        "id": "CTWMY6f9su7P"
      },
      "source": [
        "**Задача 8.**\n",
        "\n",
        "На вход функция more_than_five(lst) получает список из целых чисел. \n",
        "Результатом работы функции должен стать новый список, в котором содержатся только те числа, которые больше 10 по модулю."
      ]
    },
    {
      "cell_type": "code",
      "execution_count": 77,
      "metadata": {
        "id": "ChE1X9wvtMzQ"
      },
      "outputs": [
        {
          "name": "stdout",
          "output_type": "stream",
          "text": [
            "[11, 12, 13, 14]\n"
          ]
        }
      ],
      "source": [
        "def more_than_ten(lst):\n",
        "    res_lst = [i for i in lst if i > 10]\n",
        "    return res_lst\n",
        "\n",
        "\n",
        "lst = list(range(15))\n",
        "print(more_than_ten(lst))\n"
      ]
    }
  ],
  "metadata": {
    "colab": {
      "name": "01 Урок: Основы Python.ipynb",
      "provenance": []
    },
    "kernelspec": {
      "display_name": "Python 3.9.12 ('base')",
      "language": "python",
      "name": "python3"
    },
    "language_info": {
      "codemirror_mode": {
        "name": "ipython",
        "version": 3
      },
      "file_extension": ".py",
      "mimetype": "text/x-python",
      "name": "python",
      "nbconvert_exporter": "python",
      "pygments_lexer": "ipython3",
      "version": "3.9.12"
    },
    "vscode": {
      "interpreter": {
        "hash": "ad2bdc8ecc057115af97d19610ffacc2b4e99fae6737bb82f5d7fb13d2f2c186"
      }
    }
  },
  "nbformat": 4,
  "nbformat_minor": 0
}
